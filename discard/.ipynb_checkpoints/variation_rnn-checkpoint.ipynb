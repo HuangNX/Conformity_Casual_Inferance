{
 "cells": [
  {
   "cell_type": "code",
   "execution_count": 1,
   "id": "14cdc1ce-57e4-4013-9e4b-f3b4bf9c30c2",
   "metadata": {},
   "outputs": [
    {
     "name": "stderr",
     "output_type": "stream",
     "text": [
      "2024-03-11 11:56:55.027472: I tensorflow/core/util/port.cc:110] oneDNN custom operations are on. You may see slightly different numerical results due to floating-point round-off errors from different computation orders. To turn them off, set the environment variable `TF_ENABLE_ONEDNN_OPTS=0`.\n",
      "2024-03-11 11:56:55.063554: I tensorflow/core/platform/cpu_feature_guard.cc:182] This TensorFlow binary is optimized to use available CPU instructions in performance-critical operations.\n",
      "To enable the following instructions: AVX2 AVX512F AVX512_VNNI AVX512_BF16 FMA, in other operations, rebuild TensorFlow with the appropriate compiler flags.\n",
      "2024-03-11 11:56:55.667853: W tensorflow/compiler/tf2tensorrt/utils/py_utils.cc:38] TF-TRT Warning: Could not find TensorRT\n"
     ]
    }
   ],
   "source": [
    "import tensorflow as tf\n",
    "from tensorflow.keras import layers, models"
   ]
  },
  {
   "cell_type": "markdown",
   "id": "a0fec295-9385-43ba-8761-2da368d10628",
   "metadata": {},
   "source": [
    "implementation of the Variational Recurrent\n",
    "Neural Network (VRNN) from https://arxiv.org/abs/1506.02216\n",
    "using unimodal isotropic gaussian distributions for \n",
    "inference, prior, and generating models."
   ]
  },
  {
   "cell_type": "code",
   "execution_count": null,
   "id": "83f662b0-7c81-4087-96ea-8958cc721420",
   "metadata": {},
   "outputs": [],
   "source": [
    "class vrnn(models.Model):\n",
    "    def __init__(self, x_dim, h_dim, z_dim, n_layers, bias=False):\n",
    "        super(VRNN, self).__init__()\n",
    "        \n",
    "        self.x_dim = x_dim\n",
    "        self.h_dim = h_dim\n",
    "        self.z_dim = z_dim\n",
    "        self.n_layers = n_layers\n",
    "        self.EPS = tf.constant(1e-6) # very small values, avoid numerical problem during iterations\n",
    "        \n",
    "        # 1. feature-extracting transformations (\\phi function definition)\n",
    "        # -----------------------------------------------------------------\n",
    "        # \\phi^x_\\tau(x)\n",
    "        self.phi_x = models.Sequential([\n",
    "            layers.Dense(h_dim, activation='relu'),\n",
    "            layers.Dense(h_dim, activation='relu')\n",
    "        ])\n",
    "        # \\phi^z_\\tau(z)\n",
    "        self.phi_z = models.Sequential([\n",
    "            layers.Dense(h_dim, activation='relu')\n",
    "        ])\n",
    "        \n",
    "        # 2. encoder (Eq.9)\n",
    "        # -----------------------------------------------------------------\n",
    "        # \\phi^{enc}_\\tau()\n",
    "        self.enc = models.Sequential([\n",
    "            layers.Dense(h_dim, activation='relu'),\n",
    "            layers.Dense(h_dim, activation='relu')\n",
    "        ])\n",
    "        # \\mu_{z,t}\n",
    "        self.enc_mean = layers.Dense(z_dim)\n",
    "        # \\sigma_{z,t}\n",
    "        self.enc_std = models.Sequential([\n",
    "            layers.Dense(z_dim),\n",
    "            layers.Softplus()\n",
    "        ])\n",
    "         # SoftPlus is a smooth approximation to \n",
    "         # the ReLU function and can be used to constrain the output of a machine to always be positive."
   ]
  }
 ],
 "metadata": {
  "kernelspec": {
   "display_name": "new_causal",
   "language": "python",
   "name": "new_causal"
  },
  "language_info": {
   "codemirror_mode": {
    "name": "ipython",
    "version": 3
   },
   "file_extension": ".py",
   "mimetype": "text/x-python",
   "name": "python",
   "nbconvert_exporter": "python",
   "pygments_lexer": "ipython3",
   "version": "3.8.10"
  }
 },
 "nbformat": 4,
 "nbformat_minor": 5
}
