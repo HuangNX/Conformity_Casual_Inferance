{
 "cells": [
  {
   "cell_type": "code",
   "execution_count": null,
   "id": "912e1db7-451e-4c3b-b6b5-071b3ae03ac2",
   "metadata": {},
   "outputs": [],
   "source": [
    "import numpy as np\n",
    "import pandas as pd\n",
    "import pickle\n",
    "from matplotlib import pyplot as plt\n",
    "import matplotlib.colors as mcolors\n",
    "import seaborn as sns\n",
    "import statsmodels.api as sm\n",
    "import statsmodels.formula.api as smf\n",
    "from sklearn.linear_model import LogisticRegression\n",
    "\n",
    "from datetime import datetime, timedelta\n",
    "# from causallib.estimation import IPW"
   ]
  },
  {
   "cell_type": "code",
   "execution_count": null,
   "id": "7f8f1af9-dcce-4828-afa1-660f823ed99e",
   "metadata": {},
   "outputs": [],
   "source": [
    "from rmsn.script_rnn_predict import rnn_predict\n",
    "from feature_engineer import Feature_Engineering\n",
    "from utils.evaluation_utils import load_data\n",
    "import copy\n",
    "import gc"
   ]
  },
  {
   "cell_type": "code",
   "execution_count": null,
   "id": "7f965d73-fbf9-450e-843d-47f1f13ce0ef",
   "metadata": {},
   "outputs": [],
   "source": []
  },
  {
   "cell_type": "code",
   "execution_count": null,
   "id": "7ee10b40-8473-47c0-8d88-50a650360f12",
   "metadata": {},
   "outputs": [],
   "source": []
  },
  {
   "cell_type": "code",
   "execution_count": null,
   "id": "a454b321-7bb7-45d2-b91c-d8ac335224f6",
   "metadata": {},
   "outputs": [],
   "source": []
  },
  {
   "cell_type": "code",
   "execution_count": null,
   "id": "93e49f77-da15-4af4-ba8a-d468cfd7e8d3",
   "metadata": {},
   "outputs": [],
   "source": [
    "for key in dataset.keys():\n",
    "    print(key)\n",
    "    print(dataset[key].shape)"
   ]
  }
 ],
 "metadata": {
  "kernelspec": {
   "display_name": "new_causal",
   "language": "python",
   "name": "new_causal"
  },
  "language_info": {
   "codemirror_mode": {
    "name": "ipython",
    "version": 3
   },
   "file_extension": ".py",
   "mimetype": "text/x-python",
   "name": "python",
   "nbconvert_exporter": "python",
   "pygments_lexer": "ipython3",
   "version": "3.8.10"
  }
 },
 "nbformat": 4,
 "nbformat_minor": 5
}
