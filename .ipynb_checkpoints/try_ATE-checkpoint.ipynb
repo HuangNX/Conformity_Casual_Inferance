{
 "cells": [
  {
   "cell_type": "code",
   "execution_count": 126,
   "id": "95d8fddc-885c-4f5b-9cfc-4e7d8ae56c1b",
   "metadata": {},
   "outputs": [],
   "source": [
    "import numpy as np\n",
    "import pandas as pd\n",
    "import pickle\n",
    "from matplotlib import pyplot as plt\n",
    "\n",
    "import statsmodels.api as sm\n",
    "import statsmodels.formula.api as smf\n",
    "from sklearn.linear_model import LogisticRegression\n",
    "from causallib.estimation import IPW"
   ]
  },
  {
   "cell_type": "code",
   "execution_count": 167,
   "id": "57a649ca-a600-4ccb-9964-79dcf88c991f",
   "metadata": {},
   "outputs": [
    {
     "name": "stdout",
     "output_type": "stream",
     "text": [
      "(4005, 150, 1)\n"
     ]
    }
   ],
   "source": [
    "# 导入iptw权重\n",
    "iptw = np.load('results/rmsn_test_tsd_gamma_0.6_use_confounders_False/propensity_scores.npy')\n",
    "print(iptw.shape)"
   ]
  },
  {
   "cell_type": "code",
   "execution_count": 169,
   "id": "2d33eb58-dfd1-466c-bbb2-006a8156d1d5",
   "metadata": {},
   "outputs": [
    {
     "name": "stdout",
     "output_type": "stream",
     "text": [
      "[[[ 1.        ]\n",
      "  [-0.29527194]\n",
      "  [ 0.73608872]\n",
      "  ...\n",
      "  [ 0.99909341]\n",
      "  [ 1.00622832]\n",
      "  [ 0.63457804]]\n",
      "\n",
      " [[ 1.        ]\n",
      "  [ 0.34049848]\n",
      "  [ 0.74728592]\n",
      "  ...\n",
      "  [ 1.01321041]\n",
      "  [ 0.99836818]\n",
      "  [ 1.01083692]]\n",
      "\n",
      " [[ 1.        ]\n",
      "  [ 0.69111136]\n",
      "  [ 0.78090883]\n",
      "  ...\n",
      "  [ 0.99738315]\n",
      "  [ 0.99706907]\n",
      "  [ 0.99739725]]\n",
      "\n",
      " ...\n",
      "\n",
      " [[ 1.        ]\n",
      "  [ 0.78106945]\n",
      "  [-0.29527194]\n",
      "  ...\n",
      "  [ 0.95629642]\n",
      "  [ 1.21296773]\n",
      "  [ 1.17288426]]\n",
      "\n",
      " [[ 1.        ]\n",
      "  [ 0.6777324 ]\n",
      "  [ 0.7760521 ]\n",
      "  ...\n",
      "  [ 0.99662502]\n",
      "  [ 0.99667032]\n",
      "  [ 0.99668689]]\n",
      "\n",
      " [[ 1.        ]\n",
      "  [ 1.66974954]\n",
      "  [ 0.77413087]\n",
      "  ...\n",
      "  [ 0.99880715]\n",
      "  [ 0.99877698]\n",
      "  [ 0.99878318]]]\n"
     ]
    }
   ],
   "source": [
    "print(iptw)"
   ]
  },
  {
   "cell_type": "code",
   "execution_count": 107,
   "id": "c4620549-2361-4816-b2fd-f195c85b4f3a",
   "metadata": {
    "tags": []
   },
   "outputs": [
    {
     "name": "stdout",
     "output_type": "stream",
     "text": [
      "['previous_covariates', 'previous_treatments', 'covariates', 'treatments', 'sequence_length', 'outcomes']\n"
     ]
    }
   ],
   "source": [
    "# 导入数据\n",
    "def load_data_from_file(filename):\n",
    "    with open(filename, 'rb') as handle:\n",
    "        return pickle.load(handle)\n",
    "\n",
    "# 使用函数加载数据\n",
    "filename = \"data/real_data_norm2.txt\"  # 更改为您的文件名\n",
    "data = load_data_from_file(filename)\n",
    "print(list(data.keys()))"
   ]
  },
  {
   "cell_type": "code",
   "execution_count": 35,
   "id": "707b5799-17e1-40c8-9858-63915a258cd7",
   "metadata": {},
   "outputs": [
    {
     "name": "stdout",
     "output_type": "stream",
     "text": [
      "(5000, 151, 8)\n"
     ]
    }
   ],
   "source": [
    "print(data['covariates'].shape)"
   ]
  },
  {
   "cell_type": "code",
   "execution_count": 108,
   "id": "9b898aaf-8632-412d-8c65-84c9abbfdb35",
   "metadata": {},
   "outputs": [],
   "source": [
    "# 构建变量\n",
    "covariate_cols = ['gender','age','income3','weekday','sprtransp','spring','precip', 'voluntary']\n",
    "treatment_cols = ['conformity','restrict','open']\n",
    "outcome_col = 'move_distance'\n",
    "\n",
    "X = pd.DataFrame(data['covariates'].reshape(-1,8), columns=covariate_cols)\n",
    "TREAT = pd.DataFrame(data['treatments'].reshape(-1,3), columns=treatment_cols)\n",
    "Y = pd.DataFrame(data['outcomes'].reshape(-1), columns=[outcome_col])\n",
    "W = pd.DataFrame(iptw.reshape(-1), columns=['iptw'])\n",
    "\n",
    "ts = np.tile(np.arange(1, 152), 5000)\n",
    "X['t']=ts\n",
    "TREAT['t']=ts\n",
    "Y['t']=ts\n",
    "ts = np.tile(np.arange(1, 151), 4005)\n",
    "W['t']=ts"
   ]
  },
  {
   "cell_type": "code",
   "execution_count": 50,
   "id": "c86cbfdc-9a4c-4147-b9cc-e6c96d410c7e",
   "metadata": {},
   "outputs": [
    {
     "data": {
      "text/html": [
       "<div>\n",
       "<style scoped>\n",
       "    .dataframe tbody tr th:only-of-type {\n",
       "        vertical-align: middle;\n",
       "    }\n",
       "\n",
       "    .dataframe tbody tr th {\n",
       "        vertical-align: top;\n",
       "    }\n",
       "\n",
       "    .dataframe thead th {\n",
       "        text-align: right;\n",
       "    }\n",
       "</style>\n",
       "<table border=\"1\" class=\"dataframe\">\n",
       "  <thead>\n",
       "    <tr style=\"text-align: right;\">\n",
       "      <th></th>\n",
       "      <th>gender</th>\n",
       "      <th>age</th>\n",
       "      <th>income3</th>\n",
       "      <th>weekday</th>\n",
       "      <th>sprtransp</th>\n",
       "      <th>spring</th>\n",
       "      <th>precip</th>\n",
       "      <th>voluntary</th>\n",
       "      <th>t</th>\n",
       "    </tr>\n",
       "  </thead>\n",
       "  <tbody>\n",
       "    <tr>\n",
       "      <th>0</th>\n",
       "      <td>0.665896</td>\n",
       "      <td>-0.141345</td>\n",
       "      <td>-0.014966</td>\n",
       "      <td>-0.019904</td>\n",
       "      <td>-0.236525</td>\n",
       "      <td>-0.266312</td>\n",
       "      <td>-0.326284</td>\n",
       "      <td>-0.364627</td>\n",
       "      <td>1</td>\n",
       "    </tr>\n",
       "    <tr>\n",
       "      <th>1</th>\n",
       "      <td>0.665896</td>\n",
       "      <td>-0.141345</td>\n",
       "      <td>-0.014966</td>\n",
       "      <td>0.481025</td>\n",
       "      <td>-0.236525</td>\n",
       "      <td>-0.266312</td>\n",
       "      <td>-0.326284</td>\n",
       "      <td>-0.364627</td>\n",
       "      <td>2</td>\n",
       "    </tr>\n",
       "    <tr>\n",
       "      <th>2</th>\n",
       "      <td>0.665896</td>\n",
       "      <td>-0.141345</td>\n",
       "      <td>-0.014966</td>\n",
       "      <td>0.981954</td>\n",
       "      <td>-0.236525</td>\n",
       "      <td>-0.266312</td>\n",
       "      <td>-0.326284</td>\n",
       "      <td>-0.364627</td>\n",
       "      <td>3</td>\n",
       "    </tr>\n",
       "    <tr>\n",
       "      <th>3</th>\n",
       "      <td>0.665896</td>\n",
       "      <td>-0.141345</td>\n",
       "      <td>-0.014966</td>\n",
       "      <td>1.482883</td>\n",
       "      <td>-0.236525</td>\n",
       "      <td>-0.266312</td>\n",
       "      <td>-0.326284</td>\n",
       "      <td>-0.364627</td>\n",
       "      <td>4</td>\n",
       "    </tr>\n",
       "    <tr>\n",
       "      <th>4</th>\n",
       "      <td>0.665896</td>\n",
       "      <td>-0.141345</td>\n",
       "      <td>-0.014966</td>\n",
       "      <td>-1.522692</td>\n",
       "      <td>-0.236525</td>\n",
       "      <td>-0.266312</td>\n",
       "      <td>-0.326284</td>\n",
       "      <td>-0.364627</td>\n",
       "      <td>5</td>\n",
       "    </tr>\n",
       "    <tr>\n",
       "      <th>...</th>\n",
       "      <td>...</td>\n",
       "      <td>...</td>\n",
       "      <td>...</td>\n",
       "      <td>...</td>\n",
       "      <td>...</td>\n",
       "      <td>...</td>\n",
       "      <td>...</td>\n",
       "      <td>...</td>\n",
       "      <td>...</td>\n",
       "    </tr>\n",
       "    <tr>\n",
       "      <th>604751</th>\n",
       "      <td>0.665896</td>\n",
       "      <td>-0.141345</td>\n",
       "      <td>-0.014966</td>\n",
       "      <td>-0.019904</td>\n",
       "      <td>-0.236525</td>\n",
       "      <td>-0.266312</td>\n",
       "      <td>-0.304220</td>\n",
       "      <td>-0.364627</td>\n",
       "      <td>148</td>\n",
       "    </tr>\n",
       "    <tr>\n",
       "      <th>604752</th>\n",
       "      <td>0.665896</td>\n",
       "      <td>-0.141345</td>\n",
       "      <td>-0.014966</td>\n",
       "      <td>0.481025</td>\n",
       "      <td>-0.236525</td>\n",
       "      <td>-0.266312</td>\n",
       "      <td>-0.326284</td>\n",
       "      <td>-0.364627</td>\n",
       "      <td>149</td>\n",
       "    </tr>\n",
       "    <tr>\n",
       "      <th>604753</th>\n",
       "      <td>0.665896</td>\n",
       "      <td>-0.141345</td>\n",
       "      <td>-0.014966</td>\n",
       "      <td>0.981954</td>\n",
       "      <td>-0.236525</td>\n",
       "      <td>-0.266312</td>\n",
       "      <td>5.024231</td>\n",
       "      <td>-0.364627</td>\n",
       "      <td>150</td>\n",
       "    </tr>\n",
       "    <tr>\n",
       "      <th>604754</th>\n",
       "      <td>0.665896</td>\n",
       "      <td>-0.141345</td>\n",
       "      <td>-0.014966</td>\n",
       "      <td>1.482883</td>\n",
       "      <td>-0.236525</td>\n",
       "      <td>-0.266312</td>\n",
       "      <td>-0.304220</td>\n",
       "      <td>-0.364627</td>\n",
       "      <td>151</td>\n",
       "    </tr>\n",
       "    <tr>\n",
       "      <th>604755</th>\n",
       "      <td>0.665896</td>\n",
       "      <td>-0.141345</td>\n",
       "      <td>1.577133</td>\n",
       "      <td>-0.019904</td>\n",
       "      <td>-0.236525</td>\n",
       "      <td>-0.266312</td>\n",
       "      <td>-0.326284</td>\n",
       "      <td>-0.364627</td>\n",
       "      <td>1</td>\n",
       "    </tr>\n",
       "  </tbody>\n",
       "</table>\n",
       "<p>604756 rows × 9 columns</p>\n",
       "</div>"
      ],
      "text/plain": [
       "          gender       age   income3   weekday  sprtransp    spring    precip  \\\n",
       "0       0.665896 -0.141345 -0.014966 -0.019904  -0.236525 -0.266312 -0.326284   \n",
       "1       0.665896 -0.141345 -0.014966  0.481025  -0.236525 -0.266312 -0.326284   \n",
       "2       0.665896 -0.141345 -0.014966  0.981954  -0.236525 -0.266312 -0.326284   \n",
       "3       0.665896 -0.141345 -0.014966  1.482883  -0.236525 -0.266312 -0.326284   \n",
       "4       0.665896 -0.141345 -0.014966 -1.522692  -0.236525 -0.266312 -0.326284   \n",
       "...          ...       ...       ...       ...        ...       ...       ...   \n",
       "604751  0.665896 -0.141345 -0.014966 -0.019904  -0.236525 -0.266312 -0.304220   \n",
       "604752  0.665896 -0.141345 -0.014966  0.481025  -0.236525 -0.266312 -0.326284   \n",
       "604753  0.665896 -0.141345 -0.014966  0.981954  -0.236525 -0.266312  5.024231   \n",
       "604754  0.665896 -0.141345 -0.014966  1.482883  -0.236525 -0.266312 -0.304220   \n",
       "604755  0.665896 -0.141345  1.577133 -0.019904  -0.236525 -0.266312 -0.326284   \n",
       "\n",
       "        voluntary    t  \n",
       "0       -0.364627    1  \n",
       "1       -0.364627    2  \n",
       "2       -0.364627    3  \n",
       "3       -0.364627    4  \n",
       "4       -0.364627    5  \n",
       "...           ...  ...  \n",
       "604751  -0.364627  148  \n",
       "604752  -0.364627  149  \n",
       "604753  -0.364627  150  \n",
       "604754  -0.364627  151  \n",
       "604755  -0.364627    1  \n",
       "\n",
       "[604756 rows x 9 columns]"
      ]
     },
     "execution_count": 50,
     "metadata": {},
     "output_type": "execute_result"
    }
   ],
   "source": [
    "X.loc[:4005*151]"
   ]
  },
  {
   "cell_type": "code",
   "execution_count": 86,
   "id": "ac0d87d9-3249-4ccc-839f-a88761bd16b9",
   "metadata": {
    "collapsed": true,
    "jupyter": {
     "outputs_hidden": true
    },
    "tags": []
   },
   "outputs": [
    {
     "name": "stdout",
     "output_type": "stream",
     "text": [
      "1\n",
      "2\n",
      "3\n",
      "4\n",
      "5\n",
      "6\n",
      "7\n",
      "8\n",
      "9\n",
      "10\n",
      "11\n",
      "12\n",
      "13\n",
      "14\n",
      "15\n",
      "16\n",
      "17\n",
      "18\n",
      "19\n",
      "20\n",
      "21\n",
      "22\n",
      "23\n",
      "24\n",
      "25\n",
      "26\n",
      "27\n",
      "28\n",
      "29\n",
      "30\n",
      "31\n",
      "32\n",
      "33\n",
      "34\n",
      "35\n",
      "36\n",
      "37\n",
      "38\n",
      "39\n",
      "40\n",
      "41\n",
      "42\n",
      "43\n",
      "44\n",
      "45\n",
      "46\n",
      "47\n",
      "48\n",
      "49\n",
      "50\n",
      "51\n",
      "52\n",
      "53\n",
      "54\n",
      "55\n",
      "56\n",
      "57\n",
      "58\n",
      "59\n",
      "60\n",
      "61\n",
      "62\n",
      "63\n",
      "64\n",
      "65\n",
      "66\n",
      "67\n",
      "68\n",
      "69\n",
      "70\n",
      "71\n",
      "72\n",
      "73\n",
      "74\n",
      "75\n",
      "76\n",
      "77\n",
      "78\n",
      "79\n",
      "80\n",
      "81\n",
      "82\n",
      "83\n",
      "84\n",
      "85\n",
      "86\n",
      "87\n",
      "88\n",
      "89\n",
      "90\n",
      "91\n",
      "92\n",
      "93\n",
      "94\n",
      "95\n",
      "96\n",
      "97\n",
      "98\n",
      "99\n",
      "100\n",
      "101\n",
      "102\n",
      "103\n",
      "104\n",
      "105\n",
      "106\n",
      "107\n",
      "108\n",
      "109\n",
      "110\n",
      "111\n",
      "112\n",
      "113\n",
      "114\n",
      "115\n",
      "116\n",
      "117\n",
      "118\n",
      "119\n",
      "120\n",
      "121\n",
      "122\n",
      "123\n",
      "124\n",
      "125\n",
      "126\n",
      "127\n",
      "128\n",
      "129\n",
      "130\n",
      "131\n",
      "132\n",
      "133\n",
      "134\n",
      "135\n",
      "136\n",
      "137\n",
      "138\n",
      "139\n",
      "140\n",
      "141\n",
      "142\n",
      "143\n",
      "144\n",
      "145\n",
      "146\n",
      "147\n",
      "148\n",
      "149\n",
      "150\n"
     ]
    }
   ],
   "source": [
    "# 计算每个时间点的处置效应\n",
    "ATE = []\n",
    "EFFECT = []\n",
    "for t in range(1,151):\n",
    "    print(t)\n",
    "    x = X[X['t']==t].reset_index(drop=True).loc[:4004]\n",
    "    a = TREAT[TREAT['t']==t].reset_index(drop=True).loc[:4004]\n",
    "    y = Y[Y['t']==t].reset_index(drop=True).loc[:4004]\n",
    "    w = W[W['t']==t].reset_index(drop=True)\n",
    "    \n",
    "    ipw = IPW(LogisticRegression())\n",
    "    ate = ipw.estimate_population_outcome(x, a['conformity'], y['move_distance'], w=w['iptw'])\n",
    "    #effect =  ipw.estimate_effect(ate[1], ate[0], effect_types=[\"ratio\"])\n",
    "    ATE.append(ate)\n",
    "    #EFFECT.append(effect)"
   ]
  },
  {
   "cell_type": "code",
   "execution_count": 124,
   "id": "860bb97f-89d8-4a95-8687-08a8eaf47489",
   "metadata": {},
   "outputs": [
    {
     "data": {
      "text/plain": [
       "[<matplotlib.lines.Line2D at 0x7fc360d5a9d0>]"
      ]
     },
     "execution_count": 124,
     "metadata": {},
     "output_type": "execute_result"
    },
    {
     "data": {
      "image/png": "[encoded data removed]",
      "text/plain": [
       "<Figure size 432x288 with 1 Axes>"
      ]
     },
     "metadata": {
      "needs_background": "light"
     },
     "output_type": "display_data"
    }
   ],
   "source": [
    "mean_ate = []\n",
    "for ate in ATE:\n",
    "    mean_ate.append(ate.mean())\n",
    "plt.plot(np.arange(len(mean_ate)),mean_ate)"
   ]
  },
  {
   "cell_type": "code",
   "execution_count": 122,
   "id": "81341326-fe02-4479-8dfb-fc1160d62994",
   "metadata": {
    "tags": []
   },
   "outputs": [
    {
     "name": "stdout",
     "output_type": "stream",
     "text": [
      "diff   -0.454253\n",
      "dtype: float64\n",
      "diff    0.196121\n",
      "dtype: float64\n"
     ]
    }
   ],
   "source": [
    "# 政策效应如何？\n",
    "ipw = IPW(LogisticRegression())\n",
    "\n",
    "restrict_potential_outcomes = ipw.estimate_population_outcome(_, TREAT['restrict'].loc[:4005*150-1], Y['move_distance'].loc[:4005*150-1], w=W['iptw'])\n",
    "restrict_effect =  ipw.estimate_effect(restrict_potential_outcomes[1], restrict_potential_outcomes[0], effect_types=[\"diff\"])\n",
    "print(restrict_effect)\n",
    "\n",
    "open_potential_outcomes = ipw.estimate_population_outcome(_, TREAT['open'].loc[:4005*150-1], Y['move_distance'].loc[:4005*150-1], w=W['iptw'])\n",
    "open_effect =  ipw.estimate_effect(open_potential_outcomes[1], open_potential_outcomes[0], effect_types=[\"diff\"])\n",
    "print(open_effect)"
   ]
  },
  {
   "cell_type": "code",
   "execution_count": 99,
   "id": "33fbb6df-64b3-45d2-bf25-579d65052c16",
   "metadata": {},
   "outputs": [
    {
     "data": {
      "text/plain": [
       "[<matplotlib.lines.Line2D at 0x7fc361bdf790>]"
      ]
     },
     "execution_count": 99,
     "metadata": {},
     "output_type": "execute_result"
    },
    {
     "data": {
      "image/png": "[encoded data removed]",
      "text/plain": [
       "<Figure size 432x288 with 1 Axes>"
      ]
     },
     "metadata": {
      "needs_background": "light"
     },
     "output_type": "display_data"
    }
   ],
   "source": [
    "plt.plot(ATE[52])"
   ]
  },
  {
   "cell_type": "code",
   "execution_count": 163,
   "id": "2f6533ca-e1b7-40bd-a8d5-905bdfd6da62",
   "metadata": {},
   "outputs": [
    {
     "data": {
      "text/plain": [
       "Y         0\n",
       "A         0\n",
       "weight    0\n",
       "dtype: int64"
      ]
     },
     "execution_count": 163,
     "metadata": {},
     "output_type": "execute_result"
    }
   ],
   "source": [
    "observation = pd.DataFrame({'Y':Y['move_distance'].loc[:4005*150-1], 'A':TREAT['conformity'].loc[:4005*150-1], 'weight':W['iptw']})\n",
    "observation.isnull().sum()"
   ]
  },
  {
   "cell_type": "code",
   "execution_count": 165,
   "id": "74e9a81f-c438-415d-bcd6-17c7bd724d49",
   "metadata": {},
   "outputs": [
    {
     "data": {
      "text/html": [
       "<div>\n",
       "<style scoped>\n",
       "    .dataframe tbody tr th:only-of-type {\n",
       "        vertical-align: middle;\n",
       "    }\n",
       "\n",
       "    .dataframe tbody tr th {\n",
       "        vertical-align: top;\n",
       "    }\n",
       "\n",
       "    .dataframe thead th {\n",
       "        text-align: right;\n",
       "    }\n",
       "</style>\n",
       "<table border=\"1\" class=\"dataframe\">\n",
       "  <thead>\n",
       "    <tr style=\"text-align: right;\">\n",
       "      <th></th>\n",
       "      <th>Y</th>\n",
       "      <th>A</th>\n",
       "      <th>weight</th>\n",
       "    </tr>\n",
       "  </thead>\n",
       "  <tbody>\n",
       "    <tr>\n",
       "      <th>0</th>\n",
       "      <td>-0.690954</td>\n",
       "      <td>-0.314151</td>\n",
       "      <td>1.000000</td>\n",
       "    </tr>\n",
       "    <tr>\n",
       "      <th>1</th>\n",
       "      <td>-0.291751</td>\n",
       "      <td>-0.471655</td>\n",
       "      <td>0.000000</td>\n",
       "    </tr>\n",
       "    <tr>\n",
       "      <th>2</th>\n",
       "      <td>2.390220</td>\n",
       "      <td>-0.329599</td>\n",
       "      <td>0.736089</td>\n",
       "    </tr>\n",
       "    <tr>\n",
       "      <th>3</th>\n",
       "      <td>1.138759</td>\n",
       "      <td>-0.485213</td>\n",
       "      <td>0.794778</td>\n",
       "    </tr>\n",
       "    <tr>\n",
       "      <th>4</th>\n",
       "      <td>-0.690954</td>\n",
       "      <td>-0.245341</td>\n",
       "      <td>0.896729</td>\n",
       "    </tr>\n",
       "  </tbody>\n",
       "</table>\n",
       "</div>"
      ],
      "text/plain": [
       "          Y         A    weight\n",
       "0 -0.690954 -0.314151  1.000000\n",
       "1 -0.291751 -0.471655  0.000000\n",
       "2  2.390220 -0.329599  0.736089\n",
       "3  1.138759 -0.485213  0.794778\n",
       "4 -0.690954 -0.245341  0.896729"
      ]
     },
     "execution_count": 165,
     "metadata": {},
     "output_type": "execute_result"
    }
   ],
   "source": [
    "observation['weight'] = observation['weight'].apply(lambda x: 0 if x<0 else x)\n",
    "observation.head()"
   ]
  },
  {
   "cell_type": "code",
   "execution_count": 166,
   "id": "299484c1-3807-45da-94c0-2b117c1125ce",
   "metadata": {},
   "outputs": [
    {
     "name": "stdout",
     "output_type": "stream",
     "text": [
      "                            WLS Regression Results                            \n",
      "==============================================================================\n",
      "Dep. Variable:                      Y   R-squared:                       0.016\n",
      "Model:                            WLS   Adj. R-squared:                  0.016\n",
      "Method:                 Least Squares   F-statistic:                     9805.\n",
      "Date:                Tue, 17 Oct 2023   Prob (F-statistic):               0.00\n",
      "Time:                        19:37:03   Log-Likelihood:                   -inf\n",
      "No. Observations:              600750   AIC:                               inf\n",
      "Df Residuals:                  600748   BIC:                               inf\n",
      "Df Model:                           1                                         \n",
      "Covariance Type:            nonrobust                                         \n",
      "==============================================================================\n",
      "                 coef    std err          t      P>|t|      [0.025      0.975]\n",
      "------------------------------------------------------------------------------\n",
      "Intercept      0.0022      0.001      1.727      0.084      -0.000       0.005\n",
      "A              0.1259      0.001     99.020      0.000       0.123       0.128\n",
      "==============================================================================\n",
      "Omnibus:                   311683.144   Durbin-Watson:                   1.219\n",
      "Prob(Omnibus):                  0.000   Jarque-Bera (JB):          2404764.881\n",
      "Skew:                           2.407   Prob(JB):                         0.00\n",
      "Kurtosis:                      11.538   Cond. No.                         1.01\n",
      "==============================================================================\n",
      "\n",
      "Notes:\n",
      "[1] Standard Errors assume that the covariance matrix of the errors is correctly specified.\n"
     ]
    },
    {
     "name": "stderr",
     "output_type": "stream",
     "text": [
      "/root/miniconda3/lib/python3.8/site-packages/statsmodels/regression/linear_model.py:807: RuntimeWarning: divide by zero encountered in log\n",
      "  llf += 0.5 * np.sum(np.log(self.weights))\n"
     ]
    }
   ],
   "source": [
    "MSM_model = smf.wls(formula='Y ~ A', data=observation, weights=np.array(observation['weight'], dtype=np.float64)).fit()\n",
    "#model = smf.ols(formula='Y ~ A', data=observation).fit()\n",
    "print(MSM_model.summary())"
   ]
  },
  {
   "cell_type": "code",
   "execution_count": 147,
   "id": "095f8779-485e-4ca1-8c95-4a3f0759b7dc",
   "metadata": {},
   "outputs": [
    {
     "data": {
      "text/plain": [
       "array([ 1.        , -0.29527194,  0.73608872, ...,  0.99880715,\n",
       "        0.99877698,  0.99878318])"
      ]
     },
     "execution_count": 147,
     "metadata": {},
     "output_type": "execute_result"
    }
   ],
   "source": [
    "np.array(observation['weight'], dtype=np.float64)"
   ]
  },
  {
   "cell_type": "code",
   "execution_count": 149,
   "id": "cb95abcb-7219-4306-add2-a559addcf81d",
   "metadata": {},
   "outputs": [
    {
     "data": {
      "text/plain": [
       "0.0"
      ]
     },
     "execution_count": 149,
     "metadata": {},
     "output_type": "execute_result"
    }
   ],
   "source": [
    "df_observed['IPW'].min()"
   ]
  },
  {
   "cell_type": "code",
   "execution_count": null,
   "id": "6d6528b9-1612-40f1-887e-fdbac4bf8e97",
   "metadata": {},
   "outputs": [],
   "source": []
  }
 ],
 "metadata": {
  "kernelspec": {
   "display_name": "Python 3 (ipykernel)",
   "language": "python",
   "name": "python3"
  },
  "language_info": {
   "codemirror_mode": {
    "name": "ipython",
    "version": 3
   },
   "file_extension": ".py",
   "mimetype": "text/x-python",
   "name": "python",
   "nbconvert_exporter": "python",
   "pygments_lexer": "ipython3",
   "version": "3.8.10"
  }
 },
 "nbformat": 4,
 "nbformat_minor": 5
}
