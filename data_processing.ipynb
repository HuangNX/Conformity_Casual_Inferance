{
 "cells": [
  {
   "cell_type": "code",
   "execution_count": 3,
   "id": "1a666667-11e2-467c-b89c-55b3cbfeed05",
   "metadata": {},
   "outputs": [],
   "source": [
    "import pandas as pd\n",
    "import numpy as np\n",
    "import matplotlib.pyplot as plt\n",
    "from utils.evaluation_utils import load_data, save_data\n",
    "import gc"
   ]
  },
  {
   "cell_type": "markdown",
   "id": "e0ee2816-7992-437b-bd8a-10df5202ecc0",
   "metadata": {},
   "source": [
    "# data preprocessing"
   ]
  },
  {
   "cell_type": "code",
   "execution_count": 2,
   "id": "cb48e40a-53e0-4e31-8be6-c8f174ba2b40",
   "metadata": {},
   "outputs": [
    {
     "name": "stdout",
     "output_type": "stream",
     "text": [
      "<class 'pandas.core.frame.DataFrame'>\n",
      "RangeIndex: 39979422 entries, 0 to 39979421\n",
      "Data columns (total 16 columns):\n",
      " #   Column              Dtype  \n",
      "---  ------              -----  \n",
      " 0   pid                 int64  \n",
      " 1   date                int64  \n",
      " 2   move_frequency      float64\n",
      " 3   move_distance       float64\n",
      " 4   trip_time           float64\n",
      " 5   home_time           float64\n",
      " 6   norm_sum            float64\n",
      " 7   norm_mean           float64\n",
      " 8   norm_max            float64\n",
      " 9   norm_home_activity  float64\n",
      " 10  norm_home_base      float64\n",
      " 11  group_year          int64  \n",
      " 12  voluntary           int64  \n",
      " 13  gender              int64  \n",
      " 14  age                 int64  \n",
      " 15  income              float64\n",
      "dtypes: float64(10), int64(6)\n",
      "memory usage: 4.8 GB\n"
     ]
    }
   ],
   "source": [
    "# 读取CSV文件\n",
    "data = pd.read_csv(\"data/demo12W_30.csv\")\n",
    "data.info()"
   ]
  },
  {
   "cell_type": "code",
   "execution_count": 3,
   "id": "60fc620f-bad9-460a-8ee8-07d88e4b2bee",
   "metadata": {},
   "outputs": [],
   "source": [
    "# interpolation\n",
    "# 选择日期在20191201到20191231之间的行，并删除重复的行\n",
    "data_comp = data[data['date'].between(20191201, 20191231)].drop_duplicates(subset=['pid', 'date'])\n",
    "data = data[~data['date'].between(20191201, 20191231)]\n",
    "data_comp['group_year'] = 1\n",
    "\n",
    "# 合并数据\n",
    "data = pd.concat([data, data_comp], axis=0).sort_values(by=['pid', 'date'])\n",
    "\n",
    "# NOTE: `na_seadec`是R中的特定函数，需要Python实现或找到相应的Python替代。\n",
    "# 例如，下面使用pandas的interpolate函数作为替代。\n",
    "data['norm_mean'] = data.groupby(['pid', 'group_year'])['norm_mean'].transform(lambda x: x.interpolate())"
   ]
  },
  {
   "cell_type": "code",
   "execution_count": 4,
   "id": "5821ff2f-97f3-4292-b8e8-f2647426765f",
   "metadata": {},
   "outputs": [
    {
     "data": {
      "text/html": [
       "<div>\n",
       "<style scoped>\n",
       "    .dataframe tbody tr th:only-of-type {\n",
       "        vertical-align: middle;\n",
       "    }\n",
       "\n",
       "    .dataframe tbody tr th {\n",
       "        vertical-align: top;\n",
       "    }\n",
       "\n",
       "    .dataframe thead th {\n",
       "        text-align: right;\n",
       "    }\n",
       "</style>\n",
       "<table border=\"1\" class=\"dataframe\">\n",
       "  <thead>\n",
       "    <tr style=\"text-align: right;\">\n",
       "      <th></th>\n",
       "      <th>date</th>\n",
       "      <th>precip</th>\n",
       "    </tr>\n",
       "  </thead>\n",
       "  <tbody>\n",
       "    <tr>\n",
       "      <th>0</th>\n",
       "      <td>20190101</td>\n",
       "      <td>0.0</td>\n",
       "    </tr>\n",
       "    <tr>\n",
       "      <th>1</th>\n",
       "      <td>20190102</td>\n",
       "      <td>0.1</td>\n",
       "    </tr>\n",
       "    <tr>\n",
       "      <th>2</th>\n",
       "      <td>20190103</td>\n",
       "      <td>0.0</td>\n",
       "    </tr>\n",
       "    <tr>\n",
       "      <th>3</th>\n",
       "      <td>20190104</td>\n",
       "      <td>0.1</td>\n",
       "    </tr>\n",
       "    <tr>\n",
       "      <th>4</th>\n",
       "      <td>20190105</td>\n",
       "      <td>0.0</td>\n",
       "    </tr>\n",
       "  </tbody>\n",
       "</table>\n",
       "</div>"
      ],
      "text/plain": [
       "       date  precip\n",
       "0  20190101     0.0\n",
       "1  20190102     0.1\n",
       "2  20190103     0.0\n",
       "3  20190104     0.1\n",
       "4  20190105     0.0"
      ]
     },
     "execution_count": 4,
     "metadata": {},
     "output_type": "execute_result"
    }
   ],
   "source": [
    "# load weather data\n",
    "precip = pd.read_csv(\"data/precipitation.csv\")\n",
    "precip.head()"
   ]
  },
  {
   "cell_type": "code",
   "execution_count": 5,
   "id": "184706ce-d2f9-44b8-b809-5ddffc66c4dd",
   "metadata": {},
   "outputs": [
    {
     "data": {
      "text/plain": [
       "26"
      ]
     },
     "execution_count": 5,
     "metadata": {},
     "output_type": "execute_result"
    }
   ],
   "source": [
    "# Adding factors\n",
    "# Using the query function to filter data\n",
    "data = data.query('date < 20191201 or date > 20191231')\n",
    "\n",
    "# Convert date to string then to datetime object and create weekday column\n",
    "data['datestamp'] = pd.to_datetime(data['date'].astype(str), format=\"%Y%m%d\")\n",
    "data['weekday'] = data['datestamp'].dt.weekday\n",
    "data['weekfactor'] = data['weekday'].astype(str)\n",
    "\n",
    "# Timeline calculations\n",
    "data['timeline'] = np.where(data['group_year'] == 1, \n",
    "                           (data['datestamp'] - pd.Timestamp('2020-01-01')).dt.days, \n",
    "                           (data['datestamp'] - pd.Timestamp('2019-01-01')).dt.days)\n",
    "\n",
    "# Define event and festival\n",
    "date_conditions = [\n",
    "    (data['date'].between(20200120, 20200123)),\n",
    "    (data['date'].between(20200124, 20200223)),\n",
    "    (data['date'].between(20200224, 20200508)),\n",
    "    (data['date'] >= 20200509),\n",
    "    (data['date'].between(20200210, 20200216)),\n",
    "    (data['date'].between(20200217, 20200223)),\n",
    "    (data['date'].between(20200321, 20200328)),\n",
    "    (data['date'].between(20200329, 20200508))\n",
    "]\n",
    "\n",
    "event_columns = ['Tran', 'E1', 'E2', 'E3', 'R1', 'R2', 'Low', 'Open']\n",
    "# Tran：人传人；E1：一级响应；E2：二级响应；E3：三级响应；R1：第一次复工；R2：第二次复工；Low：低风险；Open：公共空间开放\n",
    "\n",
    "for col, cond in zip(event_columns, date_conditions):\n",
    "    data[col] = np.where(cond, 1, 0)\n",
    "\n",
    "# Define tp0 - tp7 columns（代表上述的8个不同时期，不重合）\n",
    "data['tp0'] = np.where(data['date'].between(20200120, 20200123), 1, 0)\n",
    "data['tp1'] = np.where(data['date'].between(20200124, 20200209), 1, 0)\n",
    "data['tp2'] = np.where(data['date'].between(20200210, 20200216), 1, 0)\n",
    "data['tp3'] = np.where(data['date'].between(20200217, 20200223), 1, 0)\n",
    "data['tp4'] = np.where(data['date'].between(20200224, 20200320), 1, 0)\n",
    "data['tp5'] = np.where(data['date'].between(20200321, 20200328), 1, 0)\n",
    "data['tp6'] = np.where(data['date'].between(20200329, 20200508), 1, 0)\n",
    "data['tp7'] = np.where(data['date'] >= 20200509, 1, 0)\n",
    "\n",
    "# Define holidays columns\n",
    "holidays_conditions = [\n",
    "    (data['date'].isin([20190101, 20200101])),\n",
    "    (data['date'].between(20190128, 20190204) | data['date'].between(20200117, 20200124)),\n",
    "    (data['date'].between(20190204, 20190210) | data['date'].between(20200124, 20200202)),\n",
    "    (data['date'].between(20190405, 20190407) | data['date'].between(20200404, 20200406)),\n",
    "    (data['date'].between(20190501, 20190504) | data['date'].between(20200501, 20200505))\n",
    "]\n",
    "\n",
    "holidays_columns = ['newyear', 'sprtransp', 'spring', 'tomb', 'labor']\n",
    "for col, cond in zip(holidays_columns, holidays_conditions):\n",
    "    data[col] = np.where(cond, 1, 0)\n",
    "    \n",
    "# Joining the data and precip DataFrames\n",
    "data = pd.merge(data, precip, on=\"date\", how=\"inner\")\n",
    "\n",
    "# Calculating the quantiles for the income column\n",
    "income_thre = data['income'].quantile(q=[0, 0.2, 0.4, 0.6, 0.8, 1])\n",
    "\n",
    "# Updating and creating new columns\n",
    "data['age'] = pd.cut(data['age'], bins=[0, 5, 13, 16, float('inf')], labels=['Young', 'Adult', 'Elder', 'Elder'], right=False,  ordered=False)\n",
    "data['gender'] = data['gender'].map({1: 'Male', 2: 'Female'})\n",
    "data['income'] = pd.cut(data['income'], bins=[0] + list(income_thre)[1:], labels=['Bottom', 'Lower', 'Middle', 'Upper', 'Superior'], right=False, include_lowest=True)\n",
    "\n",
    "data['income3'] = data['income'].map({\n",
    "    'Bottom': 'Bottom',\n",
    "    'Superior': 'Upper',\n",
    "    'Lower': 'Middle',\n",
    "    'Middle': 'Middle',\n",
    "    'Upper': 'Middle'\n",
    "})\n",
    "\n",
    "# Converting columns to category type with specific levels\n",
    "data['age'] = data['age'].astype('category')\n",
    "data['gender'] = data['gender'].astype('category')\n",
    "data['income'] = pd.Categorical(data['income'], categories=[\"Bottom\", \"Lower\", \"Middle\", \"Upper\", \"Superior\"], ordered=True)\n",
    "data['income3'] = pd.Categorical(data['income3'], categories=[\"Middle\", \"Bottom\", \"Upper\"], ordered=True)\n",
    "\n",
    "gc.collect()"
   ]
  },
  {
   "cell_type": "code",
   "execution_count": 7,
   "id": "99370496-1210-4b90-862e-5e70f967fe8b",
   "metadata": {},
   "outputs": [],
   "source": [
    "data.to_csv('data/demo12W_30_processed.csv',index=False)"
   ]
  },
  {
   "cell_type": "code",
   "execution_count": 9,
   "id": "7e5e68a5-62a4-448a-baf8-afa61e7f5d45",
   "metadata": {},
   "outputs": [
    {
     "name": "stdout",
     "output_type": "stream",
     "text": [
      "pid                         0\n",
      "date                        0\n",
      "move_frequency              0\n",
      "move_distance               0\n",
      "trip_time                   0\n",
      "home_time                   0\n",
      "norm_sum              1848403\n",
      "norm_mean               34600\n",
      "norm_max              1848403\n",
      "norm_home_activity    6086872\n",
      "norm_home_base        2249310\n",
      "group_year                  0\n",
      "voluntary                   0\n",
      "gender                      0\n",
      "age                         0\n",
      "income                   6060\n",
      "datestamp                   0\n",
      "weekday                     0\n",
      "weekfactor                  0\n",
      "timeline                    0\n",
      "Tran                        0\n",
      "E1                          0\n",
      "E2                          0\n",
      "E3                          0\n",
      "R1                          0\n",
      "R2                          0\n",
      "Low                         0\n",
      "Open                        0\n",
      "tp0                         0\n",
      "tp1                         0\n",
      "tp2                         0\n",
      "tp3                         0\n",
      "tp4                         0\n",
      "tp5                         0\n",
      "tp6                         0\n",
      "tp7                         0\n",
      "newyear                     0\n",
      "sprtransp                   0\n",
      "spring                      0\n",
      "tomb                        0\n",
      "labor                       0\n",
      "precip                      0\n",
      "income3                  6060\n",
      "dtype: int64\n"
     ]
    }
   ],
   "source": [
    "print(data.isnull().sum())"
   ]
  },
  {
   "cell_type": "markdown",
   "id": "b1b5cc9a-5848-4218-99d6-e85717b37b90",
   "metadata": {},
   "source": [
    "# data sampling"
   ]
  },
  {
   "cell_type": "code",
   "execution_count": 10,
   "id": "96536da9-f0b4-46d2-82d9-5015da7f4ec6",
   "metadata": {},
   "outputs": [],
   "source": [
    "data = pd.read_csv('data/demo12W_30_processed.csv')"
   ]
  },
  {
   "cell_type": "code",
   "execution_count": 25,
   "id": "b8914955-5c9f-4cd9-aa97-7ee5e61cc136",
   "metadata": {
    "tags": []
   },
   "outputs": [],
   "source": [
    "# Sampling: select 5,000 individuals randomly\n",
    "sample_id = data['pid'].drop_duplicates().sample(n=5000)\n",
    "sample_data = data[data['pid'].isin(sample_id)]\n",
    "#print(sample_data.isnull().sum())"
   ]
  },
  {
   "cell_type": "code",
   "execution_count": 4,
   "id": "7210a35d-fcf9-4ae5-943a-f38d9047ac9c",
   "metadata": {
    "tags": []
   },
   "outputs": [
    {
     "data": {
      "text/plain": [
       "0"
      ]
     },
     "execution_count": 4,
     "metadata": {},
     "output_type": "execute_result"
    }
   ],
   "source": [
    "del data\n",
    "gc.collect()"
   ]
  },
  {
   "cell_type": "code",
   "execution_count": 26,
   "id": "a2bde33f-d217-42b1-922c-8ba2b1e394f6",
   "metadata": {},
   "outputs": [],
   "source": [
    "sample_data = sample_data.sort_values(by=['pid', 'date']).reset_index(drop=True)# use yesterday norm_mean as conformity factor\n",
    "sample_data['conformity'] = sample_data.groupby('pid')['norm_mean'].shift(1)\n",
    "# fill null in conformity\n",
    "sample_data['conformity'] = sample_data['conformity'].fillna(0)\n",
    "sample_data['log_conformity'] = np.log(sample_data['conformity'] + 1)"
   ]
  },
  {
   "cell_type": "code",
   "execution_count": 7,
   "id": "e60d703e-e974-4b2d-9cdb-994c4aacd6b0",
   "metadata": {},
   "outputs": [
    {
     "data": {
      "text/plain": [
       "0          0.000000\n",
       "1          7.188280\n",
       "2          7.779820\n",
       "3          7.698167\n",
       "4          7.782097\n",
       "             ...   \n",
       "3029995    6.017498\n",
       "3029996    6.016901\n",
       "3029997    6.872145\n",
       "3029998    6.027145\n",
       "3029999    5.981465\n",
       "Name: log_conformity, Length: 3030000, dtype: float64"
      ]
     },
     "execution_count": 7,
     "metadata": {},
     "output_type": "execute_result"
    }
   ],
   "source": [
    "sample_data['log_conformity']"
   ]
  },
  {
   "cell_type": "code",
   "execution_count": 61,
   "id": "42397f75-970d-42c0-ae8e-c5652678b332",
   "metadata": {
    "jupyter": {
     "source_hidden": true
    },
    "tags": []
   },
   "outputs": [],
   "source": [
    "# obtain treatment intervals (conformity) using PAM clustering\n",
    "from sklearn.cluster import KMeans\n",
    "# built KMeans class and fit data\n",
    "X = sample_data['log_conformity'].values.reshape(-1, 1)\n",
    "n_clusters = 5\n",
    "kmeans = KMeans(n_clusters=n_clusters, random_state=0).fit(X)\n",
    "\n",
    "# get cluster labels\n",
    "labels = kmeans.labels_\n",
    "sample_data['conformity_class'] = labels\n",
    "\n",
    "# 获取每个聚类的中心值\n",
    "cluster_centers = kmeans.cluster_centers_.flatten()\n",
    "\n",
    "# 根据中心值对标签进行排序\n",
    "sorted_label_idx = cluster_centers.argsort()\n",
    "\n",
    "# 创建一个映射\n",
    "label_mapping = {original_label: new_label for new_label, original_label in enumerate(sorted_label_idx)}\n",
    "\n",
    "# 更新数据帧的标签\n",
    "sample_data['conformity_class'] = sample_data['conformity_class'].map(label_mapping)"
   ]
  },
  {
   "cell_type": "code",
   "execution_count": 62,
   "id": "cdae47b8-2925-4b00-9a4d-c94037b930c1",
   "metadata": {
    "jupyter": {
     "source_hidden": true
    },
    "tags": []
   },
   "outputs": [],
   "source": [
    "# 先生成全0array\n",
    "one_hot = np.zeros([len(sample_data), n_clusters])\n",
    "\n",
    "for index, label in enumerate(sample_data['conformity_class']):\n",
    "    one_hot[index, :label+1] = 1\n",
    "\n",
    "#print(one_hot)\n",
    "for i in range(n_clusters):\n",
    "    col_name = 'conformity_label'+str(i)\n",
    "    sample_data[col_name] = one_hot[:,i]"
   ]
  },
  {
   "cell_type": "code",
   "execution_count": 65,
   "id": "ec2f4b0f-a025-4896-98d9-5daacc7e4d74",
   "metadata": {},
   "outputs": [
    {
     "data": {
      "text/html": [
       "<div>\n",
       "<style scoped>\n",
       "    .dataframe tbody tr th:only-of-type {\n",
       "        vertical-align: middle;\n",
       "    }\n",
       "\n",
       "    .dataframe tbody tr th {\n",
       "        vertical-align: top;\n",
       "    }\n",
       "\n",
       "    .dataframe thead th {\n",
       "        text-align: right;\n",
       "    }\n",
       "</style>\n",
       "<table border=\"1\" class=\"dataframe\">\n",
       "  <thead>\n",
       "    <tr style=\"text-align: right;\">\n",
       "      <th></th>\n",
       "      <th>pid</th>\n",
       "      <th>date</th>\n",
       "      <th>move_frequency</th>\n",
       "      <th>move_distance</th>\n",
       "      <th>trip_time</th>\n",
       "      <th>home_time</th>\n",
       "      <th>norm_sum</th>\n",
       "      <th>norm_mean</th>\n",
       "      <th>norm_max</th>\n",
       "      <th>norm_home_activity</th>\n",
       "      <th>...</th>\n",
       "      <th>precip</th>\n",
       "      <th>income3</th>\n",
       "      <th>conformity</th>\n",
       "      <th>log_conformity</th>\n",
       "      <th>conformity_class</th>\n",
       "      <th>conformity_label0</th>\n",
       "      <th>conformity_label1</th>\n",
       "      <th>conformity_label2</th>\n",
       "      <th>conformity_label3</th>\n",
       "      <th>conformity_label4</th>\n",
       "    </tr>\n",
       "  </thead>\n",
       "  <tbody>\n",
       "    <tr>\n",
       "      <th>0</th>\n",
       "      <td>2576</td>\n",
       "      <td>20190101</td>\n",
       "      <td>0.0</td>\n",
       "      <td>0.0</td>\n",
       "      <td>0.0</td>\n",
       "      <td>24.000</td>\n",
       "      <td>127564.866667</td>\n",
       "      <td>2868.775</td>\n",
       "      <td>3770.0</td>\n",
       "      <td>127564.867</td>\n",
       "      <td>...</td>\n",
       "      <td>0.0</td>\n",
       "      <td>Upper</td>\n",
       "      <td>0.000</td>\n",
       "      <td>0.000000</td>\n",
       "      <td>0</td>\n",
       "      <td>1.0</td>\n",
       "      <td>0.0</td>\n",
       "      <td>0.0</td>\n",
       "      <td>0.0</td>\n",
       "      <td>0.0</td>\n",
       "    </tr>\n",
       "    <tr>\n",
       "      <th>1</th>\n",
       "      <td>2576</td>\n",
       "      <td>20190102</td>\n",
       "      <td>0.0</td>\n",
       "      <td>0.0</td>\n",
       "      <td>0.0</td>\n",
       "      <td>24.000</td>\n",
       "      <td>98542.666667</td>\n",
       "      <td>2237.911</td>\n",
       "      <td>2822.0</td>\n",
       "      <td>98542.667</td>\n",
       "      <td>...</td>\n",
       "      <td>0.1</td>\n",
       "      <td>Upper</td>\n",
       "      <td>2868.775</td>\n",
       "      <td>7.961989</td>\n",
       "      <td>4</td>\n",
       "      <td>1.0</td>\n",
       "      <td>1.0</td>\n",
       "      <td>1.0</td>\n",
       "      <td>1.0</td>\n",
       "      <td>1.0</td>\n",
       "    </tr>\n",
       "    <tr>\n",
       "      <th>2</th>\n",
       "      <td>2576</td>\n",
       "      <td>20190103</td>\n",
       "      <td>0.0</td>\n",
       "      <td>0.0</td>\n",
       "      <td>0.0</td>\n",
       "      <td>24.000</td>\n",
       "      <td>96103.000000</td>\n",
       "      <td>2089.196</td>\n",
       "      <td>2765.0</td>\n",
       "      <td>96103.000</td>\n",
       "      <td>...</td>\n",
       "      <td>0.0</td>\n",
       "      <td>Upper</td>\n",
       "      <td>2237.911</td>\n",
       "      <td>7.713745</td>\n",
       "      <td>3</td>\n",
       "      <td>1.0</td>\n",
       "      <td>1.0</td>\n",
       "      <td>1.0</td>\n",
       "      <td>1.0</td>\n",
       "      <td>0.0</td>\n",
       "    </tr>\n",
       "    <tr>\n",
       "      <th>3</th>\n",
       "      <td>2576</td>\n",
       "      <td>20190104</td>\n",
       "      <td>2.0</td>\n",
       "      <td>30468.0</td>\n",
       "      <td>20047.0</td>\n",
       "      <td>17.285</td>\n",
       "      <td>83283.600000</td>\n",
       "      <td>1826.395</td>\n",
       "      <td>2762.0</td>\n",
       "      <td>68424.900</td>\n",
       "      <td>...</td>\n",
       "      <td>0.1</td>\n",
       "      <td>Upper</td>\n",
       "      <td>2089.196</td>\n",
       "      <td>7.645013</td>\n",
       "      <td>3</td>\n",
       "      <td>1.0</td>\n",
       "      <td>1.0</td>\n",
       "      <td>1.0</td>\n",
       "      <td>1.0</td>\n",
       "      <td>0.0</td>\n",
       "    </tr>\n",
       "    <tr>\n",
       "      <th>4</th>\n",
       "      <td>2576</td>\n",
       "      <td>20190105</td>\n",
       "      <td>0.0</td>\n",
       "      <td>0.0</td>\n",
       "      <td>0.0</td>\n",
       "      <td>24.000</td>\n",
       "      <td>109323.200000</td>\n",
       "      <td>2374.870</td>\n",
       "      <td>3248.0</td>\n",
       "      <td>109323.200</td>\n",
       "      <td>...</td>\n",
       "      <td>0.0</td>\n",
       "      <td>Upper</td>\n",
       "      <td>1826.395</td>\n",
       "      <td>7.510647</td>\n",
       "      <td>3</td>\n",
       "      <td>1.0</td>\n",
       "      <td>1.0</td>\n",
       "      <td>1.0</td>\n",
       "      <td>1.0</td>\n",
       "      <td>0.0</td>\n",
       "    </tr>\n",
       "  </tbody>\n",
       "</table>\n",
       "<p>5 rows × 51 columns</p>\n",
       "</div>"
      ],
      "text/plain": [
       "    pid      date  move_frequency  move_distance  trip_time  home_time  \\\n",
       "0  2576  20190101             0.0            0.0        0.0     24.000   \n",
       "1  2576  20190102             0.0            0.0        0.0     24.000   \n",
       "2  2576  20190103             0.0            0.0        0.0     24.000   \n",
       "3  2576  20190104             2.0        30468.0    20047.0     17.285   \n",
       "4  2576  20190105             0.0            0.0        0.0     24.000   \n",
       "\n",
       "        norm_sum  norm_mean  norm_max  norm_home_activity  ...  precip  \\\n",
       "0  127564.866667   2868.775    3770.0          127564.867  ...     0.0   \n",
       "1   98542.666667   2237.911    2822.0           98542.667  ...     0.1   \n",
       "2   96103.000000   2089.196    2765.0           96103.000  ...     0.0   \n",
       "3   83283.600000   1826.395    2762.0           68424.900  ...     0.1   \n",
       "4  109323.200000   2374.870    3248.0          109323.200  ...     0.0   \n",
       "\n",
       "   income3  conformity log_conformity conformity_class conformity_label0  \\\n",
       "0    Upper       0.000       0.000000                0               1.0   \n",
       "1    Upper    2868.775       7.961989                4               1.0   \n",
       "2    Upper    2237.911       7.713745                3               1.0   \n",
       "3    Upper    2089.196       7.645013                3               1.0   \n",
       "4    Upper    1826.395       7.510647                3               1.0   \n",
       "\n",
       "  conformity_label1  conformity_label2  conformity_label3  conformity_label4  \n",
       "0               0.0                0.0                0.0                0.0  \n",
       "1               1.0                1.0                1.0                1.0  \n",
       "2               1.0                1.0                1.0                0.0  \n",
       "3               1.0                1.0                1.0                0.0  \n",
       "4               1.0                1.0                1.0                0.0  \n",
       "\n",
       "[5 rows x 51 columns]"
      ]
     },
     "execution_count": 65,
     "metadata": {},
     "output_type": "execute_result"
    }
   ],
   "source": [
    "sample_data.head()"
   ]
  },
  {
   "cell_type": "code",
   "execution_count": 63,
   "id": "a7082987-e35a-4cc5-ac4c-a5b73c651192",
   "metadata": {
    "tags": []
   },
   "outputs": [
    {
     "name": "stdout",
     "output_type": "stream",
     "text": [
      "15156 0.0 13.906\n",
      "448665 13.92 288.454\n",
      "1048103 288.456 824.561\n",
      "1058300 824.562 2367.063\n",
      "459776 2367.065 36548.761\n"
     ]
    }
   ],
   "source": [
    "print(len(sample_data[sample_data['conformity_class']==0]['conformity']), min(sample_data[sample_data['conformity_class']==0]['conformity']), \n",
    "      max(sample_data[sample_data['conformity_class']==0]['conformity']))\n",
    "print(len(sample_data[sample_data['conformity_class']==1]['conformity']), min(sample_data[sample_data['conformity_class']==1]['conformity']), \n",
    "      max(sample_data[sample_data['conformity_class']==1]['conformity']))\n",
    "print(len(sample_data[sample_data['conformity_class']==2]['conformity']), min(sample_data[sample_data['conformity_class']==2]['conformity']), max(sample_data[sample_data['conformity_class']==2]['conformity']))\n",
    "print(len(sample_data[sample_data['conformity_class']==3]['conformity']), min(sample_data[sample_data['conformity_class']==3]['conformity']), max(sample_data[sample_data['conformity_class']==3]['conformity']))\n",
    "print(len(sample_data[sample_data['conformity_class']==4]['conformity']), min(sample_data[sample_data['conformity_class']==4]['conformity']), max(sample_data[sample_data['conformity_class']==4]['conformity']))"
   ]
  },
  {
   "cell_type": "code",
   "execution_count": 64,
   "id": "5a30d7c8-536e-4c12-98ad-a7becb8a99cc",
   "metadata": {
    "jupyter": {
     "source_hidden": true
    },
    "tags": []
   },
   "outputs": [
    {
     "name": "stdout",
     "output_type": "stream",
     "text": [
      "0.0 2.701763816459502\n",
      "2.702702594775615 5.667996389742017\n",
      "5.668003299278905 6.716063155239438\n",
      "6.7160643665362345 7.769827600379727\n",
      "7.769828444951495 10.506429926168858\n"
     ]
    }
   ],
   "source": [
    "print(min(sample_data[sample_data['conformity_class']==0]['log_conformity']), max(sample_data[sample_data['conformity_class']==0]['log_conformity']))\n",
    "print(min(sample_data[sample_data['conformity_class']==1]['log_conformity']), max(sample_data[sample_data['conformity_class']==1]['log_conformity']))\n",
    "print(min(sample_data[sample_data['conformity_class']==2]['log_conformity']), max(sample_data[sample_data['conformity_class']==2]['log_conformity']))\n",
    "print(min(sample_data[sample_data['conformity_class']==3]['log_conformity']), max(sample_data[sample_data['conformity_class']==3]['log_conformity']))\n",
    "print(min(sample_data[sample_data['conformity_class']==4]['log_conformity']), max(sample_data[sample_data['conformity_class']==4]['log_conformity']))"
   ]
  },
  {
   "cell_type": "code",
   "execution_count": 6,
   "id": "8021cb32-f7bc-4639-8c97-11430ad7b5b0",
   "metadata": {
    "jupyter": {
     "source_hidden": true
    },
    "tags": []
   },
   "outputs": [],
   "source": [
    "# build conformity class\n",
    "# 定义边界\n",
    "bins = [0.0, 2.702, 5.668, 6.716, 7.769, float('inf')]\n",
    "\n",
    "# 使用cut函数\n",
    "sample_data['conformity_class'] = pd.cut(sample_data['log_conformity'], bins=bins, labels=[0, 1, 2, 3, 4], right=False)"
   ]
  },
  {
   "cell_type": "code",
   "execution_count": 7,
   "id": "cc17ad31-28d2-43cc-a6ff-d62444eea435",
   "metadata": {
    "jupyter": {
     "source_hidden": true
    },
    "tags": []
   },
   "outputs": [],
   "source": [
    "# 先生成全0array\n",
    "one_hot = np.zeros([len(sample_data), len(bins)-1])\n",
    "\n",
    "for index, label in enumerate(sample_data['conformity_class']):\n",
    "    one_hot[index, :label+1] = 1\n",
    "\n",
    "#print(one_hot)\n",
    "for i in range(len(bins)-1):\n",
    "    col_name = 'conformity_label'+str(i)\n",
    "    sample_data[col_name] = one_hot[:,i]"
   ]
  },
  {
   "cell_type": "code",
   "execution_count": 13,
   "id": "e33bf309-b81e-4501-b387-924c0dd22a67",
   "metadata": {},
   "outputs": [
    {
     "data": {
      "image/png": "[encoded data removed]",
      "text/plain": [
       "<Figure size 432x288 with 1 Axes>"
      ]
     },
     "metadata": {
      "needs_background": "light"
     },
     "output_type": "display_data"
    }
   ],
   "source": [
    "import seaborn as sns\n",
    "# 直方图\n",
    "sns.histplot(sample_data['conformity'], kde=False)\n",
    "plt.show()"
   ]
  },
  {
   "cell_type": "code",
   "execution_count": 27,
   "id": "6130161c-02a1-40f6-8a1f-9a91d346fa97",
   "metadata": {},
   "outputs": [
    {
     "data": {
      "image/png": "[encoded data removed]",
      "text/plain": [
       "<Figure size 432x288 with 1 Axes>"
      ]
     },
     "metadata": {
      "needs_background": "light"
     },
     "output_type": "display_data"
    }
   ],
   "source": [
    "# 直方图\n",
    "sns.histplot(sample_data['log_conformity'], kde=False)\n",
    "plt.show()"
   ]
  },
  {
   "cell_type": "code",
   "execution_count": 12,
   "id": "63903af2-7042-40e4-9e25-6e7869502c28",
   "metadata": {
    "jupyter": {
     "source_hidden": true
    },
    "tags": []
   },
   "outputs": [
    {
     "name": "stdout",
     "output_type": "stream",
     "text": [
      "0: 14943\n",
      "1: 439492\n",
      "2: 1057498\n",
      "3: 1072992\n",
      "4: 445075\n"
     ]
    }
   ],
   "source": [
    "unique_values, counts = np.unique(sample_data['conformity_class'].values, return_counts=True)\n",
    "\n",
    "# 将结果打印为类似于 dataframe 的 value_counts 的格式\n",
    "for value, count in zip(unique_values, counts):\n",
    "    print(f\"{value}: {count}\")"
   ]
  },
  {
   "cell_type": "code",
   "execution_count": 28,
   "id": "133444ed-b1ff-4aef-ad87-841b812976c6",
   "metadata": {},
   "outputs": [],
   "source": [
    "sample_data['week'] =  pd.to_datetime(sample_data['date'].astype(str), format=\"%Y%m%d\").dt.isocalendar().week"
   ]
  },
  {
   "cell_type": "code",
   "execution_count": 61,
   "id": "b40ef8aa-3084-4c8f-a01a-afc743e96359",
   "metadata": {
    "collapsed": true,
    "jupyter": {
     "outputs_hidden": true
    },
    "tags": []
   },
   "outputs": [
    {
     "data": {
      "text/html": [
       "<div>\n",
       "<style scoped>\n",
       "    .dataframe tbody tr th:only-of-type {\n",
       "        vertical-align: middle;\n",
       "    }\n",
       "\n",
       "    .dataframe tbody tr th {\n",
       "        vertical-align: top;\n",
       "    }\n",
       "\n",
       "    .dataframe thead th {\n",
       "        text-align: right;\n",
       "    }\n",
       "</style>\n",
       "<table border=\"1\" class=\"dataframe\">\n",
       "  <thead>\n",
       "    <tr style=\"text-align: right;\">\n",
       "      <th></th>\n",
       "      <th>pid</th>\n",
       "      <th>date</th>\n",
       "      <th>move_frequency</th>\n",
       "      <th>move_distance</th>\n",
       "      <th>trip_time</th>\n",
       "      <th>home_time</th>\n",
       "      <th>norm_sum</th>\n",
       "      <th>norm_mean</th>\n",
       "      <th>norm_max</th>\n",
       "      <th>norm_home_activity</th>\n",
       "      <th>...</th>\n",
       "      <th>newyear</th>\n",
       "      <th>sprtransp</th>\n",
       "      <th>spring</th>\n",
       "      <th>tomb</th>\n",
       "      <th>labor</th>\n",
       "      <th>precip</th>\n",
       "      <th>income3</th>\n",
       "      <th>conformity</th>\n",
       "      <th>conformity_class</th>\n",
       "      <th>week</th>\n",
       "    </tr>\n",
       "  </thead>\n",
       "  <tbody>\n",
       "    <tr>\n",
       "      <th>0</th>\n",
       "      <td>1930</td>\n",
       "      <td>20190101</td>\n",
       "      <td>0.0</td>\n",
       "      <td>0.0</td>\n",
       "      <td>0.0</td>\n",
       "      <td>24.000</td>\n",
       "      <td>10083.266667</td>\n",
       "      <td>713.439</td>\n",
       "      <td>881.0</td>\n",
       "      <td>NaN</td>\n",
       "      <td>...</td>\n",
       "      <td>1</td>\n",
       "      <td>0</td>\n",
       "      <td>0</td>\n",
       "      <td>0</td>\n",
       "      <td>0</td>\n",
       "      <td>0.0</td>\n",
       "      <td>Middle</td>\n",
       "      <td>0.000</td>\n",
       "      <td>0</td>\n",
       "      <td>1</td>\n",
       "    </tr>\n",
       "    <tr>\n",
       "      <th>1</th>\n",
       "      <td>1930</td>\n",
       "      <td>20190102</td>\n",
       "      <td>5.0</td>\n",
       "      <td>16453.0</td>\n",
       "      <td>8910.0</td>\n",
       "      <td>12.206</td>\n",
       "      <td>16659.166667</td>\n",
       "      <td>577.107</td>\n",
       "      <td>1001.0</td>\n",
       "      <td>15642.733</td>\n",
       "      <td>...</td>\n",
       "      <td>0</td>\n",
       "      <td>0</td>\n",
       "      <td>0</td>\n",
       "      <td>0</td>\n",
       "      <td>0</td>\n",
       "      <td>0.1</td>\n",
       "      <td>Middle</td>\n",
       "      <td>713.439</td>\n",
       "      <td>0</td>\n",
       "      <td>1</td>\n",
       "    </tr>\n",
       "    <tr>\n",
       "      <th>2</th>\n",
       "      <td>1930</td>\n",
       "      <td>20190103</td>\n",
       "      <td>4.0</td>\n",
       "      <td>18527.0</td>\n",
       "      <td>2494.0</td>\n",
       "      <td>13.189</td>\n",
       "      <td>22684.433333</td>\n",
       "      <td>610.891</td>\n",
       "      <td>1091.0</td>\n",
       "      <td>15965.033</td>\n",
       "      <td>...</td>\n",
       "      <td>0</td>\n",
       "      <td>0</td>\n",
       "      <td>0</td>\n",
       "      <td>0</td>\n",
       "      <td>0</td>\n",
       "      <td>0.0</td>\n",
       "      <td>Middle</td>\n",
       "      <td>577.107</td>\n",
       "      <td>0</td>\n",
       "      <td>1</td>\n",
       "    </tr>\n",
       "    <tr>\n",
       "      <th>3</th>\n",
       "      <td>1930</td>\n",
       "      <td>20190104</td>\n",
       "      <td>5.0</td>\n",
       "      <td>26393.0</td>\n",
       "      <td>6624.0</td>\n",
       "      <td>5.016</td>\n",
       "      <td>15067.466667</td>\n",
       "      <td>766.142</td>\n",
       "      <td>1173.0</td>\n",
       "      <td>10567.900</td>\n",
       "      <td>...</td>\n",
       "      <td>0</td>\n",
       "      <td>0</td>\n",
       "      <td>0</td>\n",
       "      <td>0</td>\n",
       "      <td>0</td>\n",
       "      <td>0.1</td>\n",
       "      <td>Middle</td>\n",
       "      <td>610.891</td>\n",
       "      <td>0</td>\n",
       "      <td>1</td>\n",
       "    </tr>\n",
       "    <tr>\n",
       "      <th>4</th>\n",
       "      <td>1930</td>\n",
       "      <td>20190105</td>\n",
       "      <td>5.0</td>\n",
       "      <td>0.0</td>\n",
       "      <td>4656.0</td>\n",
       "      <td>0.268</td>\n",
       "      <td>9763.033333</td>\n",
       "      <td>999.628</td>\n",
       "      <td>1099.0</td>\n",
       "      <td>475.200</td>\n",
       "      <td>...</td>\n",
       "      <td>0</td>\n",
       "      <td>0</td>\n",
       "      <td>0</td>\n",
       "      <td>0</td>\n",
       "      <td>0</td>\n",
       "      <td>0.0</td>\n",
       "      <td>Middle</td>\n",
       "      <td>766.142</td>\n",
       "      <td>0</td>\n",
       "      <td>1</td>\n",
       "    </tr>\n",
       "  </tbody>\n",
       "</table>\n",
       "<p>5 rows × 46 columns</p>\n",
       "</div>"
      ],
      "text/plain": [
       "    pid      date  move_frequency  move_distance  trip_time  home_time  \\\n",
       "0  1930  20190101             0.0            0.0        0.0     24.000   \n",
       "1  1930  20190102             5.0        16453.0     8910.0     12.206   \n",
       "2  1930  20190103             4.0        18527.0     2494.0     13.189   \n",
       "3  1930  20190104             5.0        26393.0     6624.0      5.016   \n",
       "4  1930  20190105             5.0            0.0     4656.0      0.268   \n",
       "\n",
       "       norm_sum  norm_mean  norm_max  norm_home_activity  ...  newyear  \\\n",
       "0  10083.266667    713.439     881.0                 NaN  ...        1   \n",
       "1  16659.166667    577.107    1001.0           15642.733  ...        0   \n",
       "2  22684.433333    610.891    1091.0           15965.033  ...        0   \n",
       "3  15067.466667    766.142    1173.0           10567.900  ...        0   \n",
       "4   9763.033333    999.628    1099.0             475.200  ...        0   \n",
       "\n",
       "   sprtransp  spring tomb labor precip income3  conformity  conformity_class  \\\n",
       "0          0       0    0     0    0.0  Middle       0.000                 0   \n",
       "1          0       0    0     0    0.1  Middle     713.439                 0   \n",
       "2          0       0    0     0    0.0  Middle     577.107                 0   \n",
       "3          0       0    0     0    0.1  Middle     610.891                 0   \n",
       "4          0       0    0     0    0.0  Middle     766.142                 0   \n",
       "\n",
       "   week  \n",
       "0     1  \n",
       "1     1  \n",
       "2     1  \n",
       "3     1  \n",
       "4     1  \n",
       "\n",
       "[5 rows x 46 columns]"
      ]
     },
     "execution_count": 61,
     "metadata": {},
     "output_type": "execute_result"
    }
   ],
   "source": [
    "sample_data.head()"
   ]
  },
  {
   "cell_type": "code",
   "execution_count": 29,
   "id": "f3c9b8fa-997c-4de9-85a1-309d41ef17fe",
   "metadata": {},
   "outputs": [],
   "source": [
    "def features_generation(data):\n",
    "\n",
    "    # encoding categories\n",
    "    from sklearn.preprocessing import LabelEncoder\n",
    "    le = LabelEncoder()\n",
    "    ind_attr_cols = ['gender', 'age', 'income3']\n",
    "    for col in ind_attr_cols:\n",
    "        data[col] = le.fit_transform(data[col])\n",
    "    data['income3'] = data['income3'].fillna(0)\n",
    "\n",
    "    # weekday one-hot encoding\n",
    "    one_hot_encoded = pd.get_dummies(data['weekday'], prefix='weekday')\n",
    "    data = data.drop('weekday', axis=1)\n",
    "    data= pd.concat([data, one_hot_encoded], axis=1)\n",
    "    # sample_data2020.head()\n",
    "\n",
    "    # use is_workday\n",
    "    # from chinese_calendar import is_workday\n",
    "    # sample_data2020['datestamp'] = pd.to_datetime(sample_data2020['date'].astype(str), format=\"%Y%m%d\")\n",
    "    # sample_data2020['workday'] = sample_data2020['datestamp'].apply(lambda x: int(is_workday(x)))\n",
    "    \n",
    "    # construct policy features\n",
    "    data['restrict'] = np.where(data['date'].between(20200124, 20200223), 1, 0)\n",
    "    data['open'] = np.where(data['date'] > 20200223, 1, 0)\n",
    "    \n",
    "    return data"
   ]
  },
  {
   "cell_type": "code",
   "execution_count": 35,
   "id": "f061c13a-c7e8-49fa-9058-695154678450",
   "metadata": {},
   "outputs": [],
   "source": [
    "# use data in 2019\n",
    "sample_data2019 = sample_data.query('date<20200101').reset_index(drop=True)\n",
    "sample_data2019 = features_generation(sample_data2019)\n",
    "# use data in 2020\n",
    "# sample_data2020 = sample_data.query('date>=20200101').reset_index(drop=True)\n",
    "# sample_data2020 = features_generation(sample_data2020)"
   ]
  },
  {
   "cell_type": "code",
   "execution_count": 11,
   "id": "56fea616-504f-4fc4-a600-29c868a27b3d",
   "metadata": {
    "jupyter": {
     "source_hidden": true
    },
    "tags": []
   },
   "outputs": [
    {
     "name": "stdout",
     "output_type": "stream",
     "text": [
      "Series([], Name: conformity_class, dtype: int64)\n"
     ]
    }
   ],
   "source": [
    "# 分组并计算每组中的唯一标签数\n",
    "unique_labels_per_week = sample_data2019.groupby('week')['conformity_class'].nunique()\n",
    "\n",
    "# 检查每周的标签数是否与所有可能的标签数相匹配\n",
    "all_labels_count = sample_data2019['conformity_class'].nunique()\n",
    "weeks_without_all_labels = unique_labels_per_week[unique_labels_per_week < all_labels_count]\n",
    "print(weeks_without_all_labels)"
   ]
  },
  {
   "cell_type": "code",
   "execution_count": 22,
   "id": "9123e3b8-8e18-412b-9128-5f222c72a26a",
   "metadata": {},
   "outputs": [
    {
     "name": "stdout",
     "output_type": "stream",
     "text": [
      "151\n"
     ]
    }
   ],
   "source": [
    "print(int(len(sample_data2019)/len(sample_data2019['pid'].unique())))"
   ]
  },
  {
   "cell_type": "code",
   "execution_count": 75,
   "id": "29b1fa8c-184f-4a2e-a08d-807b5eff5149",
   "metadata": {
    "tags": []
   },
   "outputs": [
    {
     "name": "stdout",
     "output_type": "stream",
     "text": [
      "pid                       0\n",
      "date                      0\n",
      "move_frequency            0\n",
      "move_distance             0\n",
      "trip_time                 0\n",
      "home_time                 0\n",
      "norm_sum              29743\n",
      "norm_mean               192\n",
      "norm_max              29743\n",
      "norm_home_activity    91587\n",
      "norm_home_base        35706\n",
      "group_year                0\n",
      "voluntary                 0\n",
      "gender                    0\n",
      "age                       0\n",
      "income                    0\n",
      "datestamp                 0\n",
      "weekfactor                0\n",
      "timeline                  0\n",
      "Tran                      0\n",
      "E1                        0\n",
      "E2                        0\n",
      "E3                        0\n",
      "R1                        0\n",
      "R2                        0\n",
      "Low                       0\n",
      "Open                      0\n",
      "tp0                       0\n",
      "tp1                       0\n",
      "tp2                       0\n",
      "tp3                       0\n",
      "tp4                       0\n",
      "tp5                       0\n",
      "tp6                       0\n",
      "tp7                       0\n",
      "newyear                   0\n",
      "sprtransp                 0\n",
      "spring                    0\n",
      "tomb                      0\n",
      "labor                     0\n",
      "precip                    0\n",
      "income3                   0\n",
      "conformity                0\n",
      "conformity_class          0\n",
      "weekday_0                 0\n",
      "weekday_1                 0\n",
      "weekday_2                 0\n",
      "weekday_3                 0\n",
      "weekday_4                 0\n",
      "weekday_5                 0\n",
      "weekday_6                 0\n",
      "restrict                  0\n",
      "open                      0\n",
      "dtype: int64\n"
     ]
    }
   ],
   "source": [
    "print(sample_data2020.isnull().sum())"
   ]
  },
  {
   "cell_type": "markdown",
   "id": "f3f811d7-f61a-49d8-94c5-b0facd5cfe09",
   "metadata": {},
   "source": [
    "# data transformation"
   ]
  },
  {
   "cell_type": "markdown",
   "id": "901e0efc-8d7a-433f-8a04-f0db05028856",
   "metadata": {},
   "source": [
    "covariates：gender, age, income, festivals(newyear, sprtransp, spring, tomb, labor), events(Tran), weekday  \n",
    "treatments: norm_mean, policy(如何编码？), voluntary(=case)  \n",
    "outcome: move_distance  \n",
    "Tran：人传人；E1：一级响应；E2：二级响应；E3：三级响应；R1：第一次复工；R2：第二次复工；Low：低风险；Open：公共空间开放"
   ]
  },
  {
   "cell_type": "code",
   "execution_count": 36,
   "id": "6433e60c-f019-4191-bb2d-0c502fb4f9f1",
   "metadata": {},
   "outputs": [],
   "source": [
    "def normalize_dataset(dataset, num_covariates, num_treatments):\n",
    "\n",
    "        for covariate_id in range(num_covariates):\n",
    "            covariate_mean = np.mean(dataset['previous_covariates'][:, :, covariate_id])\n",
    "            covariate_std = np.std(dataset['previous_covariates'][:, :, covariate_id])\n",
    "            dataset['previous_covariates'][:, :, covariate_id] = (dataset['previous_covariates'][:, :,\n",
    "                                                      covariate_id] - covariate_mean) / covariate_std\n",
    "            # covariate_max = np.max(dataset['previous_covariates'][:, :, covariate_id])\n",
    "            # covariate_min = np.min(dataset['previous_covariates'][:, :, covariate_id])\n",
    "            # dataset['previous_covariates'][:, :, covariate_id] = (dataset['previous_covariates'][:, :,\n",
    "            #                                           covariate_id] - covariate_min) / (covariate_max - covariate_min)\n",
    "\n",
    "        for covariate_id in range(num_covariates):\n",
    "            covariate_mean = np.mean(dataset['covariates'][:, :, covariate_id])\n",
    "            covariate_std = np.std(dataset['covariates'][:, :, covariate_id])\n",
    "            dataset['covariates'][:, :, covariate_id] = (dataset['covariates'][:, :,\n",
    "                                                      covariate_id] - covariate_mean) / covariate_std\n",
    "            # covariate_max = np.max(dataset['covariates'][:, :, covariate_id])\n",
    "            # covariate_min = np.min(dataset['covariates'][:, :, covariate_id])\n",
    "            # dataset['covariates'][:, :, covariate_id] = (dataset['covariates'][:, :,\n",
    "            #                                           covariate_id] - covariate_min) / (covariate_max - covariate_min)\n",
    "        \n",
    "        for treatment_id in range(num_treatments):\n",
    "            treatment_mean = np.mean(dataset['previous_treatments'][:, :, treatment_id])\n",
    "            treatment_std = np.std(dataset['previous_treatments'][:, :, treatment_id])\n",
    "            dataset['previous_treatments'][:, :, treatment_id] = (dataset['previous_treatments'][:, :,\n",
    "                                                      treatment_id] - treatment_mean) / treatment_std\n",
    "            # use Min-Max scaling\n",
    "            # treatment_max = np.max(dataset['previous_treatments'][:, :, treatment_id])\n",
    "            # treatment_min = np.min(dataset['previous_treatments'][:, :, treatment_id])\n",
    "            # dataset['previous_treatments'][:, :, treatment_id] = (dataset['previous_treatments'][:, :,\n",
    "            #                                           treatment_id] - treatment_min) / (treatment_max - treatment_min)\n",
    "\n",
    "        for treatment_id in range(num_treatments):\n",
    "            treatment_mean = np.mean(dataset['treatments'][:, :, treatment_id])\n",
    "            treatment_std = np.std(dataset['treatments'][:, :, treatment_id])\n",
    "            dataset['treatments'][:, :, treatment_id] = (dataset['treatments'][:, :,\n",
    "                                                      treatment_id] - treatment_mean) / treatment_std\n",
    "            # use Min-Max scaling\n",
    "            # treatment_max = np.max(dataset['treatments'][:, :, treatment_id])\n",
    "            # treatment_min = np.min(dataset['treatments'][:, :, treatment_id])\n",
    "            # dataset['treatments'][:, :, treatment_id] = (dataset['treatments'][:, :,\n",
    "            #                                           treatment_id] - treatment_min) / (treatment_max - treatment_min)\n",
    "\n",
    "        outcome_mean = np.mean(dataset['outcomes'])\n",
    "        outcome_std= np.std(dataset['outcomes'])\n",
    "        dataset['outcomes'] = (dataset['outcomes'] - outcome_mean) /outcome_std\n",
    "\n",
    "        return dataset\n",
    "\n",
    "def generate_dataset(data, max_timesteps, covariate_cols, treatment_cols, outcome_col, log_transform=False):\n",
    "            dataset = dict()\n",
    "\n",
    "            dataset['previous_covariates'] = []\n",
    "            dataset['previous_treatments'] = []\n",
    "            dataset['covariates'] = []\n",
    "            dataset['treatments'] = []\n",
    "            dataset['sequence_length'] = []\n",
    "            dataset['outcomes'] = []\n",
    "            \n",
    "            timesteps = int(len(data)/len(data['pid'].unique()))\n",
    "            \n",
    "            for pid in data['pid'].unique():\n",
    "                single_data = data[data['pid']==pid].reset_index(drop=True)\n",
    "                covariates_history = single_data[covariate_cols].values\n",
    "                treatments_history = single_data[treatment_cols].values\n",
    "                \n",
    "                previous_covariates = np.vstack((np.array(covariates_history[1:timesteps - 1]), np.zeros(shape=(max_timesteps-timesteps, len(covariate_cols)))))\n",
    "                previous_treatments = np.vstack((np.array(treatments_history[1:timesteps - 1]),np.zeros(shape=(max_timesteps-timesteps, len(treatment_cols)))))\n",
    "                \n",
    "                covariates = np.vstack((np.array(covariates_history[1:timesteps]),np.zeros(shape=(max_timesteps-timesteps, len(covariate_cols)))))\n",
    "                treatments = np.vstack((np.array(treatments_history[1:timesteps]),np.zeros(shape=(max_timesteps-timesteps, len(treatment_cols)))))\n",
    "                \n",
    "                outcomes = single_data[outcome_col].values[1:timesteps]\n",
    "                if log_transform:\n",
    "                    outcomes = np.log(outcomes + 1)\n",
    "                outcomes = outcomes[:, np.newaxis]\n",
    "                outcomes = np.vstack((np.array(outcomes), np.zeros(shape=(max_timesteps-timesteps, 1))))\n",
    "                \n",
    "                dataset['previous_covariates'].append(np.array(previous_covariates))\n",
    "                dataset['previous_treatments'].append(np.array(previous_treatments))\n",
    "                dataset['covariates'].append(np.array(covariates))\n",
    "                dataset['treatments'].append(np.array(treatments))\n",
    "                dataset['sequence_length'].append(np.array(timesteps))\n",
    "                dataset['outcomes'].append(np.array(outcomes))\n",
    "            \n",
    "            for key in dataset.keys():\n",
    "                dataset[key] = np.array(dataset[key])\n",
    "\n",
    "            return dataset"
   ]
  },
  {
   "cell_type": "code",
   "execution_count": 20,
   "id": "4877dbb3-858c-4ac6-8602-3302f86051e0",
   "metadata": {
    "jupyter": {
     "source_hidden": true
    },
    "tags": []
   },
   "outputs": [],
   "source": [
    "def compute_mean_std(column):\n",
    "    if np.all((column == 0) | (column == 1)):\n",
    "        mean = 0\n",
    "        std = 1\n",
    "    else:\n",
    "        mean = np.mean(column)\n",
    "        std = np.std(column)\n",
    "    return mean, std\n",
    "\n",
    "def get_normalize_params(dataset, num_covariates, num_treatments):\n",
    "    scale_params = dict()\n",
    "\n",
    "    for key in ['previous_covariates', 'previous_treatments', 'covariates', 'treatments', 'outcomes']:\n",
    "        scale_params[key] = []\n",
    "\n",
    "    for covariate_id in range(num_covariates):\n",
    "\n",
    "        column = dataset['previous_covariates'][:, :, covariate_id]\n",
    "        # if feature is [0,1], then mean = 0, std = 1\n",
    "        pre_covariate_mean, pre_covariate_std = compute_mean_std(column)\n",
    "        scale_params['previous_covariates'].append(np.array([pre_covariate_mean, pre_covariate_std]))\n",
    "\n",
    "        column = dataset['covariates'][:, :, covariate_id]\n",
    "        covariate_mean, covariate_std = compute_mean_std(column)\n",
    "        scale_params['covariates'].append(np.array([covariate_mean, covariate_std]))\n",
    "\n",
    "    for treatment_id in range(num_treatments):\n",
    "        column = dataset['previous_treatments'][:, :, treatment_id]\n",
    "        pre_treatment_mean, pre_treatment_std = compute_mean_std(column)\n",
    "        scale_params['previous_treatments'].append(np.array([pre_treatment_mean, pre_treatment_std]))\n",
    "\n",
    "        column = dataset['treatments'][:, :, treatment_id]\n",
    "        treatment_mean, treatment_std = compute_mean_std(column)\n",
    "        scale_params['treatments'].append(np.array([treatment_mean, treatment_std]))\n",
    "\n",
    "    scale_params['outcomes'].append(np.array([np.mean(dataset['outcomes']), np.std(dataset['outcomes'])]))\n",
    "\n",
    "    for key in scale_params.keys():\n",
    "        scale_params[key] = np.array(scale_params[key])\n",
    "\n",
    "    return scale_params\n",
    "\n",
    "def get_dataset_normalize(dataset, scale_params, num_covariates, num_treatments):\n",
    "    for covariate_id in range(num_covariates):\n",
    "        dataset['previous_covariates'][:, :, covariate_id] = \\\n",
    "            (dataset['previous_covariates'][:, :, covariate_id] - scale_params['previous_covariates'][covariate_id, 0]) / \\\n",
    "            scale_params['previous_covariates'][covariate_id, 1]\n",
    "\n",
    "        dataset['covariates'][:, :, covariate_id] = \\\n",
    "            (dataset['covariates'][:, :, covariate_id] - scale_params['covariates'][covariate_id, 0]) / \\\n",
    "            scale_params['covariates'][covariate_id, 1]\n",
    "\n",
    "    for treatment_id in range(num_treatments):\n",
    "        dataset['previous_treatments'][:, :, treatment_id] = \\\n",
    "            (dataset['previous_treatments'][:, :, treatment_id] - scale_params['previous_treatments'][treatment_id, 0]) / \\\n",
    "            scale_params['previous_treatments'][treatment_id, 1]\n",
    "\n",
    "        dataset['treatments'][:, :, treatment_id] = \\\n",
    "            (dataset['treatments'][:, :, treatment_id] - scale_params['treatments'][treatment_id, 0]) / \\\n",
    "            scale_params['treatments'][treatment_id, 1]\n",
    "\n",
    "    dataset['outcomes'] = (dataset['outcomes'] - scale_params['outcomes'][0,0]) /scale_params['outcomes'][0,1]\n",
    "\n",
    "    return dataset"
   ]
  },
  {
   "cell_type": "code",
   "execution_count": 37,
   "id": "1d9d3a19-6605-44c6-bf40-6e9f4ba86eb0",
   "metadata": {},
   "outputs": [],
   "source": [
    "max_timesteps = int(len(sample_data2020)/len(sample_data2020['pid'].unique()))\n",
    "covariate_cols = ['gender','age','income3','weekday_0','weekday_1','weekday_2','weekday_3','weekday_4', 'weekday_5', 'weekday_6',\n",
    "                  'sprtransp','spring','precip', 'voluntary']\n",
    "treatment_cols = ['log_conformity','restrict','open']\n",
    "#treatment_cols = ['conformity_label0','conformity_label1','conformity_label2','conformity_label3','conformity_label4','restrict','open']\n",
    "# treatment_cols = ['restrict','open']\n",
    "outcome_col = 'move_distance'\n",
    "# dataset2020 = generate_dataset(sample_data2020, max_timesteps, covariate_cols, treatment_cols, outcome_col, True)\n",
    "dataset2019 = generate_dataset(sample_data2019, max_timesteps, covariate_cols, treatment_cols, outcome_col, True)\n",
    "\n",
    "# merge data2020 and data2019\n",
    "# dataset = dict()\n",
    "# for key in dataset2020.keys():\n",
    "#     # if key == 'sequence_length':\n",
    "#     #     dataset[key] = dataset2019[key].append(dataset2020[key])\n",
    "#     # else:\n",
    "#     dataset[key] = np.concatenate((dataset2019[key], dataset2020[key]), axis=0)\n",
    "#norm_dataset = normalize_dataset(dataset, len(covariate_cols), len(treatment_cols)-2) # treatment仅正则化conformity和voluntary两项"
   ]
  },
  {
   "cell_type": "code",
   "execution_count": 14,
   "id": "a16c5a0a-524b-4012-96f1-90144e090bfc",
   "metadata": {
    "tags": []
   },
   "outputs": [
    {
     "name": "stdout",
     "output_type": "stream",
     "text": [
      "previous_covariates\n",
      "(5000, 149, 14)\n",
      "previous_treatments\n",
      "(5000, 149, 7)\n",
      "covariates\n",
      "(5000, 150, 14)\n",
      "treatments\n",
      "(5000, 150, 7)\n",
      "sequence_length\n",
      "(5000,)\n",
      "outcomes\n",
      "(5000, 150, 1)\n"
     ]
    }
   ],
   "source": [
    "for key in list(dataset2019.keys()):\n",
    "    print(key)\n",
    "    print(dataset2019[key].shape)"
   ]
  },
  {
   "cell_type": "code",
   "execution_count": 28,
   "id": "20ed43fe-b9dd-4551-93c7-473e4442ea0c",
   "metadata": {
    "tags": []
   },
   "outputs": [
    {
     "name": "stdout",
     "output_type": "stream",
     "text": [
      "previous_covariates\n",
      "(5000, 150, 14)\n",
      "previous_treatments\n",
      "(5000, 150, 3)\n",
      "covariates\n",
      "(5000, 151, 14)\n",
      "treatments\n",
      "(5000, 151, 3)\n",
      "sequence_length\n",
      "(5000,)\n",
      "outcomes\n",
      "(5000, 151, 1)\n"
     ]
    }
   ],
   "source": [
    "for key in list(dataset2020.keys()):\n",
    "    print(key)\n",
    "    print(dataset2020[key].shape)"
   ]
  },
  {
   "cell_type": "code",
   "execution_count": 11,
   "id": "5e89e32a-3409-4567-8392-eb5912c1697a",
   "metadata": {},
   "outputs": [
    {
     "name": "stdout",
     "output_type": "stream",
     "text": [
      "previous_covariates\n",
      "(20000, 150, 14)\n",
      "previous_treatments\n",
      "(20000, 150, 3)\n",
      "covariates\n",
      "(20000, 151, 14)\n",
      "treatments\n",
      "(20000, 151, 3)\n",
      "sequence_length\n",
      "(20000,)\n",
      "outcomes\n",
      "(20000, 151, 1)\n"
     ]
    }
   ],
   "source": [
    "for key in list(dataset.keys()):\n",
    "    print(key)\n",
    "    print(dataset[key].shape)"
   ]
  },
  {
   "cell_type": "code",
   "execution_count": 38,
   "id": "870ea93e-e5c8-4ad3-bfad-8b9f93802580",
   "metadata": {},
   "outputs": [],
   "source": [
    "# export data\n",
    "import pickle\n",
    "\n",
    "def write_results_to_file(filename, data):\n",
    "    with open(filename, 'wb') as handle:\n",
    "        pickle.dump(data, handle, protocol=2)\n",
    "\n",
    "#write_results_to_file('data/sample10000_logdiscrete_control.txt',dataset)\n",
    "#write_results_to_file('data/sample5000_for_predict_logdiscrete.txt', dataset2020)\n",
    "#write_results_to_file('data/sample5000_for_predict_logdiscrete2019.txt', dataset2019)\n",
    "#write_results_to_file('data/sample10000_log.txt', dataset)\n",
    "write_results_to_file('data/sample5000_log_for_predict_2019.txt', dataset2019)"
   ]
  },
  {
   "cell_type": "code",
   "execution_count": 79,
   "id": "37fabf5e-738e-4ef5-9cf3-a4309833ae0c",
   "metadata": {
    "tags": []
   },
   "outputs": [
    {
     "name": "stdout",
     "output_type": "stream",
     "text": [
      "gender           0\n",
      "age              0\n",
      "income3          0\n",
      "workday          0\n",
      "sprtransp        0\n",
      "spring           0\n",
      "precip           0\n",
      "voluntary        0\n",
      "conformity       0\n",
      "restrict         0\n",
      "open             0\n",
      "move_distance    0\n",
      "dtype: int64\n"
     ]
    }
   ],
   "source": [
    "features = sample_data2020[covariate_cols+treatment_cols+[outcome_col]]\n",
    "print(features.isna().sum())"
   ]
  },
  {
   "cell_type": "code",
   "execution_count": 63,
   "id": "df99dada-f7ac-4e13-b19e-14f00c2d2184",
   "metadata": {},
   "outputs": [
    {
     "data": {
      "text/plain": [
       "(8010, 150, 1)"
      ]
     },
     "execution_count": 63,
     "metadata": {},
     "output_type": "execute_result"
    }
   ],
   "source": [
    "iptw = np.load(\"results/rmsn_sample_10000_gamma_0.6_use_confounders_True/propensity_scores.npy\")\n",
    "iptw.shape"
   ]
  },
  {
   "cell_type": "code",
   "execution_count": 49,
   "id": "0b89744a-f8a7-4773-b71a-8c5727a24727",
   "metadata": {},
   "outputs": [
    {
     "name": "stdout",
     "output_type": "stream",
     "text": [
      "-0.27508382828776695\n"
     ]
    }
   ],
   "source": [
    "print(iptw.min())"
   ]
  },
  {
   "cell_type": "code",
   "execution_count": 41,
   "id": "8fa93e45-0a88-4fd1-8bbb-1c4c1f49414f",
   "metadata": {},
   "outputs": [],
   "source": [
    "outputs = norm_dataset['outcomes']\n",
    "sequence_lengths = norm_dataset['sequence_length']\n",
    "horizon = 1\n",
    "b_predict_actions = False\n",
    "active_entries = np.zeros(outputs.shape)\n",
    "for i in range(sequence_lengths.shape[0]):\n",
    "    sequence_length = int(sequence_lengths[i])\n",
    "\n",
    "    if not b_predict_actions:\n",
    "        for k in range(horizon):\n",
    "            #include the censoring point too, but ignore future shifts that don't exist\n",
    "            active_entries[i, :sequence_length-k, k] = 1\n",
    "    else:\n",
    "        active_entries[i, :sequence_length, :] = 1"
   ]
  },
  {
   "cell_type": "code",
   "execution_count": 43,
   "id": "207b316d-3201-4959-b204-0b84fe9dc6e7",
   "metadata": {},
   "outputs": [
    {
     "data": {
      "text/plain": [
       "1510000.0"
      ]
     },
     "execution_count": 43,
     "metadata": {},
     "output_type": "execute_result"
    }
   ],
   "source": [
    "np.sum(active_entries)"
   ]
  },
  {
   "cell_type": "code",
   "execution_count": 62,
   "id": "8b2ccdbe-4113-4461-b100-339bd4602cd1",
   "metadata": {
    "collapsed": true,
    "jupyter": {
     "outputs_hidden": true
    },
    "tags": []
   },
   "outputs": [
    {
     "name": "stdout",
     "output_type": "stream",
     "text": [
      "{'previous_covariates': array([[[ 0.4836432 ,  0.14829019, -0.27194955],\n",
      "        [ 0.21966952,  0.159632  , -0.29473256],\n",
      "        [ 0.31210715,  0.23716383, -0.18455728],\n",
      "        ...,\n",
      "        [-0.01889956, -0.01106907,  0.01809696],\n",
      "        [-0.02130581,  0.00441948,  0.01511471],\n",
      "        [ 0.        ,  0.        ,  0.        ]],\n",
      "\n",
      "       [[-0.10181909, -0.16746599,  0.65813375],\n",
      "        [-0.27828921, -0.08667827,  0.841197  ],\n",
      "        [-0.37494351,  0.03567515,  0.61385476],\n",
      "        ...,\n",
      "        [ 0.        ,  0.        ,  0.        ],\n",
      "        [ 0.        ,  0.        ,  0.        ],\n",
      "        [ 0.        ,  0.        ,  0.        ]],\n",
      "\n",
      "       [[ 0.34463483, -0.25486716, -0.46962224],\n",
      "        [ 0.10949454, -0.14256839, -0.42181919],\n",
      "        [ 0.17931144, -0.05347157, -0.10505994],\n",
      "        ...,\n",
      "        [ 0.        ,  0.        ,  0.        ],\n",
      "        [ 0.        ,  0.        ,  0.        ],\n",
      "        [ 0.        ,  0.        ,  0.        ]],\n",
      "\n",
      "       ...,\n",
      "\n",
      "       [[-0.28026265,  0.50328932,  0.47389911],\n",
      "        [-0.22226105,  0.38199745,  0.51104897],\n",
      "        [-0.28832491,  0.3523136 ,  0.2850223 ],\n",
      "        ...,\n",
      "        [ 0.        ,  0.        ,  0.        ],\n",
      "        [ 0.        ,  0.        ,  0.        ],\n",
      "        [ 0.        ,  0.        ,  0.        ]],\n",
      "\n",
      "       [[ 0.17419137,  0.04186875,  0.17190079],\n",
      "        [ 0.13587907,  0.02717503,  0.19338748],\n",
      "        [ 0.1911088 ,  0.02102746,  0.11307143],\n",
      "        ...,\n",
      "        [ 0.        ,  0.        ,  0.        ],\n",
      "        [ 0.        ,  0.        ,  0.        ],\n",
      "        [ 0.        ,  0.        ,  0.        ]],\n",
      "\n",
      "       [[ 0.04927679,  0.18928482,  0.22837258],\n",
      "        [-0.125041  ,  0.15645134,  0.38648094],\n",
      "        [-0.17634608,  0.24811516,  0.349121  ],\n",
      "        ...,\n",
      "        [ 0.        ,  0.        ,  0.        ],\n",
      "        [ 0.        ,  0.        ,  0.        ],\n",
      "        [ 0.        ,  0.        ,  0.        ]]]), 'previous_treatments': array([[[1., 1., 0.],\n",
      "        [1., 1., 0.],\n",
      "        [1., 1., 0.],\n",
      "        ...,\n",
      "        [0., 0., 0.],\n",
      "        [0., 0., 0.],\n",
      "        [0., 0., 0.]],\n",
      "\n",
      "       [[1., 1., 1.],\n",
      "        [1., 1., 1.],\n",
      "        [1., 1., 1.],\n",
      "        ...,\n",
      "        [0., 0., 0.],\n",
      "        [0., 0., 0.],\n",
      "        [0., 0., 0.]],\n",
      "\n",
      "       [[1., 1., 1.],\n",
      "        [1., 1., 1.],\n",
      "        [1., 1., 1.],\n",
      "        ...,\n",
      "        [0., 0., 0.],\n",
      "        [0., 0., 0.],\n",
      "        [0., 0., 0.]],\n",
      "\n",
      "       ...,\n",
      "\n",
      "       [[0., 0., 0.],\n",
      "        [0., 0., 0.],\n",
      "        [0., 0., 0.],\n",
      "        ...,\n",
      "        [0., 0., 0.],\n",
      "        [0., 0., 0.],\n",
      "        [0., 0., 0.]],\n",
      "\n",
      "       [[0., 0., 0.],\n",
      "        [0., 0., 0.],\n",
      "        [0., 0., 0.],\n",
      "        ...,\n",
      "        [0., 0., 0.],\n",
      "        [0., 0., 0.],\n",
      "        [0., 0., 0.]],\n",
      "\n",
      "       [[1., 1., 1.],\n",
      "        [1., 1., 1.],\n",
      "        [1., 1., 1.],\n",
      "        ...,\n",
      "        [0., 0., 0.],\n",
      "        [0., 0., 0.],\n",
      "        [0., 0., 0.]]]), 'covariates': array([[[ 0.4836432 ,  0.14829019, -0.27194955],\n",
      "        [ 0.21966952,  0.159632  , -0.29473256],\n",
      "        [ 0.31210715,  0.23716383, -0.18455728],\n",
      "        ...,\n",
      "        [-0.02130581,  0.00441948,  0.01511471],\n",
      "        [-0.00452109, -0.00587509,  0.02528537],\n",
      "        [ 0.        ,  0.        ,  0.        ]],\n",
      "\n",
      "       [[-0.10181909, -0.16746599,  0.65813375],\n",
      "        [-0.27828921, -0.08667827,  0.841197  ],\n",
      "        [-0.37494351,  0.03567515,  0.61385476],\n",
      "        ...,\n",
      "        [ 0.        ,  0.        ,  0.        ],\n",
      "        [ 0.        ,  0.        ,  0.        ],\n",
      "        [ 0.        ,  0.        ,  0.        ]],\n",
      "\n",
      "       [[ 0.34463483, -0.25486716, -0.46962224],\n",
      "        [ 0.10949454, -0.14256839, -0.42181919],\n",
      "        [ 0.17931144, -0.05347157, -0.10505994],\n",
      "        ...,\n",
      "        [ 0.        ,  0.        ,  0.        ],\n",
      "        [ 0.        ,  0.        ,  0.        ],\n",
      "        [ 0.        ,  0.        ,  0.        ]],\n",
      "\n",
      "       ...,\n",
      "\n",
      "       [[-0.28026265,  0.50328932,  0.47389911],\n",
      "        [-0.22226105,  0.38199745,  0.51104897],\n",
      "        [-0.28832491,  0.3523136 ,  0.2850223 ],\n",
      "        ...,\n",
      "        [ 0.        ,  0.        ,  0.        ],\n",
      "        [ 0.        ,  0.        ,  0.        ],\n",
      "        [ 0.        ,  0.        ,  0.        ]],\n",
      "\n",
      "       [[ 0.17419137,  0.04186875,  0.17190079],\n",
      "        [ 0.13587907,  0.02717503,  0.19338748],\n",
      "        [ 0.1911088 ,  0.02102746,  0.11307143],\n",
      "        ...,\n",
      "        [ 0.        ,  0.        ,  0.        ],\n",
      "        [ 0.        ,  0.        ,  0.        ],\n",
      "        [ 0.        ,  0.        ,  0.        ]],\n",
      "\n",
      "       [[ 0.04927679,  0.18928482,  0.22837258],\n",
      "        [-0.125041  ,  0.15645134,  0.38648094],\n",
      "        [-0.17634608,  0.24811516,  0.349121  ],\n",
      "        ...,\n",
      "        [ 0.        ,  0.        ,  0.        ],\n",
      "        [ 0.        ,  0.        ,  0.        ],\n",
      "        [ 0.        ,  0.        ,  0.        ]]]), 'confounders': array([[[-0.05681389],\n",
      "        [-0.18431217],\n",
      "        [-0.02872134],\n",
      "        ...,\n",
      "        [-0.03037612],\n",
      "        [-0.00103766],\n",
      "        [ 0.        ]],\n",
      "\n",
      "       [[ 0.24198298],\n",
      "        [ 0.05412057],\n",
      "        [ 0.19738193],\n",
      "        ...,\n",
      "        [ 0.        ],\n",
      "        [ 0.        ],\n",
      "        [ 0.        ]],\n",
      "\n",
      "       [[ 0.26550339],\n",
      "        [ 0.04842322],\n",
      "        [ 0.19908305],\n",
      "        ...,\n",
      "        [ 0.        ],\n",
      "        [ 0.        ],\n",
      "        [ 0.        ]],\n",
      "\n",
      "       ...,\n",
      "\n",
      "       [[-0.29878451],\n",
      "        [-0.30744606],\n",
      "        [-0.38675874],\n",
      "        ...,\n",
      "        [ 0.        ],\n",
      "        [ 0.        ],\n",
      "        [ 0.        ]],\n",
      "\n",
      "       [[-0.15902802],\n",
      "        [-0.14515051],\n",
      "        [-0.19600572],\n",
      "        ...,\n",
      "        [ 0.        ],\n",
      "        [ 0.        ],\n",
      "        [ 0.        ]],\n",
      "\n",
      "       [[ 0.03853501],\n",
      "        [-0.14050488],\n",
      "        [-0.03816072],\n",
      "        ...,\n",
      "        [ 0.        ],\n",
      "        [ 0.        ],\n",
      "        [ 0.        ]]]), 'treatments': array([[[1., 1., 0.],\n",
      "        [1., 1., 0.],\n",
      "        [1., 1., 0.],\n",
      "        ...,\n",
      "        [0., 0., 0.],\n",
      "        [0., 0., 0.],\n",
      "        [0., 0., 0.]],\n",
      "\n",
      "       [[1., 1., 1.],\n",
      "        [1., 1., 1.],\n",
      "        [1., 1., 1.],\n",
      "        ...,\n",
      "        [0., 0., 0.],\n",
      "        [0., 0., 0.],\n",
      "        [0., 0., 0.]],\n",
      "\n",
      "       [[1., 1., 1.],\n",
      "        [1., 1., 1.],\n",
      "        [1., 1., 1.],\n",
      "        ...,\n",
      "        [0., 0., 0.],\n",
      "        [0., 0., 0.],\n",
      "        [0., 0., 0.]],\n",
      "\n",
      "       ...,\n",
      "\n",
      "       [[0., 0., 0.],\n",
      "        [0., 0., 0.],\n",
      "        [0., 0., 0.],\n",
      "        ...,\n",
      "        [0., 0., 0.],\n",
      "        [0., 0., 0.],\n",
      "        [0., 0., 0.]],\n",
      "\n",
      "       [[0., 0., 0.],\n",
      "        [0., 0., 0.],\n",
      "        [0., 0., 0.],\n",
      "        ...,\n",
      "        [0., 0., 0.],\n",
      "        [0., 0., 0.],\n",
      "        [0., 0., 0.]],\n",
      "\n",
      "       [[1., 1., 1.],\n",
      "        [1., 1., 1.],\n",
      "        [1., 1., 1.],\n",
      "        ...,\n",
      "        [0., 0., 0.],\n",
      "        [0., 0., 0.],\n",
      "        [0., 0., 0.]]]), 'sequence_length': array([30, 25, 28, ..., 25, 26, 28]), 'outcomes': array([[[-0.09931144],\n",
      "        [ 0.03139569],\n",
      "        [ 0.00190339],\n",
      "        ...,\n",
      "        [ 0.00136263],\n",
      "        [-0.00495462],\n",
      "        [ 0.        ]],\n",
      "\n",
      "       [[ 0.09596961],\n",
      "        [ 0.15504068],\n",
      "        [-0.14614256],\n",
      "        ...,\n",
      "        [ 0.        ],\n",
      "        [ 0.        ],\n",
      "        [ 0.        ]],\n",
      "\n",
      "       [[-0.03159848],\n",
      "        [ 0.12222049],\n",
      "        [-0.20725152],\n",
      "        ...,\n",
      "        [ 0.        ],\n",
      "        [ 0.        ],\n",
      "        [ 0.        ]],\n",
      "\n",
      "       ...,\n",
      "\n",
      "       [[-0.09502959],\n",
      "        [-0.18552044],\n",
      "        [ 0.07479009],\n",
      "        ...,\n",
      "        [ 0.        ],\n",
      "        [ 0.        ],\n",
      "        [ 0.        ]],\n",
      "\n",
      "       [[-0.03956476],\n",
      "        [-0.07424241],\n",
      "        [ 0.02870581],\n",
      "        ...,\n",
      "        [ 0.        ],\n",
      "        [ 0.        ],\n",
      "        [ 0.        ]],\n",
      "\n",
      "       [[-0.02858409],\n",
      "        [ 0.03322225],\n",
      "        [-0.12932372],\n",
      "        ...,\n",
      "        [ 0.        ],\n",
      "        [ 0.        ],\n",
      "        [ 0.        ]]])}\n"
     ]
    }
   ],
   "source": [
    "def load_data_from_file(filename):\n",
    "    with open(filename, 'rb') as handle:\n",
    "        return pickle.load(handle)\n",
    "\n",
    "# 使用函数加载数据\n",
    "filename = \"results/simulated_data/_dataset_with_substitute_confounders.txt\"  # 更改为您的文件名\n",
    "simulated_data = load_data_from_file(filename)\n",
    "print(simulated_data)"
   ]
  },
  {
   "cell_type": "code",
   "execution_count": 85,
   "id": "32f47bd7-e9b5-4c7b-83e7-0eef9b1de8ca",
   "metadata": {},
   "outputs": [
    {
     "name": "stdout",
     "output_type": "stream",
     "text": [
      "previous_covariates\n",
      "(5000, 29, 3)\n",
      "previous_treatments\n",
      "(5000, 29, 3)\n",
      "covariates\n",
      "(5000, 30, 3)\n",
      "confounders\n",
      "(5000, 30, 1)\n",
      "treatments\n",
      "(5000, 30, 3)\n",
      "sequence_length\n",
      "(5000,)\n",
      "outcomes\n",
      "(5000, 30, 1)\n"
     ]
    }
   ],
   "source": [
    "for key in list(simulated_data.keys()):\n",
    "    print(key)\n",
    "    print(simulated_data[key].shape)"
   ]
  },
  {
   "cell_type": "code",
   "execution_count": 91,
   "id": "bf0d92c4-17bd-4019-a0ff-adb3a62d9aff",
   "metadata": {},
   "outputs": [
    {
     "name": "stdout",
     "output_type": "stream",
     "text": [
      "151\n",
      "152\n"
     ]
    }
   ],
   "source": [
    "print(len(dataset['outcomes'][1,:,:]))\n",
    "print(dataset['sequence_length'][1])"
   ]
  },
  {
   "cell_type": "markdown",
   "id": "58826618-d8df-4fb1-a2cc-cea3f6f1d294",
   "metadata": {},
   "source": [
    "## 读取空间熵和时间熵"
   ]
  },
  {
   "cell_type": "code",
   "execution_count": 2,
   "id": "6d42286d-d79c-4b37-a004-b1f6dcbcc5a0",
   "metadata": {},
   "outputs": [
    {
     "data": {
      "text/html": [
       "<div>\n",
       "<style scoped>\n",
       "    .dataframe tbody tr th:only-of-type {\n",
       "        vertical-align: middle;\n",
       "    }\n",
       "\n",
       "    .dataframe tbody tr th {\n",
       "        vertical-align: top;\n",
       "    }\n",
       "\n",
       "    .dataframe thead th {\n",
       "        text-align: right;\n",
       "    }\n",
       "</style>\n",
       "<table border=\"1\" class=\"dataframe\">\n",
       "  <thead>\n",
       "    <tr style=\"text-align: right;\">\n",
       "      <th></th>\n",
       "      <th>grid_id</th>\n",
       "      <th>year_month</th>\n",
       "      <th>entropy</th>\n",
       "    </tr>\n",
       "  </thead>\n",
       "  <tbody>\n",
       "    <tr>\n",
       "      <th>0</th>\n",
       "      <td>479</td>\n",
       "      <td>201901</td>\n",
       "      <td>1.943167</td>\n",
       "    </tr>\n",
       "    <tr>\n",
       "      <th>1</th>\n",
       "      <td>479</td>\n",
       "      <td>202003</td>\n",
       "      <td>0.877904</td>\n",
       "    </tr>\n",
       "    <tr>\n",
       "      <th>2</th>\n",
       "      <td>708</td>\n",
       "      <td>201906</td>\n",
       "      <td>1.879201</td>\n",
       "    </tr>\n",
       "    <tr>\n",
       "      <th>3</th>\n",
       "      <td>708</td>\n",
       "      <td>202305</td>\n",
       "      <td>1.898322</td>\n",
       "    </tr>\n",
       "    <tr>\n",
       "      <th>4</th>\n",
       "      <td>1045</td>\n",
       "      <td>202001</td>\n",
       "      <td>2.168966</td>\n",
       "    </tr>\n",
       "  </tbody>\n",
       "</table>\n",
       "</div>"
      ],
      "text/plain": [
       "   grid_id  year_month   entropy\n",
       "0      479      201901  1.943167\n",
       "1      479      202003  0.877904\n",
       "2      708      201906  1.879201\n",
       "3      708      202305  1.898322\n",
       "4     1045      202001  2.168966"
      ]
     },
     "execution_count": 2,
     "metadata": {},
     "output_type": "execute_result"
    }
   ],
   "source": [
    "spatio_ent = pd.read_csv(\"../data/sample_poi_month_entro_yura.csv\")\n",
    "spatio_ent.head()"
   ]
  },
  {
   "cell_type": "code",
   "execution_count": 3,
   "id": "0bd34060-c548-4f00-a94c-52f42a0170f7",
   "metadata": {},
   "outputs": [
    {
     "data": {
      "text/html": [
       "<div>\n",
       "<style scoped>\n",
       "    .dataframe tbody tr th:only-of-type {\n",
       "        vertical-align: middle;\n",
       "    }\n",
       "\n",
       "    .dataframe tbody tr th {\n",
       "        vertical-align: top;\n",
       "    }\n",
       "\n",
       "    .dataframe thead th {\n",
       "        text-align: right;\n",
       "    }\n",
       "</style>\n",
       "<table border=\"1\" class=\"dataframe\">\n",
       "  <thead>\n",
       "    <tr style=\"text-align: right;\">\n",
       "      <th></th>\n",
       "      <th>grid_id</th>\n",
       "      <th>year_month</th>\n",
       "      <th>entropy</th>\n",
       "    </tr>\n",
       "  </thead>\n",
       "  <tbody>\n",
       "    <tr>\n",
       "      <th>0</th>\n",
       "      <td>236</td>\n",
       "      <td>202306</td>\n",
       "      <td>1.311098</td>\n",
       "    </tr>\n",
       "    <tr>\n",
       "      <th>1</th>\n",
       "      <td>708</td>\n",
       "      <td>201912</td>\n",
       "      <td>2.138333</td>\n",
       "    </tr>\n",
       "    <tr>\n",
       "      <th>2</th>\n",
       "      <td>930</td>\n",
       "      <td>202002</td>\n",
       "      <td>1.643418</td>\n",
       "    </tr>\n",
       "    <tr>\n",
       "      <th>3</th>\n",
       "      <td>1045</td>\n",
       "      <td>201902</td>\n",
       "      <td>2.557794</td>\n",
       "    </tr>\n",
       "    <tr>\n",
       "      <th>4</th>\n",
       "      <td>1919</td>\n",
       "      <td>202003</td>\n",
       "      <td>2.184272</td>\n",
       "    </tr>\n",
       "  </tbody>\n",
       "</table>\n",
       "</div>"
      ],
      "text/plain": [
       "   grid_id  year_month   entropy\n",
       "0      236      202306  1.311098\n",
       "1      708      201912  2.138333\n",
       "2      930      202002  1.643418\n",
       "3     1045      201902  2.557794\n",
       "4     1919      202003  2.184272"
      ]
     },
     "execution_count": 3,
     "metadata": {},
     "output_type": "execute_result"
    }
   ],
   "source": [
    "time_ent = pd.read_csv(\"../data/sample_move_month_entro_yura.csv\")\n",
    "time_ent.head()"
   ]
  },
  {
   "cell_type": "code",
   "execution_count": 4,
   "id": "79c286a4-86dc-46d8-a1a4-2c0ae1a7c588",
   "metadata": {},
   "outputs": [
    {
     "data": {
      "text/html": [
       "<div>\n",
       "<style scoped>\n",
       "    .dataframe tbody tr th:only-of-type {\n",
       "        vertical-align: middle;\n",
       "    }\n",
       "\n",
       "    .dataframe tbody tr th {\n",
       "        vertical-align: top;\n",
       "    }\n",
       "\n",
       "    .dataframe thead th {\n",
       "        text-align: right;\n",
       "    }\n",
       "</style>\n",
       "<table border=\"1\" class=\"dataframe\">\n",
       "  <thead>\n",
       "    <tr style=\"text-align: right;\">\n",
       "      <th></th>\n",
       "      <th>grid_id</th>\n",
       "      <th>date</th>\n",
       "      <th>weight</th>\n",
       "      <th>sc_250_avg</th>\n",
       "    </tr>\n",
       "  </thead>\n",
       "  <tbody>\n",
       "    <tr>\n",
       "      <th>0</th>\n",
       "      <td>236</td>\n",
       "      <td>20190511</td>\n",
       "      <td>18.588</td>\n",
       "      <td>132.265566</td>\n",
       "    </tr>\n",
       "    <tr>\n",
       "      <th>1</th>\n",
       "      <td>479</td>\n",
       "      <td>20190404</td>\n",
       "      <td>6.353</td>\n",
       "      <td>178.012618</td>\n",
       "    </tr>\n",
       "    <tr>\n",
       "      <th>2</th>\n",
       "      <td>708</td>\n",
       "      <td>20190415</td>\n",
       "      <td>22.266</td>\n",
       "      <td>291.877133</td>\n",
       "    </tr>\n",
       "    <tr>\n",
       "      <th>3</th>\n",
       "      <td>930</td>\n",
       "      <td>20190327</td>\n",
       "      <td>12.402</td>\n",
       "      <td>1710.075282</td>\n",
       "    </tr>\n",
       "    <tr>\n",
       "      <th>4</th>\n",
       "      <td>1594</td>\n",
       "      <td>20190125</td>\n",
       "      <td>13.437</td>\n",
       "      <td>1509.055300</td>\n",
       "    </tr>\n",
       "  </tbody>\n",
       "</table>\n",
       "</div>"
      ],
      "text/plain": [
       "   grid_id      date  weight   sc_250_avg\n",
       "0      236  20190511  18.588   132.265566\n",
       "1      479  20190404   6.353   178.012618\n",
       "2      708  20190415  22.266   291.877133\n",
       "3      930  20190327  12.402  1710.075282\n",
       "4     1594  20190125  13.437  1509.055300"
      ]
     },
     "execution_count": 4,
     "metadata": {},
     "output_type": "execute_result"
    }
   ],
   "source": [
    "data2019 = pd.read_csv(\"../conformity_result1_2019_yura_1.csv\")\n",
    "data2019.head()"
   ]
  },
  {
   "cell_type": "code",
   "execution_count": 5,
   "id": "c24fd6ad-5125-4cdf-a632-e0be56f5597a",
   "metadata": {},
   "outputs": [],
   "source": [
    "data2019['year_month'] = (data2019['date']/100).astype('int')"
   ]
  },
  {
   "cell_type": "code",
   "execution_count": 7,
   "id": "6cb6374a-ace5-4d48-ab5e-fa07de716849",
   "metadata": {},
   "outputs": [],
   "source": [
    "data2019_merge = pd.merge(data2019, spatio_ent, on=['grid_id','year_month'], how='left')"
   ]
  },
  {
   "cell_type": "code",
   "execution_count": 8,
   "id": "fcc5e50e-01a7-41d3-8bbc-0fd5735e1a01",
   "metadata": {},
   "outputs": [
    {
     "data": {
      "text/plain": [
       "13452"
      ]
     },
     "execution_count": 8,
     "metadata": {},
     "output_type": "execute_result"
    }
   ],
   "source": [
    "data2019_merge['entropy'].isnull().sum()"
   ]
  },
  {
   "cell_type": "markdown",
   "id": "d863a3e9-c590-4951-aef9-52091f7ea1c4",
   "metadata": {},
   "source": []
  },
  {
   "cell_type": "code",
   "execution_count": null,
   "id": "fb87e3eb-dd35-44e3-a435-752ec99297f6",
   "metadata": {},
   "outputs": [],
   "source": [
    "\n"
   ]
  }
 ],
 "metadata": {
  "kernelspec": {
   "display_name": "Python 3 (ipykernel)",
   "language": "python",
   "name": "python3"
  },
  "language_info": {
   "codemirror_mode": {
    "name": "ipython",
    "version": 3
   },
   "file_extension": ".py",
   "mimetype": "text/x-python",
   "name": "python",
   "nbconvert_exporter": "python",
   "pygments_lexer": "ipython3",
   "version": "3.8.10"
  }
 },
 "nbformat": 4,
 "nbformat_minor": 5
}
