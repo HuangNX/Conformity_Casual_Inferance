{
 "cells": [
  {
   "cell_type": "code",
   "execution_count": null,
   "id": "14cdc1ce-57e4-4013-9e4b-f3b4bf9c30c2",
   "metadata": {},
   "outputs": [
    {
     "name": "stderr",
     "output_type": "stream",
     "text": [
      "2024-03-12 11:05:15.069452: I tensorflow/core/util/port.cc:110] oneDNN custom operations are on. You may see slightly different numerical results due to floating-point round-off errors from different computation orders. To turn them off, set the environment variable `TF_ENABLE_ONEDNN_OPTS=0`.\n",
      "2024-03-12 11:05:15.160204: I tensorflow/core/platform/cpu_feature_guard.cc:182] This TensorFlow binary is optimized to use available CPU instructions in performance-critical operations.\n",
      "To enable the following instructions: AVX2 AVX512F AVX512_VNNI AVX512_BF16 FMA, in other operations, rebuild TensorFlow with the appropriate compiler flags.\n",
      "2024-03-12 11:05:16.644126: W tensorflow/compiler/tf2tensorrt/utils/py_utils.cc:38] TF-TRT Warning: Could not find TensorRT\n"
     ]
    }
   ],
   "source": [
    "import tensorflow as tf\n",
    "from tensorflow.keras import layers, models"
   ]
  },
  {
   "cell_type": "markdown",
   "id": "a0fec295-9385-43ba-8761-2da368d10628",
   "metadata": {},
   "source": [
    "implementation of the Variational Recurrent\n",
    "Neural Network (VRNN) from https://arxiv.org/abs/1506.02216\n",
    "using unimodal isotropic gaussian distributions for \n",
    "inference, prior, and generating models."
   ]
  },
  {
   "cell_type": "code",
   "execution_count": 2,
   "id": "83f662b0-7c81-4087-96ea-8958cc721420",
   "metadata": {
    "jupyter": {
     "source_hidden": true
    },
    "tags": []
   },
   "outputs": [],
   "source": [
    "class vrnn(models.Model):\n",
    "    def __init__(self, x_dim, h_dim, z_dim, n_layers, bias=False):\n",
    "        super(VRNN, self).__init__()\n",
    "        \n",
    "        self.x_dim = x_dim\n",
    "        self.h_dim = h_dim\n",
    "        self.z_dim = z_dim\n",
    "        self.n_layers = n_layers\n",
    "        self.EPS = tf.constant(1e-6) # very small values, avoid numerical problem during iterations\n",
    "        \n",
    "        # 1. feature-extracting transformations (\\phi function definition)\n",
    "        # -----------------------------------------------------------------\n",
    "        # \\phi^x_\\tau(x)\n",
    "        self.phi_x = models.Sequential([\n",
    "            layers.Dense(h_dim, activation='relu'),\n",
    "            layers.Dense(h_dim, activation='relu')\n",
    "        ])\n",
    "        # \\phi^z_\\tau(z)\n",
    "        self.phi_z = models.Sequential([\n",
    "            layers.Dense(h_dim, activation='relu')\n",
    "        ])\n",
    "        \n",
    "        # 2. encoder (Eq.9)\n",
    "        # -----------------------------------------------------------------\n",
    "        # \\phi^{enc}_\\tau()\n",
    "        self.enc = models.Sequential([\n",
    "            layers.Dense(h_dim, activation='relu'),\n",
    "            layers.Dense(h_dim, activation='relu')\n",
    "        ])\n",
    "        # \\mu_{z,t}\n",
    "        self.enc_mean = layers.Dense(z_dim)\n",
    "        # \\sigma_{z,t}\n",
    "        self.enc_std = models.Sequential([\n",
    "            layers.Dense(z_dim),\n",
    "            layers.Softplus()\n",
    "        ])\n",
    "         # SoftPlus is a smooth approximation to \n",
    "         # the ReLU function and can be used to constrain the output of a machine to always be positive.\n",
    "        \n",
    "        # 3. prior (Eq.5)\n",
    "        # -----------------------------------------------------------------\n",
    "        # \\phi^{prior}_\\tau(h)\n",
    "        self.prior = models.Sequential([\n",
    "            layers.Dense(h_dim, activation='relu')\n",
    "        ])\n",
    "        # \\mu_{0,t}\n",
    "        self.prior_mean = layers.Dense(z_dim)\n",
    "        # \\sigma_{0,t}: Vector where the i-th element is the std of the i-th dimension.\n",
    "        self.prior_std = models.Sequential([\n",
    "            layers.Dense(z_dim),\n",
    "            layers.Softplus()\n",
    "        ])\n",
    "        \n",
    "        # 4. decoder (Eq.6)\n",
    "        # -----------------------------------------------------------------\n",
    "        # \\phi^{dec}_\\tau()\n",
    "        self.dec = models.Sequential([\n",
    "            layers.Dense(h_dim, activation='relu'),\n",
    "            layers.Dense(h_dim, activation='relu')\n",
    "        ])\n",
    "        # \\sigma_{x,t}\n",
    "        self.dec_std = models.Sequential([\n",
    "            layers.Dense(x_dim),\n",
    "            layers.Softplus()\n",
    "        ])\n",
    "        # \\mu_{x,t}\n",
    "        self.dec_mean = models.Sequential([\n",
    "            layers.Dense(x_dim, activation='sigmoid')\n",
    "        ])\n",
    "        \n",
    "        # 5. recurrence (Eq.7)\n",
    "        # -----------------------------------------------------------------\n",
    "        # num_layers代表lstm层数。在TensorFlow中实现多层LSTM，你需要通过堆叠多个LSTM层来实现。\n",
    "        # TensorFlow会自动为偏置项提供一个合适的初始值\n",
    "        self.rnn = layers.LSTM(self.h_dim, return_sequences=True, return_state=True, \n",
    "                               recurrent_initializer='glorot_uniform')"
   ]
  },
  {
   "cell_type": "code",
   "execution_count": null,
   "id": "c1c8dbff-4bb7-4f94-ae1a-af18367427ce",
   "metadata": {},
   "outputs": [],
   "source": []
  }
 ],
 "metadata": {
  "kernelspec": {
   "display_name": "new_causal",
   "language": "python",
   "name": "new_causal"
  },
  "language_info": {
   "codemirror_mode": {
    "name": "ipython",
    "version": 3
   },
   "file_extension": ".py",
   "mimetype": "text/x-python",
   "name": "python",
   "nbconvert_exporter": "python",
   "pygments_lexer": "ipython3",
   "version": "3.8.10"
  }
 },
 "nbformat": 4,
 "nbformat_minor": 5
}
