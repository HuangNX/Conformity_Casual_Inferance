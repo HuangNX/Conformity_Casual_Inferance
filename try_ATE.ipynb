{
 "cells": [
  {
   "cell_type": "code",
   "execution_count": 1,
   "id": "95d8fddc-885c-4f5b-9cfc-4e7d8ae56c1b",
   "metadata": {},
   "outputs": [],
   "source": [
    "import numpy as np\n",
    "import pandas as pd\n",
    "import pickle\n",
    "from matplotlib import pyplot as plt\n",
    "\n",
    "import statsmodels.api as sm\n",
    "import statsmodels.formula.api as smf\n",
    "from sklearn.linear_model import LogisticRegression\n",
    "from causallib.estimation import IPW"
   ]
  },
  {
   "cell_type": "code",
   "execution_count": 2,
   "id": "c2516975-74c9-42e6-8267-8e4cd4bfde6b",
   "metadata": {},
   "outputs": [],
   "source": [
    "# 导入数据\n",
    "def load_data_from_file(filename):\n",
    "    with open(filename, 'rb') as handle:\n",
    "        return pickle.load(handle)\n",
    "\n",
    "# # 使用函数加载数据\n",
    "# filename = \"data/real_data_norm2.txt\"  # 更改为您的文件名\n",
    "# data = load_data_from_file(filename)\n",
    "# print(list(data.keys()))"
   ]
  },
  {
   "cell_type": "code",
   "execution_count": 38,
   "id": "6bb8810b-d89b-4987-914d-5bb2afb1cd81",
   "metadata": {},
   "outputs": [],
   "source": [
    "from causallib.datasets import load_nhefs\n",
    "\n",
    "sample_data = load_nhefs()"
   ]
  },
  {
   "cell_type": "code",
   "execution_count": 62,
   "id": "3c048d60-1b6b-4be4-8a3d-d09d8fa24eac",
   "metadata": {},
   "outputs": [
    {
     "data": {
      "text/html": [
       "<style>#sk-container-id-5 {color: black;background-color: white;}#sk-container-id-5 pre{padding: 0;}#sk-container-id-5 div.sk-toggleable {background-color: white;}#sk-container-id-5 label.sk-toggleable__label {cursor: pointer;display: block;width: 100%;margin-bottom: 0;padding: 0.3em;box-sizing: border-box;text-align: center;}#sk-container-id-5 label.sk-toggleable__label-arrow:before {content: \"▸\";float: left;margin-right: 0.25em;color: #696969;}#sk-container-id-5 label.sk-toggleable__label-arrow:hover:before {color: black;}#sk-container-id-5 div.sk-estimator:hover label.sk-toggleable__label-arrow:before {color: black;}#sk-container-id-5 div.sk-toggleable__content {max-height: 0;max-width: 0;overflow: hidden;text-align: left;background-color: #f0f8ff;}#sk-container-id-5 div.sk-toggleable__content pre {margin: 0.2em;color: black;border-radius: 0.25em;background-color: #f0f8ff;}#sk-container-id-5 input.sk-toggleable__control:checked~div.sk-toggleable__content {max-height: 200px;max-width: 100%;overflow: auto;}#sk-container-id-5 input.sk-toggleable__control:checked~label.sk-toggleable__label-arrow:before {content: \"▾\";}#sk-container-id-5 div.sk-estimator input.sk-toggleable__control:checked~label.sk-toggleable__label {background-color: #d4ebff;}#sk-container-id-5 div.sk-label input.sk-toggleable__control:checked~label.sk-toggleable__label {background-color: #d4ebff;}#sk-container-id-5 input.sk-hidden--visually {border: 0;clip: rect(1px 1px 1px 1px);clip: rect(1px, 1px, 1px, 1px);height: 1px;margin: -1px;overflow: hidden;padding: 0;position: absolute;width: 1px;}#sk-container-id-5 div.sk-estimator {font-family: monospace;background-color: #f0f8ff;border: 1px dotted black;border-radius: 0.25em;box-sizing: border-box;margin-bottom: 0.5em;}#sk-container-id-5 div.sk-estimator:hover {background-color: #d4ebff;}#sk-container-id-5 div.sk-parallel-item::after {content: \"\";width: 100%;border-bottom: 1px solid gray;flex-grow: 1;}#sk-container-id-5 div.sk-label:hover label.sk-toggleable__label {background-color: #d4ebff;}#sk-container-id-5 div.sk-serial::before {content: \"\";position: absolute;border-left: 1px solid gray;box-sizing: border-box;top: 0;bottom: 0;left: 50%;z-index: 0;}#sk-container-id-5 div.sk-serial {display: flex;flex-direction: column;align-items: center;background-color: white;padding-right: 0.2em;padding-left: 0.2em;position: relative;}#sk-container-id-5 div.sk-item {position: relative;z-index: 1;}#sk-container-id-5 div.sk-parallel {display: flex;align-items: stretch;justify-content: center;background-color: white;position: relative;}#sk-container-id-5 div.sk-item::before, #sk-container-id-5 div.sk-parallel-item::before {content: \"\";position: absolute;border-left: 1px solid gray;box-sizing: border-box;top: 0;bottom: 0;left: 50%;z-index: -1;}#sk-container-id-5 div.sk-parallel-item {display: flex;flex-direction: column;z-index: 1;position: relative;background-color: white;}#sk-container-id-5 div.sk-parallel-item:first-child::after {align-self: flex-end;width: 50%;}#sk-container-id-5 div.sk-parallel-item:last-child::after {align-self: flex-start;width: 50%;}#sk-container-id-5 div.sk-parallel-item:only-child::after {width: 0;}#sk-container-id-5 div.sk-dashed-wrapped {border: 1px dashed gray;margin: 0 0.4em 0.5em 0.4em;box-sizing: border-box;padding-bottom: 0.4em;background-color: white;}#sk-container-id-5 div.sk-label label {font-family: monospace;font-weight: bold;display: inline-block;line-height: 1.2em;}#sk-container-id-5 div.sk-label-container {text-align: center;}#sk-container-id-5 div.sk-container {/* jupyter's `normalize.less` sets `[hidden] { display: none; }` but bootstrap.min.css set `[hidden] { display: none !important; }` so we also need the `!important` here to be able to override the default hidden behavior on the sphinx rendered scikit-learn.org. See: https://github.com/scikit-learn/scikit-learn/issues/21755 */display: inline-block !important;position: relative;}#sk-container-id-5 div.sk-text-repr-fallback {display: none;}</style><div id=\"sk-container-id-5\" class=\"sk-top-container\"><div class=\"sk-text-repr-fallback\"><pre>IPW(clip_max=None, clip_min=None, use_stabilized=False, verbose=False,\n",
       "    learner=LogisticRegression(solver=&#x27;liblinear&#x27;))</pre><b>In a Jupyter environment, please rerun this cell to show the HTML representation or trust the notebook. <br />On GitHub, the HTML representation is unable to render, please try loading this page with nbviewer.org.</b></div><div class=\"sk-container\" hidden><div class=\"sk-item sk-dashed-wrapped\"><div class=\"sk-label-container\"><div class=\"sk-label sk-toggleable\"><input class=\"sk-toggleable__control sk-hidden--visually\" id=\"sk-estimator-id-13\" type=\"checkbox\" ><label for=\"sk-estimator-id-13\" class=\"sk-toggleable__label sk-toggleable__label-arrow\">IPW</label><div class=\"sk-toggleable__content\"><pre>IPW(clip_max=None, clip_min=None, use_stabilized=False, verbose=False,\n",
       "    learner=LogisticRegression(solver=&#x27;liblinear&#x27;))</pre></div></div></div><div class=\"sk-parallel\"><div class=\"sk-parallel-item\"><div class=\"sk-item\"><div class=\"sk-label-container\"><div class=\"sk-label sk-toggleable\"><input class=\"sk-toggleable__control sk-hidden--visually\" id=\"sk-estimator-id-14\" type=\"checkbox\" ><label for=\"sk-estimator-id-14\" class=\"sk-toggleable__label sk-toggleable__label-arrow\">learner: LogisticRegression</label><div class=\"sk-toggleable__content\"><pre>LogisticRegression(solver=&#x27;liblinear&#x27;)</pre></div></div></div><div class=\"sk-serial\"><div class=\"sk-item\"><div class=\"sk-estimator sk-toggleable\"><input class=\"sk-toggleable__control sk-hidden--visually\" id=\"sk-estimator-id-15\" type=\"checkbox\" ><label for=\"sk-estimator-id-15\" class=\"sk-toggleable__label sk-toggleable__label-arrow\">LogisticRegression</label><div class=\"sk-toggleable__content\"><pre>LogisticRegression(solver=&#x27;liblinear&#x27;)</pre></div></div></div></div></div></div></div></div></div></div>"
      ],
      "text/plain": [
       "IPW(clip_max=None, clip_min=None, use_stabilized=False, verbose=False,\n",
       "    learner=LogisticRegression(solver='liblinear'))"
      ]
     },
     "execution_count": 62,
     "metadata": {},
     "output_type": "execute_result"
    }
   ],
   "source": [
    "learner = LogisticRegression(solver=\"liblinear\")\n",
    "ipw = IPW(learner)\n",
    "ipw.fit(sample_data.X, sample_data.a)"
   ]
  },
  {
   "cell_type": "code",
   "execution_count": 64,
   "id": "711559a2-4ce0-4257-97b1-869373844be3",
   "metadata": {},
   "outputs": [],
   "source": [
    "outcomes = ipw.estimate_population_outcome(sample_data.X, sample_data.a, sample_data.y)"
   ]
  },
  {
   "cell_type": "code",
   "execution_count": 70,
   "id": "d3b3e78c-4a9a-4a06-b044-599370529571",
   "metadata": {},
   "outputs": [
    {
     "data": {
      "text/html": [
       "<div>\n",
       "<style scoped>\n",
       "    .dataframe tbody tr th:only-of-type {\n",
       "        vertical-align: middle;\n",
       "    }\n",
       "\n",
       "    .dataframe tbody tr th {\n",
       "        vertical-align: top;\n",
       "    }\n",
       "\n",
       "    .dataframe thead th {\n",
       "        text-align: right;\n",
       "    }\n",
       "</style>\n",
       "<table border=\"1\" class=\"dataframe\">\n",
       "  <thead>\n",
       "    <tr style=\"text-align: right;\">\n",
       "      <th></th>\n",
       "      <th>age</th>\n",
       "      <th>race</th>\n",
       "      <th>sex</th>\n",
       "      <th>smokeintensity</th>\n",
       "      <th>smokeyrs</th>\n",
       "      <th>wt71</th>\n",
       "      <th>active_1</th>\n",
       "      <th>active_2</th>\n",
       "      <th>education_2</th>\n",
       "      <th>education_3</th>\n",
       "      <th>education_4</th>\n",
       "      <th>education_5</th>\n",
       "      <th>exercise_1</th>\n",
       "      <th>exercise_2</th>\n",
       "      <th>age^2</th>\n",
       "      <th>wt71^2</th>\n",
       "      <th>smokeintensity^2</th>\n",
       "      <th>smokeyrs^2</th>\n",
       "    </tr>\n",
       "  </thead>\n",
       "  <tbody>\n",
       "    <tr>\n",
       "      <th>0</th>\n",
       "      <td>42</td>\n",
       "      <td>1</td>\n",
       "      <td>0</td>\n",
       "      <td>30</td>\n",
       "      <td>29</td>\n",
       "      <td>79.04</td>\n",
       "      <td>0</td>\n",
       "      <td>0</td>\n",
       "      <td>0</td>\n",
       "      <td>0</td>\n",
       "      <td>0</td>\n",
       "      <td>0</td>\n",
       "      <td>0</td>\n",
       "      <td>1</td>\n",
       "      <td>1764</td>\n",
       "      <td>6247.3216</td>\n",
       "      <td>900</td>\n",
       "      <td>841</td>\n",
       "    </tr>\n",
       "    <tr>\n",
       "      <th>1</th>\n",
       "      <td>36</td>\n",
       "      <td>0</td>\n",
       "      <td>0</td>\n",
       "      <td>20</td>\n",
       "      <td>24</td>\n",
       "      <td>58.63</td>\n",
       "      <td>0</td>\n",
       "      <td>0</td>\n",
       "      <td>1</td>\n",
       "      <td>0</td>\n",
       "      <td>0</td>\n",
       "      <td>0</td>\n",
       "      <td>0</td>\n",
       "      <td>0</td>\n",
       "      <td>1296</td>\n",
       "      <td>3437.4769</td>\n",
       "      <td>400</td>\n",
       "      <td>576</td>\n",
       "    </tr>\n",
       "    <tr>\n",
       "      <th>2</th>\n",
       "      <td>56</td>\n",
       "      <td>1</td>\n",
       "      <td>1</td>\n",
       "      <td>20</td>\n",
       "      <td>26</td>\n",
       "      <td>56.81</td>\n",
       "      <td>0</td>\n",
       "      <td>0</td>\n",
       "      <td>1</td>\n",
       "      <td>0</td>\n",
       "      <td>0</td>\n",
       "      <td>0</td>\n",
       "      <td>0</td>\n",
       "      <td>1</td>\n",
       "      <td>3136</td>\n",
       "      <td>3227.3761</td>\n",
       "      <td>400</td>\n",
       "      <td>676</td>\n",
       "    </tr>\n",
       "    <tr>\n",
       "      <th>3</th>\n",
       "      <td>68</td>\n",
       "      <td>1</td>\n",
       "      <td>0</td>\n",
       "      <td>3</td>\n",
       "      <td>53</td>\n",
       "      <td>59.42</td>\n",
       "      <td>1</td>\n",
       "      <td>0</td>\n",
       "      <td>0</td>\n",
       "      <td>0</td>\n",
       "      <td>0</td>\n",
       "      <td>0</td>\n",
       "      <td>0</td>\n",
       "      <td>1</td>\n",
       "      <td>4624</td>\n",
       "      <td>3530.7364</td>\n",
       "      <td>9</td>\n",
       "      <td>2809</td>\n",
       "    </tr>\n",
       "    <tr>\n",
       "      <th>4</th>\n",
       "      <td>40</td>\n",
       "      <td>0</td>\n",
       "      <td>0</td>\n",
       "      <td>20</td>\n",
       "      <td>19</td>\n",
       "      <td>87.09</td>\n",
       "      <td>1</td>\n",
       "      <td>0</td>\n",
       "      <td>1</td>\n",
       "      <td>0</td>\n",
       "      <td>0</td>\n",
       "      <td>0</td>\n",
       "      <td>1</td>\n",
       "      <td>0</td>\n",
       "      <td>1600</td>\n",
       "      <td>7584.6681</td>\n",
       "      <td>400</td>\n",
       "      <td>361</td>\n",
       "    </tr>\n",
       "    <tr>\n",
       "      <th>...</th>\n",
       "      <td>...</td>\n",
       "      <td>...</td>\n",
       "      <td>...</td>\n",
       "      <td>...</td>\n",
       "      <td>...</td>\n",
       "      <td>...</td>\n",
       "      <td>...</td>\n",
       "      <td>...</td>\n",
       "      <td>...</td>\n",
       "      <td>...</td>\n",
       "      <td>...</td>\n",
       "      <td>...</td>\n",
       "      <td>...</td>\n",
       "      <td>...</td>\n",
       "      <td>...</td>\n",
       "      <td>...</td>\n",
       "      <td>...</td>\n",
       "      <td>...</td>\n",
       "    </tr>\n",
       "    <tr>\n",
       "      <th>1623</th>\n",
       "      <td>47</td>\n",
       "      <td>0</td>\n",
       "      <td>1</td>\n",
       "      <td>20</td>\n",
       "      <td>31</td>\n",
       "      <td>84.94</td>\n",
       "      <td>0</td>\n",
       "      <td>0</td>\n",
       "      <td>0</td>\n",
       "      <td>0</td>\n",
       "      <td>0</td>\n",
       "      <td>0</td>\n",
       "      <td>0</td>\n",
       "      <td>0</td>\n",
       "      <td>2209</td>\n",
       "      <td>7214.8036</td>\n",
       "      <td>400</td>\n",
       "      <td>961</td>\n",
       "    </tr>\n",
       "    <tr>\n",
       "      <th>1624</th>\n",
       "      <td>45</td>\n",
       "      <td>0</td>\n",
       "      <td>0</td>\n",
       "      <td>40</td>\n",
       "      <td>29</td>\n",
       "      <td>63.05</td>\n",
       "      <td>0</td>\n",
       "      <td>0</td>\n",
       "      <td>0</td>\n",
       "      <td>0</td>\n",
       "      <td>0</td>\n",
       "      <td>0</td>\n",
       "      <td>0</td>\n",
       "      <td>0</td>\n",
       "      <td>2025</td>\n",
       "      <td>3975.3025</td>\n",
       "      <td>1600</td>\n",
       "      <td>841</td>\n",
       "    </tr>\n",
       "    <tr>\n",
       "      <th>1625</th>\n",
       "      <td>47</td>\n",
       "      <td>0</td>\n",
       "      <td>1</td>\n",
       "      <td>20</td>\n",
       "      <td>31</td>\n",
       "      <td>57.72</td>\n",
       "      <td>0</td>\n",
       "      <td>0</td>\n",
       "      <td>0</td>\n",
       "      <td>0</td>\n",
       "      <td>0</td>\n",
       "      <td>0</td>\n",
       "      <td>0</td>\n",
       "      <td>0</td>\n",
       "      <td>2209</td>\n",
       "      <td>3331.5984</td>\n",
       "      <td>400</td>\n",
       "      <td>961</td>\n",
       "    </tr>\n",
       "    <tr>\n",
       "      <th>1627</th>\n",
       "      <td>68</td>\n",
       "      <td>0</td>\n",
       "      <td>0</td>\n",
       "      <td>15</td>\n",
       "      <td>46</td>\n",
       "      <td>52.39</td>\n",
       "      <td>1</td>\n",
       "      <td>0</td>\n",
       "      <td>0</td>\n",
       "      <td>0</td>\n",
       "      <td>0</td>\n",
       "      <td>0</td>\n",
       "      <td>1</td>\n",
       "      <td>0</td>\n",
       "      <td>4624</td>\n",
       "      <td>2744.7121</td>\n",
       "      <td>225</td>\n",
       "      <td>2116</td>\n",
       "    </tr>\n",
       "    <tr>\n",
       "      <th>1628</th>\n",
       "      <td>29</td>\n",
       "      <td>0</td>\n",
       "      <td>0</td>\n",
       "      <td>30</td>\n",
       "      <td>14</td>\n",
       "      <td>90.83</td>\n",
       "      <td>1</td>\n",
       "      <td>0</td>\n",
       "      <td>1</td>\n",
       "      <td>0</td>\n",
       "      <td>0</td>\n",
       "      <td>0</td>\n",
       "      <td>1</td>\n",
       "      <td>0</td>\n",
       "      <td>841</td>\n",
       "      <td>8250.0889</td>\n",
       "      <td>900</td>\n",
       "      <td>196</td>\n",
       "    </tr>\n",
       "  </tbody>\n",
       "</table>\n",
       "<p>1566 rows × 18 columns</p>\n",
       "</div>"
      ],
      "text/plain": [
       "      age  race  sex  smokeintensity  smokeyrs   wt71  active_1  active_2  \\\n",
       "0      42     1    0              30        29  79.04         0         0   \n",
       "1      36     0    0              20        24  58.63         0         0   \n",
       "2      56     1    1              20        26  56.81         0         0   \n",
       "3      68     1    0               3        53  59.42         1         0   \n",
       "4      40     0    0              20        19  87.09         1         0   \n",
       "...   ...   ...  ...             ...       ...    ...       ...       ...   \n",
       "1623   47     0    1              20        31  84.94         0         0   \n",
       "1624   45     0    0              40        29  63.05         0         0   \n",
       "1625   47     0    1              20        31  57.72         0         0   \n",
       "1627   68     0    0              15        46  52.39         1         0   \n",
       "1628   29     0    0              30        14  90.83         1         0   \n",
       "\n",
       "      education_2  education_3  education_4  education_5  exercise_1  \\\n",
       "0               0            0            0            0           0   \n",
       "1               1            0            0            0           0   \n",
       "2               1            0            0            0           0   \n",
       "3               0            0            0            0           0   \n",
       "4               1            0            0            0           1   \n",
       "...           ...          ...          ...          ...         ...   \n",
       "1623            0            0            0            0           0   \n",
       "1624            0            0            0            0           0   \n",
       "1625            0            0            0            0           0   \n",
       "1627            0            0            0            0           1   \n",
       "1628            1            0            0            0           1   \n",
       "\n",
       "      exercise_2  age^2     wt71^2  smokeintensity^2  smokeyrs^2  \n",
       "0              1   1764  6247.3216               900         841  \n",
       "1              0   1296  3437.4769               400         576  \n",
       "2              1   3136  3227.3761               400         676  \n",
       "3              1   4624  3530.7364                 9        2809  \n",
       "4              0   1600  7584.6681               400         361  \n",
       "...          ...    ...        ...               ...         ...  \n",
       "1623           0   2209  7214.8036               400         961  \n",
       "1624           0   2025  3975.3025              1600         841  \n",
       "1625           0   2209  3331.5984               400         961  \n",
       "1627           0   4624  2744.7121               225        2116  \n",
       "1628           0    841  8250.0889               900         196  \n",
       "\n",
       "[1566 rows x 18 columns]"
      ]
     },
     "execution_count": 70,
     "metadata": {},
     "output_type": "execute_result"
    }
   ],
   "source": [
    "sample_data.X"
   ]
  },
  {
   "cell_type": "code",
   "execution_count": 66,
   "id": "6985ef27-8c25-4836-afc5-9f6db264f07a",
   "metadata": {},
   "outputs": [
    {
     "data": {
      "text/plain": [
       "0         3\n",
       "1         2\n",
       "2         2\n",
       "3         3\n",
       "4         2\n",
       "         ..\n",
       "754995    3\n",
       "754996    3\n",
       "754997    3\n",
       "754998    3\n",
       "754999    3\n",
       "Name: conformity, Length: 755000, dtype: int64"
      ]
     },
     "execution_count": 66,
     "metadata": {},
     "output_type": "execute_result"
    }
   ],
   "source": [
    "TREAT['conformity']"
   ]
  },
  {
   "cell_type": "code",
   "execution_count": 56,
   "id": "fd71f583-f478-414f-b1da-a237a05db203",
   "metadata": {},
   "outputs": [
    {
     "data": {
      "text/plain": [
       "(755000, 17)"
      ]
     },
     "execution_count": 56,
     "metadata": {},
     "output_type": "execute_result"
    }
   ],
   "source": [
    "X.shape"
   ]
  },
  {
   "cell_type": "markdown",
   "id": "c7b0f32d-ae1a-42c5-ba77-02650e6b3ced",
   "metadata": {},
   "source": [
    "## 统计方法尝试"
   ]
  },
  {
   "cell_type": "code",
   "execution_count": 4,
   "id": "4341f912-2de2-4793-ae26-3ea64e7237cd",
   "metadata": {},
   "outputs": [],
   "source": [
    "filename = \"data/sample5000_for_predict_logdiscrete.txt\"\n",
    "pred_data = load_data_from_file(filename)"
   ]
  },
  {
   "cell_type": "code",
   "execution_count": 6,
   "id": "707b5799-17e1-40c8-9858-63915a258cd7",
   "metadata": {},
   "outputs": [
    {
     "name": "stdout",
     "output_type": "stream",
     "text": [
      "(5000, 151, 14)\n"
     ]
    }
   ],
   "source": [
    "print(pred_data['covariates'].shape)"
   ]
  },
  {
   "cell_type": "code",
   "execution_count": 5,
   "id": "9b898aaf-8632-412d-8c65-84c9abbfdb35",
   "metadata": {},
   "outputs": [],
   "source": [
    "# 构建变量\n",
    "# covariate_cols = ['gender','age','income3','weekday','sprtransp','spring','precip', 'voluntary']\n",
    "# treatment_cols = ['conformity','restrict','open']\n",
    "# outcome_col = 'move_distance'\n",
    "covariate_cols = ['gender','age','income3','weekday_0','weekday_1','weekday_2','weekday_3','weekday_4', 'weekday_5', 'weekday_6',\n",
    "                  'sprtransp','spring','precip', 'voluntary']\n",
    "treatment_cols = ['conformity_label0','conformity_label1','conformity_label2','conformity_label3','conformity_label4','restrict','open']\n",
    "outcome_col = 'move_distance'\n",
    "\n",
    "X = pd.DataFrame(pred_data['covariates'].reshape(-1,len(covariate_cols)), columns=covariate_cols)\n",
    "TREAT = pd.DataFrame(pred_data['treatments'].reshape(-1,len(treatment_cols)), columns=treatment_cols)\n",
    "X = pd.concat([X, TREAT[['restrict','open']]], axis=1)\n",
    "Y = pd.DataFrame(pred_data['outcomes'].reshape(-1), columns=[outcome_col])\n",
    "#W = pd.DataFrame(iptw.reshape(-1), columns=['iptw'])\n",
    "\n",
    "ts = np.tile(np.arange(1, pred_data['outcomes'].shape[1]+1), pred_data['outcomes'].shape[0])\n",
    "X['t']=ts\n",
    "TREAT['t']=ts\n",
    "Y['t']=ts\n",
    "# ts = np.tile(np.arange(1, 151), 4005)\n",
    "# W['t']=ts"
   ]
  },
  {
   "cell_type": "code",
   "execution_count": 6,
   "id": "79c96266-dc5a-4952-aca7-6a37e8ad92d7",
   "metadata": {},
   "outputs": [],
   "source": [
    "mapping_dict = {\n",
    "    tuple([1, 0, 0, 0, 0]): 0,\n",
    "    tuple([1, 1, 0, 0, 0]): 1,\n",
    "    tuple([1, 1, 1, 0, 0]): 2,\n",
    "    tuple([1, 1, 1, 1, 0]): 3,\n",
    "    tuple([1, 1, 1, 1, 1]): 4\n",
    "}\n",
    "\n",
    "# 应用映射\n",
    "labeled_data = np.zeros(len(TREAT), dtype=int)  # 初始化一个新的数组\n",
    "labels = TREAT[['conformity_label0','conformity_label1','conformity_label2','conformity_label3','conformity_label4']].values\n",
    "for i in range(labels.shape[0]):\n",
    "    labeled_data[i] = mapping_dict[tuple(labels[i])]\n",
    "\n",
    "TREAT['conformity'] = labeled_data"
   ]
  },
  {
   "cell_type": "code",
   "execution_count": 32,
   "id": "c86cbfdc-9a4c-4147-b9cc-e6c96d410c7e",
   "metadata": {},
   "outputs": [
    {
     "data": {
      "text/html": [
       "<div>\n",
       "<style scoped>\n",
       "    .dataframe tbody tr th:only-of-type {\n",
       "        vertical-align: middle;\n",
       "    }\n",
       "\n",
       "    .dataframe tbody tr th {\n",
       "        vertical-align: top;\n",
       "    }\n",
       "\n",
       "    .dataframe thead th {\n",
       "        text-align: right;\n",
       "    }\n",
       "</style>\n",
       "<table border=\"1\" class=\"dataframe\">\n",
       "  <thead>\n",
       "    <tr style=\"text-align: right;\">\n",
       "      <th></th>\n",
       "      <th>gender</th>\n",
       "      <th>age</th>\n",
       "      <th>income3</th>\n",
       "      <th>weekday_0</th>\n",
       "      <th>weekday_1</th>\n",
       "      <th>weekday_2</th>\n",
       "      <th>weekday_3</th>\n",
       "      <th>weekday_4</th>\n",
       "      <th>weekday_5</th>\n",
       "      <th>weekday_6</th>\n",
       "      <th>sprtransp</th>\n",
       "      <th>spring</th>\n",
       "      <th>precip</th>\n",
       "      <th>voluntary</th>\n",
       "      <th>restrict</th>\n",
       "      <th>open</th>\n",
       "      <th>t</th>\n",
       "    </tr>\n",
       "  </thead>\n",
       "  <tbody>\n",
       "    <tr>\n",
       "      <th>0</th>\n",
       "      <td>1.0</td>\n",
       "      <td>0.0</td>\n",
       "      <td>0.0</td>\n",
       "      <td>0.0</td>\n",
       "      <td>0.0</td>\n",
       "      <td>0.0</td>\n",
       "      <td>1.0</td>\n",
       "      <td>0.0</td>\n",
       "      <td>0.0</td>\n",
       "      <td>0.0</td>\n",
       "      <td>0.0</td>\n",
       "      <td>0.0</td>\n",
       "      <td>0.0</td>\n",
       "      <td>0.0</td>\n",
       "      <td>0.0</td>\n",
       "      <td>0.0</td>\n",
       "      <td>1</td>\n",
       "    </tr>\n",
       "    <tr>\n",
       "      <th>1</th>\n",
       "      <td>1.0</td>\n",
       "      <td>0.0</td>\n",
       "      <td>0.0</td>\n",
       "      <td>0.0</td>\n",
       "      <td>0.0</td>\n",
       "      <td>0.0</td>\n",
       "      <td>0.0</td>\n",
       "      <td>1.0</td>\n",
       "      <td>0.0</td>\n",
       "      <td>0.0</td>\n",
       "      <td>0.0</td>\n",
       "      <td>0.0</td>\n",
       "      <td>0.0</td>\n",
       "      <td>0.0</td>\n",
       "      <td>0.0</td>\n",
       "      <td>0.0</td>\n",
       "      <td>2</td>\n",
       "    </tr>\n",
       "    <tr>\n",
       "      <th>2</th>\n",
       "      <td>1.0</td>\n",
       "      <td>0.0</td>\n",
       "      <td>0.0</td>\n",
       "      <td>0.0</td>\n",
       "      <td>0.0</td>\n",
       "      <td>0.0</td>\n",
       "      <td>0.0</td>\n",
       "      <td>0.0</td>\n",
       "      <td>1.0</td>\n",
       "      <td>0.0</td>\n",
       "      <td>0.0</td>\n",
       "      <td>0.0</td>\n",
       "      <td>0.0</td>\n",
       "      <td>0.0</td>\n",
       "      <td>0.0</td>\n",
       "      <td>0.0</td>\n",
       "      <td>3</td>\n",
       "    </tr>\n",
       "    <tr>\n",
       "      <th>3</th>\n",
       "      <td>1.0</td>\n",
       "      <td>0.0</td>\n",
       "      <td>0.0</td>\n",
       "      <td>0.0</td>\n",
       "      <td>0.0</td>\n",
       "      <td>0.0</td>\n",
       "      <td>0.0</td>\n",
       "      <td>0.0</td>\n",
       "      <td>0.0</td>\n",
       "      <td>1.0</td>\n",
       "      <td>0.0</td>\n",
       "      <td>0.0</td>\n",
       "      <td>0.0</td>\n",
       "      <td>0.0</td>\n",
       "      <td>0.0</td>\n",
       "      <td>0.0</td>\n",
       "      <td>4</td>\n",
       "    </tr>\n",
       "    <tr>\n",
       "      <th>4</th>\n",
       "      <td>1.0</td>\n",
       "      <td>0.0</td>\n",
       "      <td>0.0</td>\n",
       "      <td>1.0</td>\n",
       "      <td>0.0</td>\n",
       "      <td>0.0</td>\n",
       "      <td>0.0</td>\n",
       "      <td>0.0</td>\n",
       "      <td>0.0</td>\n",
       "      <td>0.0</td>\n",
       "      <td>0.0</td>\n",
       "      <td>0.0</td>\n",
       "      <td>0.0</td>\n",
       "      <td>0.0</td>\n",
       "      <td>0.0</td>\n",
       "      <td>0.0</td>\n",
       "      <td>5</td>\n",
       "    </tr>\n",
       "  </tbody>\n",
       "</table>\n",
       "</div>"
      ],
      "text/plain": [
       "   gender  age  income3  weekday_0  weekday_1  weekday_2  weekday_3  \\\n",
       "0     1.0  0.0      0.0        0.0        0.0        0.0        1.0   \n",
       "1     1.0  0.0      0.0        0.0        0.0        0.0        0.0   \n",
       "2     1.0  0.0      0.0        0.0        0.0        0.0        0.0   \n",
       "3     1.0  0.0      0.0        0.0        0.0        0.0        0.0   \n",
       "4     1.0  0.0      0.0        1.0        0.0        0.0        0.0   \n",
       "\n",
       "   weekday_4  weekday_5  weekday_6  sprtransp  spring  precip  voluntary  \\\n",
       "0        0.0        0.0        0.0        0.0     0.0     0.0        0.0   \n",
       "1        1.0        0.0        0.0        0.0     0.0     0.0        0.0   \n",
       "2        0.0        1.0        0.0        0.0     0.0     0.0        0.0   \n",
       "3        0.0        0.0        1.0        0.0     0.0     0.0        0.0   \n",
       "4        0.0        0.0        0.0        0.0     0.0     0.0        0.0   \n",
       "\n",
       "   restrict  open  t  \n",
       "0       0.0   0.0  1  \n",
       "1       0.0   0.0  2  \n",
       "2       0.0   0.0  3  \n",
       "3       0.0   0.0  4  \n",
       "4       0.0   0.0  5  "
      ]
     },
     "execution_count": 32,
     "metadata": {},
     "output_type": "execute_result"
    }
   ],
   "source": [
    "X.head()"
   ]
  },
  {
   "cell_type": "code",
   "execution_count": 25,
   "id": "ac0d87d9-3249-4ccc-839f-a88761bd16b9",
   "metadata": {
    "collapsed": true,
    "jupyter": {
     "outputs_hidden": true
    },
    "tags": []
   },
   "outputs": [
    {
     "name": "stdout",
     "output_type": "stream",
     "text": [
      "1\n",
      "2\n",
      "3\n",
      "4\n",
      "5\n",
      "6\n",
      "7\n",
      "8\n",
      "9\n",
      "10\n",
      "11\n",
      "12\n",
      "13\n",
      "14\n",
      "15\n",
      "16\n",
      "17\n",
      "18\n",
      "19\n",
      "20\n",
      "21\n",
      "22\n",
      "23\n",
      "24\n",
      "25\n",
      "26\n",
      "27\n",
      "28\n",
      "29\n",
      "30\n",
      "31\n",
      "32\n",
      "33\n",
      "34\n",
      "35\n",
      "36\n",
      "37\n",
      "38\n",
      "39\n",
      "40\n",
      "41\n",
      "42\n",
      "43\n",
      "44\n",
      "45\n",
      "46\n",
      "47\n",
      "48\n",
      "49\n",
      "50\n",
      "51\n",
      "52\n",
      "53\n",
      "54\n",
      "55\n",
      "56\n",
      "57\n",
      "58\n",
      "59\n",
      "60\n",
      "61\n",
      "62\n",
      "63\n",
      "64\n",
      "65\n",
      "66\n",
      "67\n",
      "68\n",
      "69\n",
      "70\n",
      "71\n",
      "72\n",
      "73\n",
      "74\n",
      "75\n",
      "76\n",
      "77\n",
      "78\n",
      "79\n",
      "80\n",
      "81\n",
      "82\n",
      "83\n",
      "84\n",
      "85\n",
      "86\n",
      "87\n",
      "88\n",
      "89\n",
      "90\n",
      "91\n",
      "92\n",
      "93\n",
      "94\n",
      "95\n",
      "96\n",
      "97\n",
      "98\n",
      "99\n",
      "100\n",
      "101\n",
      "102\n",
      "103\n",
      "104\n",
      "105\n",
      "106\n",
      "107\n",
      "108\n",
      "109\n",
      "110\n",
      "111\n",
      "112\n",
      "113\n",
      "114\n",
      "115\n",
      "116\n",
      "117\n",
      "118\n",
      "119\n",
      "120\n",
      "121\n",
      "122\n",
      "123\n",
      "124\n",
      "125\n",
      "126\n",
      "127\n",
      "128\n",
      "129\n",
      "130\n",
      "131\n",
      "132\n",
      "133\n",
      "134\n",
      "135\n",
      "136\n",
      "137\n",
      "138\n",
      "139\n",
      "140\n",
      "141\n",
      "142\n",
      "143\n",
      "144\n",
      "145\n",
      "146\n",
      "147\n",
      "148\n",
      "149\n",
      "150\n",
      "151\n"
     ]
    }
   ],
   "source": [
    "from sklearn.linear_model import LogisticRegression\n",
    "from causallib.estimation import IPW\n",
    "\n",
    "# 计算每个时间点的处置效应\n",
    "#results = np.zeros([pred_data['outcomes'].shape[1],5])\n",
    "results = np.full((pred_data['outcomes'].shape[1],5), np.nan)\n",
    "learner = LogisticRegression(solver=\"liblinear\")\n",
    "for t in range(1,pred_data['outcomes'].shape[1]+1):\n",
    "    print(t)\n",
    "    x = X[X['t']==t].reset_index(drop=True)\n",
    "    x = x.drop('t',axis=1)\n",
    "    a = TREAT[TREAT['t']==t].reset_index(drop=True)\n",
    "    y = Y[Y['t']==t].reset_index(drop=True)\n",
    "    #w = W[W['t']==t].reset_index(drop=True)\n",
    "    \n",
    "    ipw = IPW(learner)\n",
    "    ipw = ipw.fit(x, a['conformity'])\n",
    "    outcomes = ipw.estimate_population_outcome(x, a['conformity'], y['move_distance'])\n",
    "    #print(len(outcomes))\n",
    "    for i in outcomes.index:\n",
    "        results[t-1,i] = outcomes[i]"
   ]
  },
  {
   "cell_type": "code",
   "execution_count": 33,
   "id": "a090ba96-436c-4161-8e9c-16c630b6d4ea",
   "metadata": {},
   "outputs": [
    {
     "name": "stderr",
     "output_type": "stream",
     "text": [
      "/tmp/ipykernel_5368/2965448514.py:8: FutureWarning: weekofyear and week have been deprecated, please use DatetimeIndex.isocalendar().week instead, which returns a Series. To exactly reproduce the behavior of week and weekofyear and return an Index, you may call pd.Int64Index(idx.isocalendar().week)\n",
      "  weeks = date_range.week\n"
     ]
    }
   ],
   "source": [
    "samples = pred_data['outcomes'].shape[0]\n",
    "timesteps = pred_data['outcomes'].shape[1]\n",
    "# 按周汇总数据\n",
    "# 创建一个日期范围\n",
    "date_range = pd.date_range(start=\"2020-01-01\", periods=timesteps)\n",
    "\n",
    "# 为每个日期指定其所在的周\n",
    "weeks = date_range.week\n",
    "\n",
    "# 转换数据为长格式\n",
    "df = pd.DataFrame({\n",
    "    'week': weeks\n",
    "})\n",
    "df[['conformity_label0','conformity_label1','conformity_label2','conformity_label3','conformity_label4']] = results\n",
    "\n",
    "# 根据标签和所在周进行分组，并计算均值\n",
    "week_results = df.groupby('week').mean().values.T"
   ]
  },
  {
   "cell_type": "code",
   "execution_count": 40,
   "id": "761f8832-381e-426d-85d2-8eaf767aac89",
   "metadata": {},
   "outputs": [
    {
     "data": {
      "image/png": "[encoded data removed]",
      "text/plain": [
       "<Figure size 1800x216 with 10 Axes>"
      ]
     },
     "metadata": {
      "needs_background": "light"
     },
     "output_type": "display_data"
    }
   ],
   "source": [
    "fig, ax = plt.subplots(1,5, figsize=(25,3))\n",
    "for label in range(5):\n",
    "    crd = (week_results[label,]-week_results[2,:])/week_results[2,:]\n",
    "    ax[label].plot(crd)\n",
    "    ax[label].axhline(0, color='grey', linestyle='--')  # 添加y=0的线\n",
    "    ax[label].set_ylim([-1,1])\n",
    "    \n",
    "    # 创建共享x轴的第二y轴\n",
    "    ax2 = ax[label].twinx()\n",
    "    # 在第二y轴上绘制案例数据\n",
    "    ax2.bar(np.arange(len(case_in_week)), case_in_week, color='grey', alpha=0.3)\n",
    "    ax2.set_ylim([0, 300])  # 设置第二y轴的范围，你可以根据需要调整\n",
    "    ax2.set_yticklabels([])\n",
    "    #ax2.set_ylabel('Case')"
   ]
  },
  {
   "cell_type": "code",
   "execution_count": 18,
   "id": "5482f32d-fd4f-461e-af3c-4e4ce2b3f637",
   "metadata": {},
   "outputs": [
    {
     "data": {
      "text/plain": [
       "0    4.838525\n",
       "1    5.091408\n",
       "2    5.679151\n",
       "3    6.470186\n",
       "4    6.546537\n",
       "dtype: float64"
      ]
     },
     "execution_count": 18,
     "metadata": {},
     "output_type": "execute_result"
    }
   ],
   "source": [
    "learner = LogisticRegression(solver=\"liblinear\")\n",
    "ipw = IPW(learner)\n",
    "COVARIATE = X.drop('t',axis=1)\n",
    "ipw.fit(COVARIATE, TREAT['conformity'])\n",
    "outcomes = ipw.estimate_population_outcome(COVARIATE, TREAT['conformity'], Y['move_distance'])\n",
    "outcomes\n",
    "# ate = ipw.estimate_population_outcome(x, a['conformity'], y['move_distance'], w=w['iptw'])\n",
    "# #effect =  ipw.estimate_effect(ate[1], ate[0], effect_types=[\"ratio\"])\n",
    "# ATE.append(ate)"
   ]
  },
  {
   "cell_type": "code",
   "execution_count": 24,
   "id": "cca26bac-68a0-414d-804a-51ff8ef64dc0",
   "metadata": {},
   "outputs": [
    {
     "name": "stdout",
     "output_type": "stream",
     "text": [
      "0\n",
      "4.838524930288818\n",
      "1\n",
      "5.0914083984334075\n",
      "2\n",
      "5.6791513571217935\n",
      "3\n",
      "6.470185942616452\n",
      "4\n",
      "6.546537228847279\n"
     ]
    }
   ],
   "source": [
    "for i in outcomes.index:\n",
    "    print(i)\n",
    "    print(outcomes[i])"
   ]
  },
  {
   "cell_type": "code",
   "execution_count": 11,
   "id": "e3a0b5fd-70f6-4a55-a15d-a5303b300a3f",
   "metadata": {},
   "outputs": [
    {
     "data": {
      "text/plain": [
       "diff    0.252883\n",
       "dtype: float64"
      ]
     },
     "execution_count": 11,
     "metadata": {},
     "output_type": "execute_result"
    }
   ],
   "source": [
    "ipw.estimate_effect(outcomes[1], outcomes[0], effect_types=[\"diff\"])"
   ]
  },
  {
   "cell_type": "code",
   "execution_count": 12,
   "id": "1693fb86-5aa9-4297-bb56-70f1760595a3",
   "metadata": {},
   "outputs": [
    {
     "data": {
      "text/plain": [
       "0.2528834681445895"
      ]
     },
     "execution_count": 12,
     "metadata": {},
     "output_type": "execute_result"
    }
   ],
   "source": [
    "outcomes[1]-outcomes[0]"
   ]
  },
  {
   "cell_type": "code",
   "execution_count": 124,
   "id": "860bb97f-89d8-4a95-8687-08a8eaf47489",
   "metadata": {},
   "outputs": [
    {
     "data": {
      "text/plain": [
       "[<matplotlib.lines.Line2D at 0x7fc360d5a9d0>]"
      ]
     },
     "execution_count": 124,
     "metadata": {},
     "output_type": "execute_result"
    },
    {
     "data": {
      "image/png": "[encoded data removed]",
      "text/plain": [
       "<Figure size 432x288 with 1 Axes>"
      ]
     },
     "metadata": {
      "needs_background": "light"
     },
     "output_type": "display_data"
    }
   ],
   "source": [
    "mean_ate = []\n",
    "for ate in ATE:\n",
    "    mean_ate.append(ate.mean())\n",
    "plt.plot(np.arange(len(mean_ate)),mean_ate)"
   ]
  },
  {
   "cell_type": "code",
   "execution_count": 122,
   "id": "81341326-fe02-4479-8dfb-fc1160d62994",
   "metadata": {
    "tags": []
   },
   "outputs": [
    {
     "name": "stdout",
     "output_type": "stream",
     "text": [
      "diff   -0.454253\n",
      "dtype: float64\n",
      "diff    0.196121\n",
      "dtype: float64\n"
     ]
    }
   ],
   "source": [
    "# 政策效应如何？\n",
    "ipw = IPW(LogisticRegression())\n",
    "\n",
    "restrict_potential_outcomes = ipw.estimate_population_outcome(_, TREAT['restrict'].loc[:4005*150-1], Y['move_distance'].loc[:4005*150-1], w=W['iptw'])\n",
    "restrict_effect =  ipw.estimate_effect(restrict_potential_outcomes[1], restrict_potential_outcomes[0], effect_types=[\"diff\"])\n",
    "print(restrict_effect)\n",
    "\n",
    "open_potential_outcomes = ipw.estimate_population_outcome(_, TREAT['open'].loc[:4005*150-1], Y['move_distance'].loc[:4005*150-1], w=W['iptw'])\n",
    "open_effect =  ipw.estimate_effect(open_potential_outcomes[1], open_potential_outcomes[0], effect_types=[\"diff\"])\n",
    "print(open_effect)"
   ]
  },
  {
   "cell_type": "code",
   "execution_count": 99,
   "id": "33fbb6df-64b3-45d2-bf25-579d65052c16",
   "metadata": {},
   "outputs": [
    {
     "data": {
      "text/plain": [
       "[<matplotlib.lines.Line2D at 0x7fc361bdf790>]"
      ]
     },
     "execution_count": 99,
     "metadata": {},
     "output_type": "execute_result"
    },
    {
     "data": {
      "image/png": "[encoded data removed]",
      "text/plain": [
       "<Figure size 432x288 with 1 Axes>"
      ]
     },
     "metadata": {
      "needs_background": "light"
     },
     "output_type": "display_data"
    }
   ],
   "source": [
    "plt.plot(ATE[52])"
   ]
  },
  {
   "cell_type": "code",
   "execution_count": 163,
   "id": "2f6533ca-e1b7-40bd-a8d5-905bdfd6da62",
   "metadata": {},
   "outputs": [
    {
     "data": {
      "text/plain": [
       "Y         0\n",
       "A         0\n",
       "weight    0\n",
       "dtype: int64"
      ]
     },
     "execution_count": 163,
     "metadata": {},
     "output_type": "execute_result"
    }
   ],
   "source": [
    "observation = pd.DataFrame({'Y':Y['move_distance'].loc[:4005*150-1], 'A':TREAT['conformity'].loc[:4005*150-1], 'weight':W['iptw']})\n",
    "observation.isnull().sum()"
   ]
  },
  {
   "cell_type": "code",
   "execution_count": 165,
   "id": "74e9a81f-c438-415d-bcd6-17c7bd724d49",
   "metadata": {},
   "outputs": [
    {
     "data": {
      "text/html": [
       "<div>\n",
       "<style scoped>\n",
       "    .dataframe tbody tr th:only-of-type {\n",
       "        vertical-align: middle;\n",
       "    }\n",
       "\n",
       "    .dataframe tbody tr th {\n",
       "        vertical-align: top;\n",
       "    }\n",
       "\n",
       "    .dataframe thead th {\n",
       "        text-align: right;\n",
       "    }\n",
       "</style>\n",
       "<table border=\"1\" class=\"dataframe\">\n",
       "  <thead>\n",
       "    <tr style=\"text-align: right;\">\n",
       "      <th></th>\n",
       "      <th>Y</th>\n",
       "      <th>A</th>\n",
       "      <th>weight</th>\n",
       "    </tr>\n",
       "  </thead>\n",
       "  <tbody>\n",
       "    <tr>\n",
       "      <th>0</th>\n",
       "      <td>-0.690954</td>\n",
       "      <td>-0.314151</td>\n",
       "      <td>1.000000</td>\n",
       "    </tr>\n",
       "    <tr>\n",
       "      <th>1</th>\n",
       "      <td>-0.291751</td>\n",
       "      <td>-0.471655</td>\n",
       "      <td>0.000000</td>\n",
       "    </tr>\n",
       "    <tr>\n",
       "      <th>2</th>\n",
       "      <td>2.390220</td>\n",
       "      <td>-0.329599</td>\n",
       "      <td>0.736089</td>\n",
       "    </tr>\n",
       "    <tr>\n",
       "      <th>3</th>\n",
       "      <td>1.138759</td>\n",
       "      <td>-0.485213</td>\n",
       "      <td>0.794778</td>\n",
       "    </tr>\n",
       "    <tr>\n",
       "      <th>4</th>\n",
       "      <td>-0.690954</td>\n",
       "      <td>-0.245341</td>\n",
       "      <td>0.896729</td>\n",
       "    </tr>\n",
       "  </tbody>\n",
       "</table>\n",
       "</div>"
      ],
      "text/plain": [
       "          Y         A    weight\n",
       "0 -0.690954 -0.314151  1.000000\n",
       "1 -0.291751 -0.471655  0.000000\n",
       "2  2.390220 -0.329599  0.736089\n",
       "3  1.138759 -0.485213  0.794778\n",
       "4 -0.690954 -0.245341  0.896729"
      ]
     },
     "execution_count": 165,
     "metadata": {},
     "output_type": "execute_result"
    }
   ],
   "source": [
    "observation['weight'] = observation['weight'].apply(lambda x: 0 if x<0 else x)\n",
    "observation.head()"
   ]
  },
  {
   "cell_type": "code",
   "execution_count": 166,
   "id": "299484c1-3807-45da-94c0-2b117c1125ce",
   "metadata": {},
   "outputs": [
    {
     "name": "stdout",
     "output_type": "stream",
     "text": [
      "                            WLS Regression Results                            \n",
      "==============================================================================\n",
      "Dep. Variable:                      Y   R-squared:                       0.016\n",
      "Model:                            WLS   Adj. R-squared:                  0.016\n",
      "Method:                 Least Squares   F-statistic:                     9805.\n",
      "Date:                Tue, 17 Oct 2023   Prob (F-statistic):               0.00\n",
      "Time:                        19:37:03   Log-Likelihood:                   -inf\n",
      "No. Observations:              600750   AIC:                               inf\n",
      "Df Residuals:                  600748   BIC:                               inf\n",
      "Df Model:                           1                                         \n",
      "Covariance Type:            nonrobust                                         \n",
      "==============================================================================\n",
      "                 coef    std err          t      P>|t|      [0.025      0.975]\n",
      "------------------------------------------------------------------------------\n",
      "Intercept      0.0022      0.001      1.727      0.084      -0.000       0.005\n",
      "A              0.1259      0.001     99.020      0.000       0.123       0.128\n",
      "==============================================================================\n",
      "Omnibus:                   311683.144   Durbin-Watson:                   1.219\n",
      "Prob(Omnibus):                  0.000   Jarque-Bera (JB):          2404764.881\n",
      "Skew:                           2.407   Prob(JB):                         0.00\n",
      "Kurtosis:                      11.538   Cond. No.                         1.01\n",
      "==============================================================================\n",
      "\n",
      "Notes:\n",
      "[1] Standard Errors assume that the covariance matrix of the errors is correctly specified.\n"
     ]
    },
    {
     "name": "stderr",
     "output_type": "stream",
     "text": [
      "/root/miniconda3/lib/python3.8/site-packages/statsmodels/regression/linear_model.py:807: RuntimeWarning: divide by zero encountered in log\n",
      "  llf += 0.5 * np.sum(np.log(self.weights))\n"
     ]
    }
   ],
   "source": [
    "MSM_model = smf.wls(formula='Y ~ A', data=observation, weights=np.array(observation['weight'], dtype=np.float64)).fit()\n",
    "#model = smf.ols(formula='Y ~ A', data=observation).fit()\n",
    "print(MSM_model.summary())"
   ]
  },
  {
   "cell_type": "code",
   "execution_count": 147,
   "id": "095f8779-485e-4ca1-8c95-4a3f0759b7dc",
   "metadata": {},
   "outputs": [
    {
     "data": {
      "text/plain": [
       "array([ 1.        , -0.29527194,  0.73608872, ...,  0.99880715,\n",
       "        0.99877698,  0.99878318])"
      ]
     },
     "execution_count": 147,
     "metadata": {},
     "output_type": "execute_result"
    }
   ],
   "source": [
    "np.array(observation['weight'], dtype=np.float64)"
   ]
  },
  {
   "cell_type": "code",
   "execution_count": 149,
   "id": "cb95abcb-7219-4306-add2-a559addcf81d",
   "metadata": {},
   "outputs": [
    {
     "data": {
      "text/plain": [
       "0.0"
      ]
     },
     "execution_count": 149,
     "metadata": {},
     "output_type": "execute_result"
    }
   ],
   "source": [
    "df_observed['IPW'].min()"
   ]
  },
  {
   "cell_type": "markdown",
   "id": "bc4c7b7e-5799-4add-b652-2bc770064386",
   "metadata": {},
   "source": [
    "## 机器学习预测（离散化变量）"
   ]
  },
  {
   "cell_type": "code",
   "execution_count": 9,
   "id": "7af97310-5dba-4145-96e4-14d13fd5c71c",
   "metadata": {},
   "outputs": [
    {
     "name": "stdout",
     "output_type": "stream",
     "text": [
      "means\n",
      "(5000, 151, 1)\n",
      "upper_bounds\n",
      "(5000, 151, 1)\n",
      "lower_bounds\n",
      "(5000, 151, 1)\n",
      "labels\n",
      "(5000, 151, 5)\n",
      "observations\n",
      "(5000, 151, 1)\n"
     ]
    }
   ],
   "source": [
    "# 使用函数加载数据\n",
    "filename = \"results/real_data_results3/sample_10000_logdiscrete_control_gamma_0.6_prediction_log.txt\"\n",
    "data = load_data_from_file(filename)\n",
    "for key in list(data.keys()):\n",
    "    print(key)\n",
    "    print(data[key].shape)"
   ]
  },
  {
   "cell_type": "code",
   "execution_count": 114,
   "id": "02b8b96c-2904-4d9c-9193-c8e733ecdfbc",
   "metadata": {
    "collapsed": true,
    "jupyter": {
     "outputs_hidden": true
    },
    "tags": []
   },
   "outputs": [
    {
     "name": "stdout",
     "output_type": "stream",
     "text": [
      "-0.5291113660271073: 662601\n",
      "0.8847027923807472: 170977\n",
      "2.298516950788602: 50810\n",
      "3.712331109196456: 19980\n",
      "5.12614526760431: 1632\n",
      "[[0 1 1 ... 1 1 1]\n",
      " [1 1 1 ... 1 1 1]\n",
      " [0 0 1 ... 0 0 1]\n",
      " ...\n",
      " [0 0 0 ... 0 1 0]\n",
      " [0 0 0 ... 0 0 1]\n",
      " [0 1 1 ... 2 2 2]]\n",
      "(6000, 150)\n"
     ]
    }
   ],
   "source": [
    "unique_values, counts = np.unique(data['labels'], return_counts=True)\n",
    "\n",
    "# 将结果打印为类似于 dataframe 的 value_counts 的格式\n",
    "for value, count in zip(unique_values, counts):\n",
    "    print(f\"{value}: {count}\")\n",
    "\n",
    "# 获取 ndarray 中的唯一值并进行排序\n",
    "unique_values = np.sort(np.unique(data['labels']))\n",
    "# 创建一个替换的映射\n",
    "value_to_label = {value: label for label, value in enumerate(unique_values)}\n",
    "\n",
    "# 使用 numpy 的 vectorize 函数应用映射\n",
    "vectorized_func = np.vectorize(value_to_label.get)\n",
    "labeled_data = vectorized_func(data['labels'])\n",
    "labeled_data = labeled_data[:,:-1]\n",
    "\n",
    "print(labeled_data)\n",
    "print(labeled_data.shape)"
   ]
  },
  {
   "cell_type": "code",
   "execution_count": 4,
   "id": "b88edd42-8ee2-4a34-b309-4deb5d9b1c00",
   "metadata": {},
   "outputs": [
    {
     "name": "stdout",
     "output_type": "stream",
     "text": [
      "(5000, 150)\n"
     ]
    }
   ],
   "source": [
    "# 创建映射字典\n",
    "mapping_dict = {\n",
    "    tuple([1, 0, 0, 0, 0]): 0,\n",
    "    tuple([1, 1, 0, 0, 0]): 1,\n",
    "    tuple([1, 1, 1, 0, 0]): 2,\n",
    "    tuple([1, 1, 1, 1, 0]): 3,\n",
    "    tuple([1, 1, 1, 1, 1]): 4\n",
    "}\n",
    "\n",
    "# 应用映射\n",
    "labeled_data = np.zeros((data['labels'].shape[0], data['labels'].shape[1]), dtype=int)  # 初始化一个新的数组\n",
    "for i in range(data['labels'].shape[0]):\n",
    "    for j in range(data['labels'].shape[1]):\n",
    "        labeled_data[i, j] = mapping_dict[tuple(data['labels'][i, j])]\n",
    "\n",
    "labeled_data = labeled_data[:,:-1]\n",
    "print(labeled_data.shape)"
   ]
  },
  {
   "cell_type": "code",
   "execution_count": 5,
   "id": "f89c6049-da97-445a-8c9f-07b049cf2a96",
   "metadata": {},
   "outputs": [
    {
     "name": "stdout",
     "output_type": "stream",
     "text": [
      "(5000, 150)\n",
      "(5000, 150)\n"
     ]
    }
   ],
   "source": [
    "outcomes = data['means'].reshape(data['means'].shape[0], data['means'].shape[1])\n",
    "uppers = data['upper_bounds'].reshape(data['means'].shape[0], data['means'].shape[1])\n",
    "lowers = data['lower_bounds'].reshape(data['means'].shape[0], data['means'].shape[1])\n",
    "observations = data['observations'].reshape(data['observations'].shape[0], data['observations'].shape[1])[:,:-1]\n",
    "print(outcomes.shape)\n",
    "print(observations.shape)"
   ]
  },
  {
   "cell_type": "code",
   "execution_count": 6,
   "id": "b99edc24-cb15-4c50-ae45-de0c8394c540",
   "metadata": {},
   "outputs": [],
   "source": [
    "# 按从众类别求均值\n",
    "# 初始化结果矩阵\n",
    "label_counts = 5\n",
    "samples = outcomes.shape[0]\n",
    "timesteps = outcomes.shape[1]\n",
    "results = np.zeros((label_counts, timesteps))\n",
    "\n",
    "for t in range(timesteps):  # 遍历每个时间点\n",
    "    for label in range(label_counts):  # 遍历每个标签\n",
    "        mask = (labeled_data[:, t] == label)  # 创建一个掩码，表示哪些样本在当前时间点有此标签\n",
    "        if np.sum(mask) > 0:  # 如果在当前时间点有任何样本具有此标签\n",
    "            results[label, t] = np.mean(outcomes[mask, t])  # 计算均值并保存到结果矩阵中"
   ]
  },
  {
   "cell_type": "code",
   "execution_count": 7,
   "id": "52b61bc3-3b7b-4ba2-b8df-0ca33cefd4bf",
   "metadata": {
    "tags": []
   },
   "outputs": [
    {
     "name": "stderr",
     "output_type": "stream",
     "text": [
      "/tmp/ipykernel_780/230018938.py:6: FutureWarning: weekofyear and week have been deprecated, please use DatetimeIndex.isocalendar().week instead, which returns a Series. To exactly reproduce the behavior of week and weekofyear and return an Index, you may call pd.Int64Index(idx.isocalendar().week)\n",
      "  weeks = date_range.week\n"
     ]
    },
    {
     "name": "stdout",
     "output_type": "stream",
     "text": [
      "[[6.45949221 6.77933178 6.85017323 4.21135749 2.93837296 3.03380881\n",
      "  3.67857545 4.78457398 5.66477579 5.69576814 5.8273334  5.73639475\n",
      "  5.87418849 6.10658293 6.34447211 5.9899711  6.02813335 6.29999248\n",
      "  6.32234988 6.41561089 6.36024846        nan]\n",
      " [6.67424562 6.62314608 6.71996167 4.08736408 2.94816895 3.04434679\n",
      "  3.81042037 5.3235577  6.0925513  5.94369544 6.08111788 6.10282447\n",
      "  6.17074708 6.03601933 6.08209337 5.99225846 6.0391486  5.98368438\n",
      "  6.15249167 6.06340064 5.89673624 5.64199797]\n",
      " [6.92154656 6.77783406 6.79571857 4.41533721 3.43960834 3.95395012\n",
      "  4.58231602 5.95835868 6.28028862 6.36478363 6.40867118 6.40285568\n",
      "  6.36415624 6.19721367 6.47907523 6.4027986  6.39683118 6.20521839\n",
      "  6.40825167 6.32141532 6.18039248 5.94256179]\n",
      " [7.15192934 7.09329314 7.06473006 5.69030627 4.10272588 4.96185589\n",
      "  5.39799129 6.01382569 6.64389816 6.76399368 6.82405074 6.86253499\n",
      "  6.75328422 6.46506364 6.77879099 6.84651573 6.86860076 6.46554071\n",
      "  6.65531752 6.66461451 6.59449683 6.42025296]\n",
      " [6.85780542 7.38114178 7.51856221 6.8016812         nan 6.0592976\n",
      "  5.49817426 5.80802881 6.92737562 7.07747842 7.20283613 7.21648775\n",
      "  7.11959209 6.96111292 6.75406298 7.24952854 7.3773427  6.95157387\n",
      "  6.75813104 6.92279597 6.8641512  6.79747087]]\n",
      "(5, 22)\n"
     ]
    }
   ],
   "source": [
    "# 按周汇总数据\n",
    "# 创建一个日期范围\n",
    "date_range = pd.date_range(start=\"2020-01-01\", periods=timesteps)\n",
    "\n",
    "# 为每个日期指定其所在的周\n",
    "weeks = date_range.week\n",
    "\n",
    "# 转换数据为长格式\n",
    "df = pd.DataFrame({\n",
    "    'week': np.tile(weeks, samples),\n",
    "    'label': labeled_data.ravel(),\n",
    "    'outcome': outcomes.ravel(),\n",
    "    'upper':uppers.ravel(),\n",
    "    'lower':lowers.ravel(),\n",
    "    'observation':observations.ravel()\n",
    "})\n",
    "\n",
    "# 根据标签和所在周进行分组，并计算均值\n",
    "results = df.groupby(['label', 'week']).outcome.mean().unstack()\n",
    "upp_results = df.groupby(['label', 'week']).upper.mean().unstack()\n",
    "low_results = df.groupby(['label', 'week']).lower.mean().unstack()\n",
    "results = results.values\n",
    "upp_results = upp_results.values\n",
    "low_results = low_results.values\n",
    "\n",
    "print(results)\n",
    "print(results.shape)"
   ]
  },
  {
   "cell_type": "code",
   "execution_count": 47,
   "id": "bbf37dd2-b964-4ba5-93ba-7e6203930e3c",
   "metadata": {},
   "outputs": [
    {
     "data": {
      "text/plain": [
       "array([0., 0., 0., 0., 0.])"
      ]
     },
     "execution_count": 47,
     "metadata": {},
     "output_type": "execute_result"
    }
   ],
   "source": [
    "results[:,-1]"
   ]
  },
  {
   "cell_type": "code",
   "execution_count": 8,
   "id": "ede4af35-23c2-47c3-b98b-e1a878392065",
   "metadata": {},
   "outputs": [
    {
     "data": {
      "text/html": [
       "<div>\n",
       "<style scoped>\n",
       "    .dataframe tbody tr th:only-of-type {\n",
       "        vertical-align: middle;\n",
       "    }\n",
       "\n",
       "    .dataframe tbody tr th {\n",
       "        vertical-align: top;\n",
       "    }\n",
       "\n",
       "    .dataframe thead th {\n",
       "        text-align: right;\n",
       "    }\n",
       "</style>\n",
       "<table border=\"1\" class=\"dataframe\">\n",
       "  <thead>\n",
       "    <tr style=\"text-align: right;\">\n",
       "      <th></th>\n",
       "      <th>date</th>\n",
       "      <th>voluntary</th>\n",
       "      <th>time</th>\n",
       "      <th>week</th>\n",
       "    </tr>\n",
       "  </thead>\n",
       "  <tbody>\n",
       "    <tr>\n",
       "      <th>0</th>\n",
       "      <td>20200101</td>\n",
       "      <td>0</td>\n",
       "      <td>0</td>\n",
       "      <td>1</td>\n",
       "    </tr>\n",
       "    <tr>\n",
       "      <th>1</th>\n",
       "      <td>20200102</td>\n",
       "      <td>0</td>\n",
       "      <td>1</td>\n",
       "      <td>1</td>\n",
       "    </tr>\n",
       "    <tr>\n",
       "      <th>2</th>\n",
       "      <td>20200103</td>\n",
       "      <td>0</td>\n",
       "      <td>2</td>\n",
       "      <td>1</td>\n",
       "    </tr>\n",
       "    <tr>\n",
       "      <th>3</th>\n",
       "      <td>20200104</td>\n",
       "      <td>0</td>\n",
       "      <td>3</td>\n",
       "      <td>1</td>\n",
       "    </tr>\n",
       "    <tr>\n",
       "      <th>4</th>\n",
       "      <td>20200105</td>\n",
       "      <td>0</td>\n",
       "      <td>4</td>\n",
       "      <td>1</td>\n",
       "    </tr>\n",
       "  </tbody>\n",
       "</table>\n",
       "</div>"
      ],
      "text/plain": [
       "       date  voluntary  time  week\n",
       "0  20200101          0     0     1\n",
       "1  20200102          0     1     1\n",
       "2  20200103          0     2     1\n",
       "3  20200104          0     3     1\n",
       "4  20200105          0     4     1"
      ]
     },
     "execution_count": 8,
     "metadata": {},
     "output_type": "execute_result"
    }
   ],
   "source": [
    "# 导入病例数\n",
    "case = pd.read_csv('data/case_series.csv')\n",
    "case = case[case['date']>=20200101].reset_index(drop=True)\n",
    "case = case[['date','voluntary']]\n",
    "case['time'] = np.arange(len(case))\n",
    "case['week'] = pd.to_datetime(case['date'].astype(str), format=\"%Y%m%d\").dt.isocalendar().week\n",
    "case.head()"
   ]
  },
  {
   "cell_type": "code",
   "execution_count": 9,
   "id": "bf5866e7-f18d-4371-963c-bdb525ff1df1",
   "metadata": {},
   "outputs": [
    {
     "data": {
      "text/plain": [
       "array([  0,   0,   1,  35, 190, 142,  47,   2,   0,   0,   0,   0,   0,\n",
       "         9,   4,   9,   0,   4,   0,   0,   0,   0])"
      ]
     },
     "execution_count": 9,
     "metadata": {},
     "output_type": "execute_result"
    }
   ],
   "source": [
    "case_in_week = case.groupby('week')['voluntary'].sum().values\n",
    "case_in_week"
   ]
  },
  {
   "cell_type": "code",
   "execution_count": 10,
   "id": "a5d276b7-2e43-4f63-afdd-63c4d9884dd1",
   "metadata": {},
   "outputs": [
    {
     "data": {
      "image/png": "[encoded data removed]",
      "text/plain": [
       "<Figure size 1800x216 with 10 Axes>"
      ]
     },
     "metadata": {
      "needs_background": "light"
     },
     "output_type": "display_data"
    }
   ],
   "source": [
    "fig, ax = plt.subplots(1,5, figsize=(25,3))\n",
    "for label in range(label_counts):\n",
    "    crd = (results[label,]-results[2,:])/results[2,:]\n",
    "    upp_crd = (upp_results[label,]-results[2,:])/results[2,:]\n",
    "    low_crd = (low_results[label,]-results[2,:])/results[2,:]\n",
    "    ax[label].plot(crd)\n",
    "    ax[label].plot(upp_crd, linestyle='--')\n",
    "    ax[label].plot(low_crd, linestyle='--')\n",
    "    ax[label].axhline(0, color='grey', linestyle='--')  # 添加y=0的线\n",
    "    ax[label].set_ylim([-0.6,0.6])\n",
    "    \n",
    "    # 创建共享x轴的第二y轴\n",
    "    ax2 = ax[label].twinx()\n",
    "    # 在第二y轴上绘制案例数据\n",
    "    ax2.bar(np.arange(len(case_in_week)), case_in_week, color='grey', alpha=0.3)\n",
    "    ax2.set_ylim([0, 300])  # 设置第二y轴的范围，你可以根据需要调整\n",
    "    ax2.set_yticklabels([])\n",
    "    #ax2.set_ylabel('Case')"
   ]
  },
  {
   "cell_type": "code",
   "execution_count": 8,
   "id": "77b8c091-8fed-472e-9e21-081ef0815106",
   "metadata": {},
   "outputs": [
    {
     "data": {
      "image/png": "[encoded data removed]",
      "text/plain": [
       "<Figure size 1800x216 with 5 Axes>"
      ]
     },
     "metadata": {
      "needs_background": "light"
     },
     "output_type": "display_data"
    }
   ],
   "source": [
    "# 2019年对照组\n",
    "fig, ax = plt.subplots(1,5, figsize=(25,3))\n",
    "for label in range(label_counts):\n",
    "    crd = (results[label,]-results[2,:])/results[2,:]\n",
    "    upp_crd = (upp_results[label,]-results[2,:])/results[2,:]\n",
    "    low_crd = (low_results[label,]-results[2,:])/results[2,:]\n",
    "    ax[label].plot(crd)\n",
    "    ax[label].plot(upp_crd, linestyle='--')\n",
    "    ax[label].plot(low_crd, linestyle='--')\n",
    "    ax[label].axhline(0, color='grey', linestyle='--')  # 添加y=0的线\n",
    "    ax[label].set_ylim([-0.6,0.6])"
   ]
  },
  {
   "cell_type": "code",
   "execution_count": 125,
   "id": "bb08eade-ebc7-463f-b0a1-4ab89618c7ce",
   "metadata": {},
   "outputs": [
    {
     "data": {
      "image/png": "[encoded data removed]",
      "text/plain": [
       "<Figure size 1800x216 with 5 Axes>"
      ]
     },
     "metadata": {
      "needs_background": "light"
     },
     "output_type": "display_data"
    }
   ],
   "source": [
    "fig, ax = plt.subplots(1,5, figsize=(25,3))\n",
    "for label in range(label_counts):\n",
    "    crd = (results[label,]-results[1,:])/results[1,:]\n",
    "    upp_crd = (upp_results[label,]-results[1,:])/results[1,:]\n",
    "    low_crd = (low_results[label,]-results[1,:])/results[1,:]\n",
    "    ax[label].plot(crd)\n",
    "    ax[label].plot(upp_crd, linestyle='--')\n",
    "    ax[label].plot(low_crd, linestyle='--')\n",
    "    ax[label].axhline(0, color='grey', linestyle='--')  # 添加y=0的线\n",
    "    ax[label].set_ylim([-0.5,0.5])"
   ]
  },
  {
   "cell_type": "code",
   "execution_count": 92,
   "id": "d22489cf-2dbf-48bc-a71b-6a07baef94f8",
   "metadata": {},
   "outputs": [
    {
     "data": {
      "image/png": "[encoded data removed]",
      "text/plain": [
       "<Figure size 1800x216 with 5 Axes>"
      ]
     },
     "metadata": {
      "needs_background": "light"
     },
     "output_type": "display_data"
    }
   ],
   "source": [
    "# 补全缺失值再显示一次\n",
    "for i in range(results.shape[0]):\n",
    "    row_mean = np.nanmean(results[i, :])\n",
    "    results[i, np.isnan(results[i, :])] = row_mean\n",
    "\n",
    "fig, ax = plt.subplots(1,5, figsize=(25,3))\n",
    "for label in range(label_counts):\n",
    "    crd = (results[label,]-results[2,:])/results[2,:]\n",
    "    ax[label].plot(crd)\n",
    "    ax[label].axhline(0, color='grey', linestyle='--')  # 添加y=0的线"
   ]
  },
  {
   "cell_type": "code",
   "execution_count": 110,
   "id": "ee5d040b-9cf5-47af-bb19-ef1e4cae84d2",
   "metadata": {},
   "outputs": [
    {
     "data": {
      "image/png": "[encoded data removed]",
      "text/plain": [
       "<Figure size 1800x216 with 5 Axes>"
      ]
     },
     "metadata": {
      "needs_background": "light"
     },
     "output_type": "display_data"
    }
   ],
   "source": [
    "# 修改conformity取值后预测（每个class都有5000个样本）\n",
    "# fig, ax = plt.subplots(1,5, figsize=(25,3))\n",
    "df = pd.DataFrame({\n",
    "    'week': weeks\n",
    "})\n",
    "for label in range(label_counts):\n",
    "    filename = \"results/real_data_results3/sample_10000_discrete_control_gamma_0.6_prediction\" + str(label) + \".txt\"\n",
    "    data = load_data_from_file(filename)\n",
    "    outcomes = data['means'].reshape(data['means'].shape[0], data['means'].shape[1])\n",
    "    df['results'+str(label)] = np.mean(outcomes, axis=0)\n",
    "    # ax[label].plot(np.mean(outcomes, axis=0))\n",
    "    \n",
    "results = df.groupby(['week']).mean()\n",
    "results = results.values.T\n",
    "print(results)\n",
    "print(results.shape)"
   ]
  },
  {
   "cell_type": "code",
   "execution_count": 112,
   "id": "7a9857d4-21b8-4feb-942c-39e3547ae670",
   "metadata": {},
   "outputs": [
    {
     "data": {
      "image/png": "[encoded data removed]",
      "text/plain": [
       "<Figure size 1800x216 with 5 Axes>"
      ]
     },
     "metadata": {
      "needs_background": "light"
     },
     "output_type": "display_data"
    }
   ],
   "source": [
    "fig, ax = plt.subplots(1,5, figsize=(25,3))\n",
    "for label in range(label_counts):\n",
    "    crd = (results[label,]-results[2,:])/results[2,:]\n",
    "    ax[label].plot(crd)\n",
    "    ax[label].axhline(0, color='grey', linestyle='--')  # 添加y=0的线"
   ]
  },
  {
   "cell_type": "markdown",
   "id": "2b152684-5a95-40a1-9bfd-842a8ebf5fdc",
   "metadata": {},
   "source": [
    "## Dynamic Treatment Effects"
   ]
  },
  {
   "cell_type": "code",
   "execution_count": 61,
   "id": "8a2baa48-4f68-4774-a650-536bc02ae0aa",
   "metadata": {},
   "outputs": [
    {
     "name": "stdout",
     "output_type": "stream",
     "text": [
      "(5000, 150, 1)\n"
     ]
    }
   ],
   "source": [
    "# 导入iptw权重\n",
    "iptw = np.load('results/rmsn_sample_10000_logdiscrete_control_gamma_0.6_use_confounders_True/propensity_scores_w_all.npy')\n",
    "print(iptw.shape)"
   ]
  },
  {
   "cell_type": "code",
   "execution_count": 62,
   "id": "463e1e22-04a6-428f-89df-3984b6d6e4f0",
   "metadata": {},
   "outputs": [
    {
     "data": {
      "text/html": [
       "<div>\n",
       "<style scoped>\n",
       "    .dataframe tbody tr th:only-of-type {\n",
       "        vertical-align: middle;\n",
       "    }\n",
       "\n",
       "    .dataframe tbody tr th {\n",
       "        vertical-align: top;\n",
       "    }\n",
       "\n",
       "    .dataframe thead th {\n",
       "        text-align: right;\n",
       "    }\n",
       "</style>\n",
       "<table border=\"1\" class=\"dataframe\">\n",
       "  <thead>\n",
       "    <tr style=\"text-align: right;\">\n",
       "      <th></th>\n",
       "      <th>week</th>\n",
       "      <th>label</th>\n",
       "      <th>outcome</th>\n",
       "      <th>upper</th>\n",
       "      <th>lower</th>\n",
       "      <th>observation</th>\n",
       "      <th>iptw</th>\n",
       "    </tr>\n",
       "  </thead>\n",
       "  <tbody>\n",
       "    <tr>\n",
       "      <th>0</th>\n",
       "      <td>1</td>\n",
       "      <td>3</td>\n",
       "      <td>6.886320</td>\n",
       "      <td>6.886320</td>\n",
       "      <td>6.886320</td>\n",
       "      <td>0.000000</td>\n",
       "      <td>1.000000</td>\n",
       "    </tr>\n",
       "    <tr>\n",
       "      <th>1</th>\n",
       "      <td>1</td>\n",
       "      <td>2</td>\n",
       "      <td>6.534663</td>\n",
       "      <td>6.534663</td>\n",
       "      <td>6.534663</td>\n",
       "      <td>0.000000</td>\n",
       "      <td>0.369808</td>\n",
       "    </tr>\n",
       "    <tr>\n",
       "      <th>2</th>\n",
       "      <td>1</td>\n",
       "      <td>2</td>\n",
       "      <td>6.331280</td>\n",
       "      <td>6.331280</td>\n",
       "      <td>6.331280</td>\n",
       "      <td>9.550876</td>\n",
       "      <td>0.601732</td>\n",
       "    </tr>\n",
       "    <tr>\n",
       "      <th>3</th>\n",
       "      <td>1</td>\n",
       "      <td>3</td>\n",
       "      <td>7.017721</td>\n",
       "      <td>7.017721</td>\n",
       "      <td>7.017721</td>\n",
       "      <td>11.446786</td>\n",
       "      <td>3.311974</td>\n",
       "    </tr>\n",
       "    <tr>\n",
       "      <th>4</th>\n",
       "      <td>1</td>\n",
       "      <td>2</td>\n",
       "      <td>6.635595</td>\n",
       "      <td>6.635595</td>\n",
       "      <td>6.635595</td>\n",
       "      <td>11.115592</td>\n",
       "      <td>0.553101</td>\n",
       "    </tr>\n",
       "  </tbody>\n",
       "</table>\n",
       "</div>"
      ],
      "text/plain": [
       "   week  label   outcome     upper     lower  observation      iptw\n",
       "0     1      3  6.886320  6.886320  6.886320     0.000000  1.000000\n",
       "1     1      2  6.534663  6.534663  6.534663     0.000000  0.369808\n",
       "2     1      2  6.331280  6.331280  6.331280     9.550876  0.601732\n",
       "3     1      3  7.017721  7.017721  7.017721    11.446786  3.311974\n",
       "4     1      2  6.635595  6.635595  6.635595    11.115592  0.553101"
      ]
     },
     "execution_count": 62,
     "metadata": {},
     "output_type": "execute_result"
    }
   ],
   "source": [
    "df['iptw'] = iptw.ravel()\n",
    "df.head()"
   ]
  },
  {
   "cell_type": "code",
   "execution_count": 63,
   "id": "a35dc4e1-ce2f-48b6-a5ea-ceea6b86dd52",
   "metadata": {},
   "outputs": [
    {
     "name": "stdout",
     "output_type": "stream",
     "text": [
      "0\n"
     ]
    }
   ],
   "source": [
    "print(df['iptw'].isnull().sum())"
   ]
  },
  {
   "cell_type": "code",
   "execution_count": 69,
   "id": "d8758cff-40cf-4f03-9259-bc91365e45a5",
   "metadata": {},
   "outputs": [
    {
     "name": "stdout",
     "output_type": "stream",
     "text": [
      "[[8.14668851e+00 4.27172039e+00 9.57152818e+00 1.29473809e-01\n",
      "  4.89111402e+00 3.31332116e+00 6.57198936e+00 5.89150892e+00\n",
      "  2.08782018e+00 1.41039250e+00 4.44300952e+00 1.40271531e+00\n",
      "  1.18227070e+00 3.94648480e-04 1.47454706e-03 2.11647556e+00\n",
      "  2.25751280e-01 9.04040924e+00 7.30234811e+00 9.07132896e+00\n",
      "  0.00000000e+00            nan]\n",
      " [6.58047751e+00 7.34369704e+00 7.80011797e+00 4.17432398e+00\n",
      "  3.33717467e+00 2.97503452e+00 3.71309810e+00 5.55676258e+00\n",
      "  5.69224080e+00 5.42839847e+00 5.99911495e+00 5.74512088e+00\n",
      "  5.50711886e+00 4.88172853e+00 6.61084459e+00 6.10034328e+00\n",
      "  7.79003007e+00 4.74428812e+00 7.16437448e+00 6.10971358e+00\n",
      "  5.84063982e+00 6.57782987e+00]\n",
      " [6.79259377e+00 6.89666874e+00 7.16403428e+00 4.47226741e+00\n",
      "  3.45521455e+00 3.57754879e+00 4.10317375e+00 5.13083457e+00\n",
      "  5.67995118e+00 5.63768357e+00 5.69337512e+00 5.70310507e+00\n",
      "  6.07474067e+00 5.08659111e+00 6.62428336e+00 6.19728357e+00\n",
      "  7.12825775e+00 5.77679464e+00 6.79947672e+00 6.10178674e+00\n",
      "  5.83655859e+00 6.33203117e+00]\n",
      " [7.04803476e+00 7.28275182e+00 7.42451399e+00 5.43235025e+00\n",
      "  4.67547505e+00 6.63265418e+00 6.06469048e+00 6.44907752e+00\n",
      "  6.30533511e+00 6.58923900e+00 6.57114753e+00 6.64282799e+00\n",
      "  6.60189238e+00 6.10551691e+00 6.73262509e+00 6.77344414e+00\n",
      "  7.00143771e+00 6.09755609e+00 6.49485531e+00 6.51165983e+00\n",
      "  6.39670507e+00 6.66806279e+00]\n",
      " [7.15737854e+00 8.05950637e+00 8.22591806e+00 7.04838257e+00\n",
      "             nan 0.00000000e+00 3.92296491e+00 6.66239594e+00\n",
      "  7.65979128e+00 7.63861960e+00 7.75791943e+00 7.61852016e+00\n",
      "  7.84368352e+00 7.97425611e+00 8.00517842e+00 8.07396519e+00\n",
      "  8.18419050e+00 7.51197367e+00 8.01955087e+00 7.77261525e+00\n",
      "  7.81516215e+00 7.78468915e+00]]\n",
      "(5, 22)\n"
     ]
    }
   ],
   "source": [
    "# 计算动态处置效应\n",
    "# 计算加权平均值的函数\n",
    "def weighted_avg(group, avg_name, weight_name):\n",
    "    d = group[avg_name]\n",
    "    w = 1/group[weight_name]\n",
    "    try:\n",
    "        return (d * w).sum() / w.sum()\n",
    "    except ZeroDivisionError:\n",
    "        return np.nan\n",
    "\n",
    "# 使用groupby按照'week'和'label'分组，并计算加权平均值\n",
    "weighted_averages = df.groupby(['week', 'label']).apply(weighted_avg, 'observation', 'iptw')\n",
    "\n",
    "# 重新排列结果，使其变成(num_labels, num_weeks)的二维结构\n",
    "results = weighted_averages.unstack()\n",
    "\n",
    "# 如果你想要得到一个numpy array而不是pandas DataFrame\n",
    "results = results.values.T\n",
    "print(results)\n",
    "print(results.shape)"
   ]
  },
  {
   "cell_type": "code",
   "execution_count": 70,
   "id": "fc8ce6ed-658b-4e6d-b308-823512846254",
   "metadata": {},
   "outputs": [
    {
     "data": {
      "image/png": "[encoded data removed]",
      "text/plain": [
       "<Figure size 1800x216 with 10 Axes>"
      ]
     },
     "metadata": {
      "needs_background": "light"
     },
     "output_type": "display_data"
    }
   ],
   "source": [
    "fig, ax = plt.subplots(1,5, figsize=(25,3))\n",
    "for label in range(label_counts):\n",
    "    crd = (results[label,]-results[2,:])/results[2,:]\n",
    "    ax[label].plot(crd)\n",
    "    ax[label].axhline(0, color='grey', linestyle='--')  # 添加y=0的线\n",
    "    ax[label].set_ylim([-1,1])\n",
    "    \n",
    "    # 创建共享x轴的第二y轴\n",
    "    ax2 = ax[label].twinx()\n",
    "    # 在第二y轴上绘制案例数据\n",
    "    ax2.bar(np.arange(len(case_in_week)), case_in_week, color='grey', alpha=0.3)\n",
    "    ax2.set_ylim([0, 300])  # 设置第二y轴的范围，你可以根据需要调整\n",
    "    ax2.set_yticklabels([])\n",
    "    #ax2.set_ylabel('Case')"
   ]
  },
  {
   "cell_type": "code",
   "execution_count": null,
   "id": "2a0f3ce2-d473-4e50-8180-208e6406816e",
   "metadata": {},
   "outputs": [],
   "source": []
  }
 ],
 "metadata": {
  "kernelspec": {
   "display_name": "Python 3 (ipykernel)",
   "language": "python",
   "name": "python3"
  },
  "language_info": {
   "codemirror_mode": {
    "name": "ipython",
    "version": 3
   },
   "file_extension": ".py",
   "mimetype": "text/x-python",
   "name": "python",
   "nbconvert_exporter": "python",
   "pygments_lexer": "ipython3",
   "version": "3.8.10"
  }
 },
 "nbformat": 4,
 "nbformat_minor": 5
}
