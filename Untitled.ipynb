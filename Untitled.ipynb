{
 "cells": [
  {
   "cell_type": "code",
   "execution_count": 11,
   "id": "7b4fcbf9-927e-437d-ad2a-68235a1b1623",
   "metadata": {},
   "outputs": [],
   "source": [
    "import os\n",
    "import pandas as pd\n",
    "import numpy as np\n",
    "import matplotlib.pyplot as plt"
   ]
  },
  {
   "cell_type": "code",
   "execution_count": 2,
   "id": "eb8bc825-4135-4570-b2bc-974cb24246c8",
   "metadata": {},
   "outputs": [],
   "source": [
    "net_name = 'treatment_rnn'\n",
    "expt_name = 'tf2_test'\n",
    "MODEL_ROOT = 'results/rmsn_tf2_test_use_confounders_False'\n",
    "model_folder = os.path.join(MODEL_ROOT, net_name)"
   ]
  },
  {
   "cell_type": "code",
   "execution_count": 3,
   "id": "370a3b76-13af-4ff7-ade3-7e714df7e554",
   "metadata": {},
   "outputs": [],
   "source": [
    "def load_hyperparameter_results(model_folder,\n",
    "                               net_name):\n",
    "\n",
    "    save_name = os.path.join(model_folder, net_name+\".csv\")\n",
    "    if os.path.exists(save_name):\n",
    "        return pd.read_csv(save_name, index_col=0)\n",
    "    else:\n",
    "        return pd.DataFrame()"
   ]
  },
  {
   "cell_type": "code",
   "execution_count": 10,
   "id": "aa2ad710-b7e6-4352-8d9f-d66bc25a0ed8",
   "metadata": {},
   "outputs": [
    {
     "data": {
      "text/html": [
       "<div>\n",
       "<style scoped>\n",
       "    .dataframe tbody tr th:only-of-type {\n",
       "        vertical-align: middle;\n",
       "    }\n",
       "\n",
       "    .dataframe tbody tr th {\n",
       "        vertical-align: top;\n",
       "    }\n",
       "\n",
       "    .dataframe thead th {\n",
       "        text-align: right;\n",
       "    }\n",
       "</style>\n",
       "<table border=\"1\" class=\"dataframe\">\n",
       "  <thead>\n",
       "    <tr style=\"text-align: right;\">\n",
       "      <th></th>\n",
       "    </tr>\n",
       "  </thead>\n",
       "  <tbody>\n",
       "  </tbody>\n",
       "</table>\n",
       "</div>"
      ],
      "text/plain": [
       "Empty DataFrame\n",
       "Columns: []\n",
       "Index: []"
      ]
     },
     "execution_count": 10,
     "metadata": {},
     "output_type": "execute_result"
    }
   ],
   "source": [
    "hyperparams_df"
   ]
  },
  {
   "cell_type": "code",
   "execution_count": 7,
   "id": "f8be6a35-083c-48d5-87e6-a01224f72c73",
   "metadata": {},
   "outputs": [],
   "source": [
    "hyperparams_df = load_hyperparameter_results(model_folder, net_name)\n",
    "validation_scores = hyperparams_df.loc[\"validation_loss\"]\n",
    "# Select optimal\n",
    "best_score = validation_scores.min()\n",
    "names = np.array(validation_scores.index)\n",
    "best_expt = names[validation_scores==best_score][0]\n",
    "serialisation_string = best_expt.replace(net_name+\"_\", \"\")"
   ]
  },
  {
   "cell_type": "code",
   "execution_count": 8,
   "id": "0066d916-605c-4be0-8427-2a4f434e872f",
   "metadata": {},
   "outputs": [
    {
     "data": {
      "text/plain": [
       "'0.1_112_10_64_0.01_1.0_60'"
      ]
     },
     "execution_count": 8,
     "metadata": {},
     "output_type": "execute_result"
    }
   ],
   "source": [
    "serialisation_string"
   ]
  },
  {
   "cell_type": "code",
   "execution_count": 9,
   "id": "f817f002-0ad5-47b1-b422-3573c49c1346",
   "metadata": {},
   "outputs": [],
   "source": [
    "spec = serialisation_string.split(\"_\")\n",
    "dropout_rate = float(spec[0])\n",
    "hidden_layer_size = int(spec[1])\n",
    "num_epochs = int(spec[2])\n",
    "minibatch_size = int(spec[3])\n",
    "learning_rate = float(spec[4])\n",
    "max_norm = float(spec[5])"
   ]
  },
  {
   "cell_type": "code",
   "execution_count": 10,
   "id": "e317ffe4-78af-452a-82ee-7a7fd0e8c4cf",
   "metadata": {},
   "outputs": [],
   "source": [
    "mse_dict={}\n",
    "mse_dict['model1']=1"
   ]
  },
  {
   "cell_type": "code",
   "execution_count": 14,
   "id": "a0b235fe-6b76-46c8-a36a-6c52bc36a349",
   "metadata": {},
   "outputs": [
    {
     "data": {
      "text/plain": [
       "1"
      ]
     },
     "execution_count": 14,
     "metadata": {},
     "output_type": "execute_result"
    }
   ],
   "source": [
    "mse_dict[list(mse_dict)[0]]"
   ]
  },
  {
   "cell_type": "code",
   "execution_count": 15,
   "id": "f5c8e7c8-00ce-4281-96cc-3e4edf69d49e",
   "metadata": {},
   "outputs": [],
   "source": [
    "from utils.evaluation_utils import load_data_from_file, write_results_to_file"
   ]
  },
  {
   "cell_type": "code",
   "execution_count": 19,
   "id": "dcd68f26-816b-4a21-b428-fcd00571ad75",
   "metadata": {},
   "outputs": [
    {
     "name": "stdout",
     "output_type": "stream",
     "text": [
      "previous_covariates\n",
      "(30000, 160, 25)\n",
      "previous_treatments\n",
      "(30000, 160, 3)\n",
      "covariates\n",
      "(30000, 161, 25)\n",
      "treatments\n",
      "(30000, 161, 3)\n",
      "sequence_length\n",
      "(30000,)\n",
      "outcomes\n",
      "(30000, 161, 1)\n",
      "predicted_confounders\n",
      "(30000, 161, 1)\n"
     ]
    }
   ],
   "source": [
    "dataset = load_data_from_file(\"../fillmean_10000_gamma_0.6_dataset_with_substitute_confounders.txt\")\n",
    "# 数据类型转换\n",
    "for key in dataset.keys():\n",
    "    print(key)\n",
    "    print(dataset[key].shape)"
   ]
  },
  {
   "cell_type": "code",
   "execution_count": 24,
   "id": "a200a826-bd30-41ef-a2db-f0e61e07524b",
   "metadata": {},
   "outputs": [],
   "source": [
    "column_index = 13\n",
    "selected_indices = np.where(dataset['covariates'][:, :, column_index] == 1)[0]\n",
    "unique_selected_indices = np.unique(selected_indices)\n",
    "for key in dataset.keys():\n",
    "    dataset[key] = dataset[key][unique_selected_indices]"
   ]
  },
  {
   "cell_type": "code",
   "execution_count": 25,
   "id": "16d2eb38-8699-413c-aa04-ef9830e1abfd",
   "metadata": {},
   "outputs": [
    {
     "name": "stdout",
     "output_type": "stream",
     "text": [
      "previous_covariates\n",
      "(10000, 160, 25)\n",
      "previous_treatments\n",
      "(10000, 160, 3)\n",
      "covariates\n",
      "(10000, 161, 25)\n",
      "treatments\n",
      "(10000, 161, 3)\n",
      "sequence_length\n",
      "(10000,)\n",
      "outcomes\n",
      "(10000, 161, 1)\n",
      "predicted_confounders\n",
      "(10000, 161, 1)\n"
     ]
    }
   ],
   "source": [
    "for key in dataset.keys():\n",
    "    print(key)\n",
    "    print(dataset[key].shape)"
   ]
  },
  {
   "cell_type": "code",
   "execution_count": 4,
   "id": "57d6b3e7-b0da-46e5-a2c1-0f3ca5047d6a",
   "metadata": {},
   "outputs": [
    {
     "data": {
      "text/plain": [
       "array([[[ 1.        ],\n",
       "        [ 0.13597901],\n",
       "        [-0.15800852],\n",
       "        ...,\n",
       "        [ 1.59939981],\n",
       "        [ 0.23628865],\n",
       "        [-0.4154717 ]],\n",
       "\n",
       "       [[ 1.        ],\n",
       "        [-0.10867523],\n",
       "        [ 0.00314635],\n",
       "        ...,\n",
       "        [ 1.57633126],\n",
       "        [ 1.03521395],\n",
       "        [ 0.47885451]],\n",
       "\n",
       "       [[ 1.        ],\n",
       "        [-0.39211932],\n",
       "        [ 0.19664186],\n",
       "        ...,\n",
       "        [ 0.69712919],\n",
       "        [ 0.18974157],\n",
       "        [ 0.17216602]],\n",
       "\n",
       "       ...,\n",
       "\n",
       "       [[ 1.        ],\n",
       "        [ 2.50386286],\n",
       "        [ 1.5874294 ],\n",
       "        ...,\n",
       "        [ 1.36374629],\n",
       "        [ 1.00975108],\n",
       "        [ 2.44649005]],\n",
       "\n",
       "       [[ 1.        ],\n",
       "        [ 0.5298714 ],\n",
       "        [-2.99029613],\n",
       "        ...,\n",
       "        [ 0.98697948],\n",
       "        [ 0.98992515],\n",
       "        [ 0.98608822]],\n",
       "\n",
       "       [[ 1.        ],\n",
       "        [ 1.81350231],\n",
       "        [ 1.50492346],\n",
       "        ...,\n",
       "        [ 0.93290931],\n",
       "        [ 0.65928423],\n",
       "        [ 0.99981314]]])"
      ]
     },
     "execution_count": 4,
     "metadata": {},
     "output_type": "execute_result"
    }
   ],
   "source": [
    "ps = np.load(\"results/rmsn_result_test_use_confounders_True/propensity_scores.npy\")\n",
    "ps"
   ]
  },
  {
   "cell_type": "markdown",
   "id": "bdfdeef8-88e2-4253-8dad-fe31b22d8c22",
   "metadata": {},
   "source": [
    "# ps check"
   ]
  },
  {
   "cell_type": "code",
   "execution_count": 2,
   "id": "b3e7a234-a3e0-4421-91ef-1667bdd5861b",
   "metadata": {},
   "outputs": [],
   "source": [
    "probs = np.load(\"results/rmsn_result_test_use_confounders_True/predictions.npy\")\n",
    "targets = np.load(\"results/rmsn_result_test_use_confounders_True/targets.npy\")"
   ]
  },
  {
   "cell_type": "code",
   "execution_count": 9,
   "id": "dcb5823e-cc32-4371-b933-ebde5b96ef3f",
   "metadata": {},
   "outputs": [
    {
     "data": {
      "text/plain": [
       "array([0., 0., 0., 0., 0., 0., 0., 0., 0., 0., 0., 0., 0., 0., 0., 0., 0.,\n",
       "       0., 0., 0., 0., 0., 0., 0., 0., 0., 0., 0., 0., 0., 0., 0., 0., 0.,\n",
       "       0., 0., 0., 0., 0., 0., 0., 0., 0., 0., 0., 0., 0., 0., 0., 0., 0.,\n",
       "       0., 0., 0., 0., 0., 0., 0., 0., 0., 0., 0., 0., 0., 0., 0., 0., 0.,\n",
       "       0., 0., 0., 0., 0., 0., 0., 0., 0., 0., 0., 0., 0., 0., 0., 0., 0.,\n",
       "       0., 0., 0., 0., 0., 0., 0., 0., 0., 0., 0., 0., 0., 0., 0., 0., 0.,\n",
       "       0., 0., 0., 0., 0., 0., 0., 0., 0., 0.], dtype=float32)"
      ]
     },
     "execution_count": 9,
     "metadata": {},
     "output_type": "execute_result"
    }
   ],
   "source": [
    "probs[np.where(probs==0)]"
   ]
  },
  {
   "cell_type": "code",
   "execution_count": 5,
   "id": "fcfd2177-93ac-4c57-a65e-d2d8a29e62b9",
   "metadata": {},
   "outputs": [
    {
     "data": {
      "text/plain": [
       "array([[[ 0.8803056 ,  0.        ,  0.        ],\n",
       "        [ 1.0930394 ,  0.        ,  0.        ],\n",
       "        [ 0.90064514,  0.        ,  0.        ],\n",
       "        ...,\n",
       "        [ 0.8172243 ,  0.        ,  0.        ],\n",
       "        [ 1.276028  ,  0.        ,  0.        ],\n",
       "        [ 1.2007364 ,  0.        ,  0.        ]],\n",
       "\n",
       "       [[-0.12232261,  0.        ,  0.        ],\n",
       "        [ 0.00316437,  0.        ,  0.        ],\n",
       "        [-0.13508606,  0.        ,  0.        ],\n",
       "        ...,\n",
       "        [ 0.09026555,  0.        ,  0.        ],\n",
       "        [ 0.2688298 ,  0.        ,  0.        ],\n",
       "        [ 1.0825646 ,  0.        ,  0.        ]],\n",
       "\n",
       "       [[-0.8009735 ,  0.        ,  0.        ],\n",
       "        [-1.1336212 ,  0.        ,  0.        ],\n",
       "        [-1.2255515 ,  0.        ,  0.        ],\n",
       "        ...,\n",
       "        [-0.95063674,  0.        ,  0.        ],\n",
       "        [-0.5689131 ,  0.        ,  0.        ],\n",
       "        [-0.47271782,  0.        ,  0.        ]],\n",
       "\n",
       "       ...,\n",
       "\n",
       "       [[ 0.1351152 ,  0.        ,  0.        ],\n",
       "        [-0.21213508,  0.        ,  0.        ],\n",
       "        [-0.1253375 ,  0.        ,  0.        ],\n",
       "        ...,\n",
       "        [ 0.22284089,  0.        ,  0.        ],\n",
       "        [ 0.18858853,  0.        ,  0.        ],\n",
       "        [-0.06253067,  0.        ,  0.        ]],\n",
       "\n",
       "       [[ 0.66183716,  0.        ,  0.        ],\n",
       "        [-0.5001571 ,  0.        ,  0.        ],\n",
       "        [-0.38416663,  0.        ,  0.        ],\n",
       "        ...,\n",
       "        [-1.0297035 ,  0.        ,  0.        ],\n",
       "        [-0.03395974,  0.        ,  0.        ],\n",
       "        [-0.02896828,  0.        ,  0.        ]],\n",
       "\n",
       "       [[-0.21288627,  0.        ,  0.        ],\n",
       "        [ 0.7664897 ,  0.        ,  0.        ],\n",
       "        [-0.31636032,  0.        ,  0.        ],\n",
       "        ...,\n",
       "        [ 0.32439792,  0.        ,  0.        ],\n",
       "        [ 0.7055488 ,  0.        ,  0.        ],\n",
       "        [ 1.6748748 ,  0.        ,  0.        ]]], dtype=float32)"
      ]
     },
     "execution_count": 5,
     "metadata": {},
     "output_type": "execute_result"
    }
   ],
   "source": [
    "targets"
   ]
  },
  {
   "cell_type": "code",
   "execution_count": 6,
   "id": "2832fdcf-2fcb-4b81-8b19-66b23336e355",
   "metadata": {},
   "outputs": [
    {
     "data": {
      "text/plain": [
       "True"
      ]
     },
     "execution_count": 6,
     "metadata": {},
     "output_type": "execute_result"
    }
   ],
   "source": [
    "w = probs*targets + (1-probs) * (1-targets)\n",
    "np.any(w==0)"
   ]
  },
  {
   "cell_type": "code",
   "execution_count": 12,
   "id": "3c7d8e5e-2ee2-47bc-8072-37cbdbe42403",
   "metadata": {},
   "outputs": [
    {
     "data": {
      "image/png": "[encoded data removed]",
      "text/plain": [
       "<Figure size 2000x400 with 3 Axes>"
      ]
     },
     "metadata": {},
     "output_type": "display_data"
    }
   ],
   "source": [
    "num_plots = probs.shape[2]\n",
    "\n",
    "# Create a figure and a set of subplots\n",
    "fig, axs = plt.subplots(1, num_plots, figsize=(20, 4))\n",
    "\n",
    "for i in range(num_plots):\n",
    "    # Extract data for each third dimension\n",
    "    column_data = probs[:, :, i].flatten()\n",
    "    axs[i].hist(column_data, bins=50, alpha=0.75)\n",
    "    axs[i].set_title(f'Distribution of 3rd Dimension - Column {i+1}')\n",
    "\n",
    "plt.tight_layout()\n",
    "plt.show()"
   ]
  },
  {
   "cell_type": "code",
   "execution_count": 14,
   "id": "99e2705f-2e00-4adb-b5f8-586a1647986b",
   "metadata": {},
   "outputs": [
    {
     "data": {
      "text/plain": [
       "array([1.9158706e-17, 4.1154965e-17, 4.6002674e-17, ..., 9.9999976e-01,\n",
       "       9.9999988e-01, 1.0000000e+00], dtype=float32)"
      ]
     },
     "execution_count": 14,
     "metadata": {},
     "output_type": "execute_result"
    }
   ],
   "source": [
    "np.unique(probs[:,:,1])"
   ]
  },
  {
   "cell_type": "code",
   "execution_count": 18,
   "id": "54fc8fec-6d77-4362-b279-f1d90b77f8ee",
   "metadata": {},
   "outputs": [
    {
     "data": {
      "text/plain": [
       "(array([4.54245e+05, 1.19000e+02, 2.20000e+01, 2.00000e+01, 6.00000e+00,\n",
       "        1.30000e+01, 2.00000e+00, 5.00000e+00, 1.00000e+00, 1.00000e+00,\n",
       "        0.00000e+00, 1.00000e+00, 5.00000e+00, 2.00000e+00, 1.00000e+00,\n",
       "        1.00000e+00, 1.00000e+00, 1.00000e+00, 0.00000e+00, 0.00000e+00,\n",
       "        0.00000e+00, 0.00000e+00, 1.00000e+00, 0.00000e+00, 3.00000e+00,\n",
       "        0.00000e+00, 2.00000e+00, 2.00000e+00, 2.00000e+00, 2.00000e+00,\n",
       "        0.00000e+00, 0.00000e+00, 2.00000e+00, 2.00000e+00, 0.00000e+00,\n",
       "        0.00000e+00, 1.00000e+00, 1.00000e+00, 3.00000e+00, 3.00000e+00,\n",
       "        0.00000e+00, 4.00000e+00, 2.00000e+00, 4.00000e+00, 3.00000e+00,\n",
       "        1.30000e+01, 5.00000e+00, 1.70000e+01, 2.10000e+01, 2.23543e+05]),\n",
       " array([5.30142622e-16, 1.99999996e-02, 3.99999991e-02, 5.99999987e-02,\n",
       "        7.99999982e-02, 1.00000001e-01, 1.19999997e-01, 1.40000001e-01,\n",
       "        1.59999996e-01, 1.80000007e-01, 2.00000003e-01, 2.19999999e-01,\n",
       "        2.39999995e-01, 2.59999990e-01, 2.80000001e-01, 3.00000012e-01,\n",
       "        3.19999993e-01, 3.40000004e-01, 3.60000014e-01, 3.79999995e-01,\n",
       "        4.00000006e-01, 4.19999987e-01, 4.39999998e-01, 4.60000008e-01,\n",
       "        4.79999989e-01, 5.00000000e-01, 5.19999981e-01, 5.40000021e-01,\n",
       "        5.60000002e-01, 5.79999983e-01, 6.00000024e-01, 6.20000005e-01,\n",
       "        6.39999986e-01, 6.60000026e-01, 6.80000007e-01, 6.99999988e-01,\n",
       "        7.20000029e-01, 7.40000010e-01, 7.59999990e-01, 7.79999971e-01,\n",
       "        8.00000012e-01, 8.19999993e-01, 8.39999974e-01, 8.60000014e-01,\n",
       "        8.79999995e-01, 8.99999976e-01, 9.20000017e-01, 9.39999998e-01,\n",
       "        9.59999979e-01, 9.80000019e-01, 1.00000000e+00]),\n",
       " <BarContainer object of 50 artists>)"
      ]
     },
     "execution_count": 18,
     "metadata": {},
     "output_type": "execute_result"
    },
    {
     "data": {
      "image/png": "[encoded data removed]",
      "text/plain": [
       "<Figure size 640x480 with 1 Axes>"
      ]
     },
     "metadata": {},
     "output_type": "display_data"
    }
   ],
   "source": [
    "plt.hist(probs[np.where(targets==1)], bins=50)"
   ]
  },
  {
   "cell_type": "code",
   "execution_count": null,
   "id": "769ff1f6-ee79-4981-9e36-5aaa08a1199d",
   "metadata": {},
   "outputs": [],
   "source": [
    "output_size = 1\n",
    "b_use_seq2seq_training_mode = False\n",
    "\n",
    "lstm_additional_size = output_size if not b_use_seq2seq_training_mode and b_use_seq2seq_feedback else 0"
   ]
  }
 ],
 "metadata": {
  "kernelspec": {
   "display_name": "new_causal",
   "language": "python",
   "name": "new_causal"
  },
  "language_info": {
   "codemirror_mode": {
    "name": "ipython",
    "version": 3
   },
   "file_extension": ".py",
   "mimetype": "text/x-python",
   "name": "python",
   "nbconvert_exporter": "python",
   "pygments_lexer": "ipython3",
   "version": "3.8.10"
  }
 },
 "nbformat": 4,
 "nbformat_minor": 5
}
