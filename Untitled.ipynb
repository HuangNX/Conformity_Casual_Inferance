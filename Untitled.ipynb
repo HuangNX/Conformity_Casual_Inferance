{
 "cells": [
  {
   "cell_type": "code",
   "execution_count": 1,
   "id": "7b4fcbf9-927e-437d-ad2a-68235a1b1623",
   "metadata": {},
   "outputs": [],
   "source": [
    "import os\n",
    "import pandas as pd\n",
    "import numpy as np"
   ]
  },
  {
   "cell_type": "code",
   "execution_count": 2,
   "id": "eb8bc825-4135-4570-b2bc-974cb24246c8",
   "metadata": {},
   "outputs": [],
   "source": [
    "net_name = 'treatment_rnn'\n",
    "expt_name = 'tf2_test'\n",
    "MODEL_ROOT = 'results/rmsn_tf2_test_use_confounders_False'\n",
    "model_folder = os.path.join(MODEL_ROOT, net_name)"
   ]
  },
  {
   "cell_type": "code",
   "execution_count": 3,
   "id": "370a3b76-13af-4ff7-ade3-7e714df7e554",
   "metadata": {},
   "outputs": [],
   "source": [
    "def load_hyperparameter_results(model_folder,\n",
    "                               net_name):\n",
    "\n",
    "    save_name = os.path.join(model_folder, net_name+\".csv\")\n",
    "    if os.path.exists(save_name):\n",
    "        return pd.read_csv(save_name, index_col=0)\n",
    "    else:\n",
    "        return pd.DataFrame()"
   ]
  },
  {
   "cell_type": "code",
   "execution_count": 10,
   "id": "aa2ad710-b7e6-4352-8d9f-d66bc25a0ed8",
   "metadata": {},
   "outputs": [
    {
     "data": {
      "text/html": [
       "<div>\n",
       "<style scoped>\n",
       "    .dataframe tbody tr th:only-of-type {\n",
       "        vertical-align: middle;\n",
       "    }\n",
       "\n",
       "    .dataframe tbody tr th {\n",
       "        vertical-align: top;\n",
       "    }\n",
       "\n",
       "    .dataframe thead th {\n",
       "        text-align: right;\n",
       "    }\n",
       "</style>\n",
       "<table border=\"1\" class=\"dataframe\">\n",
       "  <thead>\n",
       "    <tr style=\"text-align: right;\">\n",
       "      <th></th>\n",
       "    </tr>\n",
       "  </thead>\n",
       "  <tbody>\n",
       "  </tbody>\n",
       "</table>\n",
       "</div>"
      ],
      "text/plain": [
       "Empty DataFrame\n",
       "Columns: []\n",
       "Index: []"
      ]
     },
     "execution_count": 10,
     "metadata": {},
     "output_type": "execute_result"
    }
   ],
   "source": [
    "hyperparams_df"
   ]
  },
  {
   "cell_type": "code",
   "execution_count": 7,
   "id": "f8be6a35-083c-48d5-87e6-a01224f72c73",
   "metadata": {},
   "outputs": [],
   "source": [
    "hyperparams_df = load_hyperparameter_results(model_folder, net_name)\n",
    "validation_scores = hyperparams_df.loc[\"validation_loss\"]\n",
    "# Select optimal\n",
    "best_score = validation_scores.min()\n",
    "names = np.array(validation_scores.index)\n",
    "best_expt = names[validation_scores==best_score][0]\n",
    "serialisation_string = best_expt.replace(net_name+\"_\", \"\")"
   ]
  },
  {
   "cell_type": "code",
   "execution_count": 8,
   "id": "0066d916-605c-4be0-8427-2a4f434e872f",
   "metadata": {},
   "outputs": [
    {
     "data": {
      "text/plain": [
       "'0.1_112_10_64_0.01_1.0_60'"
      ]
     },
     "execution_count": 8,
     "metadata": {},
     "output_type": "execute_result"
    }
   ],
   "source": [
    "serialisation_string"
   ]
  },
  {
   "cell_type": "code",
   "execution_count": 9,
   "id": "f817f002-0ad5-47b1-b422-3573c49c1346",
   "metadata": {},
   "outputs": [],
   "source": [
    "spec = serialisation_string.split(\"_\")\n",
    "dropout_rate = float(spec[0])\n",
    "hidden_layer_size = int(spec[1])\n",
    "num_epochs = int(spec[2])\n",
    "minibatch_size = int(spec[3])\n",
    "learning_rate = float(spec[4])\n",
    "max_norm = float(spec[5])"
   ]
  },
  {
   "cell_type": "code",
   "execution_count": 10,
   "id": "e317ffe4-78af-452a-82ee-7a7fd0e8c4cf",
   "metadata": {},
   "outputs": [],
   "source": [
    "mse_dict={}\n",
    "mse_dict['model1']=1"
   ]
  },
  {
   "cell_type": "code",
   "execution_count": 14,
   "id": "a0b235fe-6b76-46c8-a36a-6c52bc36a349",
   "metadata": {},
   "outputs": [
    {
     "data": {
      "text/plain": [
       "1"
      ]
     },
     "execution_count": 14,
     "metadata": {},
     "output_type": "execute_result"
    }
   ],
   "source": [
    "mse_dict[list(mse_dict)[0]]"
   ]
  },
  {
   "cell_type": "code",
   "execution_count": 15,
   "id": "f5c8e7c8-00ce-4281-96cc-3e4edf69d49e",
   "metadata": {},
   "outputs": [],
   "source": [
    "from utils.evaluation_utils import load_data_from_file, write_results_to_file"
   ]
  },
  {
   "cell_type": "code",
   "execution_count": 19,
   "id": "dcd68f26-816b-4a21-b428-fcd00571ad75",
   "metadata": {},
   "outputs": [
    {
     "name": "stdout",
     "output_type": "stream",
     "text": [
      "previous_covariates\n",
      "(30000, 160, 25)\n",
      "previous_treatments\n",
      "(30000, 160, 3)\n",
      "covariates\n",
      "(30000, 161, 25)\n",
      "treatments\n",
      "(30000, 161, 3)\n",
      "sequence_length\n",
      "(30000,)\n",
      "outcomes\n",
      "(30000, 161, 1)\n",
      "predicted_confounders\n",
      "(30000, 161, 1)\n"
     ]
    }
   ],
   "source": [
    "dataset = load_data_from_file(\"../fillmean_10000_gamma_0.6_dataset_with_substitute_confounders.txt\")\n",
    "# 数据类型转换\n",
    "for key in dataset.keys():\n",
    "    print(key)\n",
    "    print(dataset[key].shape)"
   ]
  },
  {
   "cell_type": "code",
   "execution_count": 24,
   "id": "a200a826-bd30-41ef-a2db-f0e61e07524b",
   "metadata": {},
   "outputs": [],
   "source": [
    "column_index = 13\n",
    "selected_indices = np.where(dataset['covariates'][:, :, column_index] == 1)[0]\n",
    "unique_selected_indices = np.unique(selected_indices)\n",
    "for key in dataset.keys():\n",
    "    dataset[key] = dataset[key][unique_selected_indices]"
   ]
  },
  {
   "cell_type": "code",
   "execution_count": 25,
   "id": "16d2eb38-8699-413c-aa04-ef9830e1abfd",
   "metadata": {},
   "outputs": [
    {
     "name": "stdout",
     "output_type": "stream",
     "text": [
      "previous_covariates\n",
      "(10000, 160, 25)\n",
      "previous_treatments\n",
      "(10000, 160, 3)\n",
      "covariates\n",
      "(10000, 161, 25)\n",
      "treatments\n",
      "(10000, 161, 3)\n",
      "sequence_length\n",
      "(10000,)\n",
      "outcomes\n",
      "(10000, 161, 1)\n",
      "predicted_confounders\n",
      "(10000, 161, 1)\n"
     ]
    }
   ],
   "source": [
    "for key in dataset.keys():\n",
    "    print(key)\n",
    "    print(dataset[key].shape)"
   ]
  },
  {
   "cell_type": "code",
   "execution_count": null,
   "id": "57d6b3e7-b0da-46e5-a2c1-0f3ca5047d6a",
   "metadata": {},
   "outputs": [],
   "source": []
  }
 ],
 "metadata": {
  "kernelspec": {
   "display_name": "new_causal",
   "language": "python",
   "name": "new_causal"
  },
  "language_info": {
   "codemirror_mode": {
    "name": "ipython",
    "version": 3
   },
   "file_extension": ".py",
   "mimetype": "text/x-python",
   "name": "python",
   "nbconvert_exporter": "python",
   "pygments_lexer": "ipython3",
   "version": "3.8.10"
  }
 },
 "nbformat": 4,
 "nbformat_minor": 5
}
